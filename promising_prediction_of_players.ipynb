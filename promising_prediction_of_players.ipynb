{
 "cells": [
  {
   "cell_type": "markdown",
   "id": "e08815ba-c3d9-4e58-8a36-9ad0b8b3f9aa",
   "metadata": {},
   "source": [
    "# 축구선수 유망 예측 여부"
   ]
  },
  {
   "cell_type": "markdown",
   "id": "32b38de9-a566-4800-895a-12c84f50c843",
   "metadata": {},
   "source": [
    "## 스테이지 1. 문제 기반 학습의 이해"
   ]
  },
  {
   "cell_type": "markdown",
   "id": "416ab6b2-0d41-489c-a97a-ee413837fafa",
   "metadata": {},
   "source": [
    "각 구단에서 나중에 활약을 펼칠 선수들을 미리 예측할 수 있다면, 구단의 순위, 재정 모든 방면에서 효율적일 것이다. 축구 선수 데이터를 이용해 유망한 선수인지를 판단하는 스카우터 역할 AI 모델을 만들어보자."
   ]
  },
  {
   "cell_type": "markdown",
   "id": "38b1560c-c68f-4318-8335-061f25661c81",
   "metadata": {},
   "source": [
    "본 프로젝트에서는 16~21세의 축구 선수 데이터를 기반으로 유망성을 예측하는 모델을 만들게 된다. 특히 상관관계 분석을 학습하고 모델에 적용해보자."
   ]
  },
  {
   "cell_type": "markdown",
   "id": "c1057428-a580-45db-9783-b4258d9c29ad",
   "metadata": {},
   "source": [
    "데이터의 칼럼(column)은 총 66개 존재하는데 그 중 일부 칼럼만 살펴보자.\n",
    "* ID: 해당 데이터에서의 고유한 ID\n",
    "* Age: 나이\n",
    "* Height: 신장\n",
    "* Weight: 몸무게\n",
    "* Position: 선수의 포지션\n",
    "* PreferredFoot: 선수가 선호하는 발(왼발/오른발)\n",
    "* AttackingWorkRate: 공격적 플레이에 대한 선호도\n",
    "* DefensiveWorkRate: 수비적 플레이에 대한 선호도\n",
    "* PaceTotal: 속력 및 가속력 종합\n",
    "* ShootingTotal: 선수의 슈팅 능력\n",
    "* PassingTotal: 선수의 전체적인 패스 능력\n",
    "* Composure: 침착함에 대한 점수\n",
    "* Prospect: 선수의 유망 여부(0/1) -> 예측해야하는 값(Target)"
   ]
  },
  {
   "cell_type": "markdown",
   "id": "38d36136-e7c5-4fd3-8bbb-f87cfffa2103",
   "metadata": {},
   "source": [
    "### 1. 데이터 읽어오기"
   ]
  },
  {
   "cell_type": "markdown",
   "id": "ecb8c6e4-42ae-43fb-b4b7-6bfe5aff6a2d",
   "metadata": {},
   "source": [
    "판다스 라이브러리를 불러오고 데이터를 읽어오자"
   ]
  },
  {
   "cell_type": "code",
   "execution_count": 3,
   "id": "2b371611-b897-4b7e-acfa-f39094b057e9",
   "metadata": {},
   "outputs": [],
   "source": [
    "import pandas as pd\n",
    "\n",
    "train = pd.read_csv('data/open/train.csv')\n",
    "test = pd.read_csv('data/open/test.csv')\n",
    "submission = pd.read_csv('data/open/sample_submission.csv')"
   ]
  },
  {
   "cell_type": "markdown",
   "id": "f9086f86-88c9-4059-865b-7322351a48e2",
   "metadata": {},
   "source": [
    "데이터를 확인해보자"
   ]
  },
  {
   "cell_type": "code",
   "execution_count": 4,
   "id": "a041ad85-77ff-4ede-a6b2-e495cb7067de",
   "metadata": {},
   "outputs": [
    {
     "data": {
      "text/html": [
       "<div>\n",
       "<style scoped>\n",
       "    .dataframe tbody tr th:only-of-type {\n",
       "        vertical-align: middle;\n",
       "    }\n",
       "\n",
       "    .dataframe tbody tr th {\n",
       "        vertical-align: top;\n",
       "    }\n",
       "\n",
       "    .dataframe thead th {\n",
       "        text-align: right;\n",
       "    }\n",
       "</style>\n",
       "<table border=\"1\" class=\"dataframe\">\n",
       "  <thead>\n",
       "    <tr style=\"text-align: right;\">\n",
       "      <th></th>\n",
       "      <th>ID</th>\n",
       "      <th>Age</th>\n",
       "      <th>Height</th>\n",
       "      <th>Weight</th>\n",
       "      <th>Position</th>\n",
       "      <th>PreferredFoot</th>\n",
       "      <th>AttackingWorkRate</th>\n",
       "      <th>DefensiveWorkRate</th>\n",
       "      <th>PaceTotal</th>\n",
       "      <th>ShootingTotal</th>\n",
       "      <th>...</th>\n",
       "      <th>CMRating</th>\n",
       "      <th>RMRating</th>\n",
       "      <th>LWBRating</th>\n",
       "      <th>CDMRating</th>\n",
       "      <th>RWBRating</th>\n",
       "      <th>LBRating</th>\n",
       "      <th>CBRating</th>\n",
       "      <th>RBRating</th>\n",
       "      <th>GKRating</th>\n",
       "      <th>Prospect</th>\n",
       "    </tr>\n",
       "  </thead>\n",
       "  <tbody>\n",
       "    <tr>\n",
       "      <th>0</th>\n",
       "      <td>TRAIN_0000</td>\n",
       "      <td>21</td>\n",
       "      <td>182</td>\n",
       "      <td>82</td>\n",
       "      <td>CB</td>\n",
       "      <td>Right</td>\n",
       "      <td>Medium</td>\n",
       "      <td>Medium</td>\n",
       "      <td>4.6377</td>\n",
       "      <td>2.1053</td>\n",
       "      <td>...</td>\n",
       "      <td>4.9315</td>\n",
       "      <td>4.8649</td>\n",
       "      <td>6.1972</td>\n",
       "      <td>6.0000</td>\n",
       "      <td>6.1972</td>\n",
       "      <td>6.4286</td>\n",
       "      <td>6.5278</td>\n",
       "      <td>6.4286</td>\n",
       "      <td>0.875</td>\n",
       "      <td>0</td>\n",
       "    </tr>\n",
       "    <tr>\n",
       "      <th>1</th>\n",
       "      <td>TRAIN_0001</td>\n",
       "      <td>21</td>\n",
       "      <td>160</td>\n",
       "      <td>75</td>\n",
       "      <td>ST</td>\n",
       "      <td>Left</td>\n",
       "      <td>High</td>\n",
       "      <td>Medium</td>\n",
       "      <td>7.3913</td>\n",
       "      <td>7.3684</td>\n",
       "      <td>...</td>\n",
       "      <td>5.8904</td>\n",
       "      <td>6.4865</td>\n",
       "      <td>5.2113</td>\n",
       "      <td>4.4286</td>\n",
       "      <td>5.2113</td>\n",
       "      <td>5.0000</td>\n",
       "      <td>4.1667</td>\n",
       "      <td>5.0000</td>\n",
       "      <td>1.250</td>\n",
       "      <td>0</td>\n",
       "    </tr>\n",
       "    <tr>\n",
       "      <th>2</th>\n",
       "      <td>TRAIN_0002</td>\n",
       "      <td>18</td>\n",
       "      <td>165</td>\n",
       "      <td>60</td>\n",
       "      <td>RB</td>\n",
       "      <td>Right</td>\n",
       "      <td>Medium</td>\n",
       "      <td>Medium</td>\n",
       "      <td>6.2319</td>\n",
       "      <td>3.2895</td>\n",
       "      <td>...</td>\n",
       "      <td>4.9315</td>\n",
       "      <td>5.2703</td>\n",
       "      <td>5.7746</td>\n",
       "      <td>5.1429</td>\n",
       "      <td>5.7746</td>\n",
       "      <td>5.8571</td>\n",
       "      <td>5.0000</td>\n",
       "      <td>5.8571</td>\n",
       "      <td>0.750</td>\n",
       "      <td>0</td>\n",
       "    </tr>\n",
       "    <tr>\n",
       "      <th>3</th>\n",
       "      <td>TRAIN_0003</td>\n",
       "      <td>20</td>\n",
       "      <td>190</td>\n",
       "      <td>72</td>\n",
       "      <td>CB</td>\n",
       "      <td>Right</td>\n",
       "      <td>Medium</td>\n",
       "      <td>Medium</td>\n",
       "      <td>4.7826</td>\n",
       "      <td>1.0526</td>\n",
       "      <td>...</td>\n",
       "      <td>2.3288</td>\n",
       "      <td>2.2973</td>\n",
       "      <td>4.0845</td>\n",
       "      <td>3.7143</td>\n",
       "      <td>4.0845</td>\n",
       "      <td>4.5714</td>\n",
       "      <td>4.5833</td>\n",
       "      <td>4.5714</td>\n",
       "      <td>0.875</td>\n",
       "      <td>0</td>\n",
       "    </tr>\n",
       "    <tr>\n",
       "      <th>4</th>\n",
       "      <td>TRAIN_0004</td>\n",
       "      <td>21</td>\n",
       "      <td>181</td>\n",
       "      <td>77</td>\n",
       "      <td>ST</td>\n",
       "      <td>Right</td>\n",
       "      <td>High</td>\n",
       "      <td>Medium</td>\n",
       "      <td>8.2609</td>\n",
       "      <td>7.3684</td>\n",
       "      <td>...</td>\n",
       "      <td>6.3014</td>\n",
       "      <td>7.5676</td>\n",
       "      <td>5.2113</td>\n",
       "      <td>4.2857</td>\n",
       "      <td>5.2113</td>\n",
       "      <td>4.7143</td>\n",
       "      <td>3.3333</td>\n",
       "      <td>4.7143</td>\n",
       "      <td>1.125</td>\n",
       "      <td>0</td>\n",
       "    </tr>\n",
       "  </tbody>\n",
       "</table>\n",
       "<p>5 rows × 66 columns</p>\n",
       "</div>"
      ],
      "text/plain": [
       "           ID  Age  Height  Weight Position PreferredFoot AttackingWorkRate  \\\n",
       "0  TRAIN_0000   21     182      82       CB         Right            Medium   \n",
       "1  TRAIN_0001   21     160      75       ST          Left              High   \n",
       "2  TRAIN_0002   18     165      60       RB         Right            Medium   \n",
       "3  TRAIN_0003   20     190      72       CB         Right            Medium   \n",
       "4  TRAIN_0004   21     181      77       ST         Right              High   \n",
       "\n",
       "  DefensiveWorkRate  PaceTotal  ShootingTotal  ...  CMRating  RMRating  \\\n",
       "0            Medium     4.6377         2.1053  ...    4.9315    4.8649   \n",
       "1            Medium     7.3913         7.3684  ...    5.8904    6.4865   \n",
       "2            Medium     6.2319         3.2895  ...    4.9315    5.2703   \n",
       "3            Medium     4.7826         1.0526  ...    2.3288    2.2973   \n",
       "4            Medium     8.2609         7.3684  ...    6.3014    7.5676   \n",
       "\n",
       "   LWBRating  CDMRating  RWBRating  LBRating  CBRating  RBRating  GKRating  \\\n",
       "0     6.1972     6.0000     6.1972    6.4286    6.5278    6.4286     0.875   \n",
       "1     5.2113     4.4286     5.2113    5.0000    4.1667    5.0000     1.250   \n",
       "2     5.7746     5.1429     5.7746    5.8571    5.0000    5.8571     0.750   \n",
       "3     4.0845     3.7143     4.0845    4.5714    4.5833    4.5714     0.875   \n",
       "4     5.2113     4.2857     5.2113    4.7143    3.3333    4.7143     1.125   \n",
       "\n",
       "   Prospect  \n",
       "0         0  \n",
       "1         0  \n",
       "2         0  \n",
       "3         0  \n",
       "4         0  \n",
       "\n",
       "[5 rows x 66 columns]"
      ]
     },
     "execution_count": 4,
     "metadata": {},
     "output_type": "execute_result"
    }
   ],
   "source": [
    "train.head(5)"
   ]
  },
  {
   "cell_type": "code",
   "execution_count": 7,
   "id": "a438a0cc-8afd-415d-9947-e53d6e8d270f",
   "metadata": {},
   "outputs": [
    {
     "data": {
      "text/html": [
       "<div>\n",
       "<style scoped>\n",
       "    .dataframe tbody tr th:only-of-type {\n",
       "        vertical-align: middle;\n",
       "    }\n",
       "\n",
       "    .dataframe tbody tr th {\n",
       "        vertical-align: top;\n",
       "    }\n",
       "\n",
       "    .dataframe thead th {\n",
       "        text-align: right;\n",
       "    }\n",
       "</style>\n",
       "<table border=\"1\" class=\"dataframe\">\n",
       "  <thead>\n",
       "    <tr style=\"text-align: right;\">\n",
       "      <th></th>\n",
       "      <th>ID</th>\n",
       "      <th>Age</th>\n",
       "      <th>Height</th>\n",
       "      <th>Weight</th>\n",
       "      <th>Position</th>\n",
       "      <th>PreferredFoot</th>\n",
       "      <th>AttackingWorkRate</th>\n",
       "      <th>DefensiveWorkRate</th>\n",
       "      <th>PaceTotal</th>\n",
       "      <th>ShootingTotal</th>\n",
       "      <th>...</th>\n",
       "      <th>LMRating</th>\n",
       "      <th>CMRating</th>\n",
       "      <th>RMRating</th>\n",
       "      <th>LWBRating</th>\n",
       "      <th>CDMRating</th>\n",
       "      <th>RWBRating</th>\n",
       "      <th>LBRating</th>\n",
       "      <th>CBRating</th>\n",
       "      <th>RBRating</th>\n",
       "      <th>GKRating</th>\n",
       "    </tr>\n",
       "  </thead>\n",
       "  <tbody>\n",
       "    <tr>\n",
       "      <th>0</th>\n",
       "      <td>TEST_0000</td>\n",
       "      <td>17</td>\n",
       "      <td>184</td>\n",
       "      <td>75</td>\n",
       "      <td>GK</td>\n",
       "      <td>Right</td>\n",
       "      <td>Medium</td>\n",
       "      <td>Medium</td>\n",
       "      <td>3.7681</td>\n",
       "      <td>5.3947</td>\n",
       "      <td>...</td>\n",
       "      <td>0.1351</td>\n",
       "      <td>0.5479</td>\n",
       "      <td>0.1351</td>\n",
       "      <td>0.2817</td>\n",
       "      <td>0.4286</td>\n",
       "      <td>0.2817</td>\n",
       "      <td>0.2857</td>\n",
       "      <td>0.2778</td>\n",
       "      <td>0.2857</td>\n",
       "      <td>5.50</td>\n",
       "    </tr>\n",
       "    <tr>\n",
       "      <th>1</th>\n",
       "      <td>TEST_0001</td>\n",
       "      <td>19</td>\n",
       "      <td>188</td>\n",
       "      <td>80</td>\n",
       "      <td>ST</td>\n",
       "      <td>Right</td>\n",
       "      <td>High</td>\n",
       "      <td>Medium</td>\n",
       "      <td>4.9275</td>\n",
       "      <td>4.8684</td>\n",
       "      <td>...</td>\n",
       "      <td>4.1892</td>\n",
       "      <td>3.4247</td>\n",
       "      <td>4.1892</td>\n",
       "      <td>3.0986</td>\n",
       "      <td>2.7143</td>\n",
       "      <td>3.0986</td>\n",
       "      <td>3.0000</td>\n",
       "      <td>3.0556</td>\n",
       "      <td>3.0000</td>\n",
       "      <td>0.75</td>\n",
       "    </tr>\n",
       "  </tbody>\n",
       "</table>\n",
       "<p>2 rows × 65 columns</p>\n",
       "</div>"
      ],
      "text/plain": [
       "          ID  Age  Height  Weight Position PreferredFoot AttackingWorkRate  \\\n",
       "0  TEST_0000   17     184      75       GK         Right            Medium   \n",
       "1  TEST_0001   19     188      80       ST         Right              High   \n",
       "\n",
       "  DefensiveWorkRate  PaceTotal  ShootingTotal  ...  LMRating  CMRating  \\\n",
       "0            Medium     3.7681         5.3947  ...    0.1351    0.5479   \n",
       "1            Medium     4.9275         4.8684  ...    4.1892    3.4247   \n",
       "\n",
       "   RMRating  LWBRating  CDMRating  RWBRating  LBRating  CBRating  RBRating  \\\n",
       "0    0.1351     0.2817     0.4286     0.2817    0.2857    0.2778    0.2857   \n",
       "1    4.1892     3.0986     2.7143     3.0986    3.0000    3.0556    3.0000   \n",
       "\n",
       "   GKRating  \n",
       "0      5.50  \n",
       "1      0.75  \n",
       "\n",
       "[2 rows x 65 columns]"
      ]
     },
     "execution_count": 7,
     "metadata": {},
     "output_type": "execute_result"
    }
   ],
   "source": [
    "test.head(2)"
   ]
  },
  {
   "cell_type": "markdown",
   "id": "e79efc8c-e58b-4b6f-a715-0bb40b6a817d",
   "metadata": {},
   "source": [
    "## 스테이지 2. 데이터 탐색 기초"
   ]
  },
  {
   "cell_type": "markdown",
   "id": "417b88ae-3a70-455d-a326-2fd579254a70",
   "metadata": {
    "jp-MarkdownHeadingCollapsed": true
   },
   "source": [
    "### 1. 데이터프레임 통계 확인"
   ]
  },
  {
   "cell_type": "markdown",
   "id": "b226b78f-c928-4826-98f3-8ba470a565a7",
   "metadata": {},
   "source": [
    "describe() 메서드는 데이터프레임에서 **열(column)의 기술 통계량**을 반환한다. 이를 통해 데이터프레임에서 **수치형 데이터로 이루어진 열들의 분포와 중심 경향성, 흩어진 정도** 등을 대략 파악할 수 있고, **이상치 여부** 또한 파악할 수 있다. train 데이터에 결측값은 존재하지 않지만, describe 메서드는 결측값(NaN)을제외하고 통계량을 계산하므로 데이터프레임에 포함된 열들의 실제 분포를 대략적으로 이해할 수 있다."
   ]
  },
  {
   "cell_type": "markdown",
   "id": "333169e9-a193-4432-9b5f-0259872e3bd8",
   "metadata": {},
   "source": [
    "describe()를 이용하여 train 데이터의 기술 통계량을 확인해보자."
   ]
  },
  {
   "cell_type": "code",
   "execution_count": 9,
   "id": "840e05e6-e5d9-4af8-b1bc-bb4d8ea0421a",
   "metadata": {},
   "outputs": [
    {
     "data": {
      "text/html": [
       "<div>\n",
       "<style scoped>\n",
       "    .dataframe tbody tr th:only-of-type {\n",
       "        vertical-align: middle;\n",
       "    }\n",
       "\n",
       "    .dataframe tbody tr th {\n",
       "        vertical-align: top;\n",
       "    }\n",
       "\n",
       "    .dataframe thead th {\n",
       "        text-align: right;\n",
       "    }\n",
       "</style>\n",
       "<table border=\"1\" class=\"dataframe\">\n",
       "  <thead>\n",
       "    <tr style=\"text-align: right;\">\n",
       "      <th></th>\n",
       "      <th>Age</th>\n",
       "      <th>Height</th>\n",
       "      <th>Weight</th>\n",
       "      <th>PaceTotal</th>\n",
       "      <th>ShootingTotal</th>\n",
       "      <th>PassingTotal</th>\n",
       "      <th>DribblingTotal</th>\n",
       "      <th>DefendingTotal</th>\n",
       "      <th>PhysicalityTotal</th>\n",
       "      <th>Crossing</th>\n",
       "      <th>...</th>\n",
       "      <th>CMRating</th>\n",
       "      <th>RMRating</th>\n",
       "      <th>LWBRating</th>\n",
       "      <th>CDMRating</th>\n",
       "      <th>RWBRating</th>\n",
       "      <th>LBRating</th>\n",
       "      <th>CBRating</th>\n",
       "      <th>RBRating</th>\n",
       "      <th>GKRating</th>\n",
       "      <th>Prospect</th>\n",
       "    </tr>\n",
       "  </thead>\n",
       "  <tbody>\n",
       "    <tr>\n",
       "      <th>count</th>\n",
       "      <td>3019.000000</td>\n",
       "      <td>3019.000000</td>\n",
       "      <td>3019.000000</td>\n",
       "      <td>3019.000000</td>\n",
       "      <td>3019.000000</td>\n",
       "      <td>3019.000000</td>\n",
       "      <td>3019.000000</td>\n",
       "      <td>3019.000000</td>\n",
       "      <td>3019.000000</td>\n",
       "      <td>3019.000000</td>\n",
       "      <td>...</td>\n",
       "      <td>3019.000000</td>\n",
       "      <td>3019.000000</td>\n",
       "      <td>3019.000000</td>\n",
       "      <td>3019.000000</td>\n",
       "      <td>3019.000000</td>\n",
       "      <td>3019.000000</td>\n",
       "      <td>3019.00000</td>\n",
       "      <td>3019.000000</td>\n",
       "      <td>3019.000000</td>\n",
       "      <td>3019.000000</td>\n",
       "    </tr>\n",
       "    <tr>\n",
       "      <th>mean</th>\n",
       "      <td>19.632329</td>\n",
       "      <td>180.892348</td>\n",
       "      <td>73.081153</td>\n",
       "      <td>5.760521</td>\n",
       "      <td>4.292595</td>\n",
       "      <td>4.080918</td>\n",
       "      <td>4.708363</td>\n",
       "      <td>3.816096</td>\n",
       "      <td>4.549276</td>\n",
       "      <td>4.371896</td>\n",
       "      <td>...</td>\n",
       "      <td>4.748056</td>\n",
       "      <td>4.961191</td>\n",
       "      <td>4.874432</td>\n",
       "      <td>4.508399</td>\n",
       "      <td>4.874432</td>\n",
       "      <td>4.852789</td>\n",
       "      <td>4.33072</td>\n",
       "      <td>4.852789</td>\n",
       "      <td>1.424188</td>\n",
       "      <td>0.361047</td>\n",
       "    </tr>\n",
       "    <tr>\n",
       "      <th>std</th>\n",
       "      <td>1.235638</td>\n",
       "      <td>6.800187</td>\n",
       "      <td>6.539758</td>\n",
       "      <td>1.298024</td>\n",
       "      <td>1.624982</td>\n",
       "      <td>1.301538</td>\n",
       "      <td>1.366596</td>\n",
       "      <td>2.029423</td>\n",
       "      <td>1.414989</td>\n",
       "      <td>1.790045</td>\n",
       "      <td>...</td>\n",
       "      <td>1.677262</td>\n",
       "      <td>1.814854</td>\n",
       "      <td>1.815744</td>\n",
       "      <td>1.809723</td>\n",
       "      <td>1.815744</td>\n",
       "      <td>1.877633</td>\n",
       "      <td>1.88076</td>\n",
       "      <td>1.877633</td>\n",
       "      <td>1.606925</td>\n",
       "      <td>0.480384</td>\n",
       "    </tr>\n",
       "    <tr>\n",
       "      <th>min</th>\n",
       "      <td>16.000000</td>\n",
       "      <td>160.000000</td>\n",
       "      <td>49.000000</td>\n",
       "      <td>0.724600</td>\n",
       "      <td>0.526300</td>\n",
       "      <td>0.000000</td>\n",
       "      <td>0.000000</td>\n",
       "      <td>0.000000</td>\n",
       "      <td>0.000000</td>\n",
       "      <td>0.113600</td>\n",
       "      <td>...</td>\n",
       "      <td>0.000000</td>\n",
       "      <td>0.000000</td>\n",
       "      <td>0.000000</td>\n",
       "      <td>0.000000</td>\n",
       "      <td>0.000000</td>\n",
       "      <td>0.000000</td>\n",
       "      <td>0.00000</td>\n",
       "      <td>0.000000</td>\n",
       "      <td>0.250000</td>\n",
       "      <td>0.000000</td>\n",
       "    </tr>\n",
       "    <tr>\n",
       "      <th>25%</th>\n",
       "      <td>19.000000</td>\n",
       "      <td>176.000000</td>\n",
       "      <td>69.000000</td>\n",
       "      <td>4.927500</td>\n",
       "      <td>3.092100</td>\n",
       "      <td>3.235300</td>\n",
       "      <td>3.939400</td>\n",
       "      <td>1.842100</td>\n",
       "      <td>3.606600</td>\n",
       "      <td>3.295500</td>\n",
       "      <td>...</td>\n",
       "      <td>4.109600</td>\n",
       "      <td>4.459500</td>\n",
       "      <td>4.225400</td>\n",
       "      <td>3.571400</td>\n",
       "      <td>4.225400</td>\n",
       "      <td>4.000000</td>\n",
       "      <td>3.05560</td>\n",
       "      <td>4.000000</td>\n",
       "      <td>0.750000</td>\n",
       "      <td>0.000000</td>\n",
       "    </tr>\n",
       "    <tr>\n",
       "      <th>50%</th>\n",
       "      <td>20.000000</td>\n",
       "      <td>180.000000</td>\n",
       "      <td>73.000000</td>\n",
       "      <td>5.797100</td>\n",
       "      <td>4.605300</td>\n",
       "      <td>4.117600</td>\n",
       "      <td>4.848500</td>\n",
       "      <td>4.210500</td>\n",
       "      <td>4.590200</td>\n",
       "      <td>4.772700</td>\n",
       "      <td>...</td>\n",
       "      <td>5.068500</td>\n",
       "      <td>5.405400</td>\n",
       "      <td>5.211300</td>\n",
       "      <td>4.857100</td>\n",
       "      <td>5.211300</td>\n",
       "      <td>5.285700</td>\n",
       "      <td>4.58330</td>\n",
       "      <td>5.285700</td>\n",
       "      <td>0.875000</td>\n",
       "      <td>0.000000</td>\n",
       "    </tr>\n",
       "    <tr>\n",
       "      <th>75%</th>\n",
       "      <td>21.000000</td>\n",
       "      <td>185.500000</td>\n",
       "      <td>77.000000</td>\n",
       "      <td>6.666700</td>\n",
       "      <td>5.526300</td>\n",
       "      <td>5.000000</td>\n",
       "      <td>5.606100</td>\n",
       "      <td>5.526300</td>\n",
       "      <td>5.573800</td>\n",
       "      <td>5.681800</td>\n",
       "      <td>...</td>\n",
       "      <td>5.890400</td>\n",
       "      <td>6.081100</td>\n",
       "      <td>6.056300</td>\n",
       "      <td>5.857100</td>\n",
       "      <td>6.056300</td>\n",
       "      <td>6.142900</td>\n",
       "      <td>5.83330</td>\n",
       "      <td>6.142900</td>\n",
       "      <td>1.125000</td>\n",
       "      <td>1.000000</td>\n",
       "    </tr>\n",
       "    <tr>\n",
       "      <th>max</th>\n",
       "      <td>21.000000</td>\n",
       "      <td>204.000000</td>\n",
       "      <td>99.000000</td>\n",
       "      <td>9.710100</td>\n",
       "      <td>9.868400</td>\n",
       "      <td>8.235300</td>\n",
       "      <td>9.393900</td>\n",
       "      <td>8.684200</td>\n",
       "      <td>9.344300</td>\n",
       "      <td>8.522700</td>\n",
       "      <td>...</td>\n",
       "      <td>9.315100</td>\n",
       "      <td>9.189200</td>\n",
       "      <td>9.014100</td>\n",
       "      <td>9.142900</td>\n",
       "      <td>9.014100</td>\n",
       "      <td>9.142900</td>\n",
       "      <td>9.02780</td>\n",
       "      <td>9.142900</td>\n",
       "      <td>8.625000</td>\n",
       "      <td>1.000000</td>\n",
       "    </tr>\n",
       "  </tbody>\n",
       "</table>\n",
       "<p>8 rows × 61 columns</p>\n",
       "</div>"
      ],
      "text/plain": [
       "               Age       Height       Weight    PaceTotal  ShootingTotal  \\\n",
       "count  3019.000000  3019.000000  3019.000000  3019.000000    3019.000000   \n",
       "mean     19.632329   180.892348    73.081153     5.760521       4.292595   \n",
       "std       1.235638     6.800187     6.539758     1.298024       1.624982   \n",
       "min      16.000000   160.000000    49.000000     0.724600       0.526300   \n",
       "25%      19.000000   176.000000    69.000000     4.927500       3.092100   \n",
       "50%      20.000000   180.000000    73.000000     5.797100       4.605300   \n",
       "75%      21.000000   185.500000    77.000000     6.666700       5.526300   \n",
       "max      21.000000   204.000000    99.000000     9.710100       9.868400   \n",
       "\n",
       "       PassingTotal  DribblingTotal  DefendingTotal  PhysicalityTotal  \\\n",
       "count   3019.000000     3019.000000     3019.000000       3019.000000   \n",
       "mean       4.080918        4.708363        3.816096          4.549276   \n",
       "std        1.301538        1.366596        2.029423          1.414989   \n",
       "min        0.000000        0.000000        0.000000          0.000000   \n",
       "25%        3.235300        3.939400        1.842100          3.606600   \n",
       "50%        4.117600        4.848500        4.210500          4.590200   \n",
       "75%        5.000000        5.606100        5.526300          5.573800   \n",
       "max        8.235300        9.393900        8.684200          9.344300   \n",
       "\n",
       "          Crossing  ...     CMRating     RMRating    LWBRating    CDMRating  \\\n",
       "count  3019.000000  ...  3019.000000  3019.000000  3019.000000  3019.000000   \n",
       "mean      4.371896  ...     4.748056     4.961191     4.874432     4.508399   \n",
       "std       1.790045  ...     1.677262     1.814854     1.815744     1.809723   \n",
       "min       0.113600  ...     0.000000     0.000000     0.000000     0.000000   \n",
       "25%       3.295500  ...     4.109600     4.459500     4.225400     3.571400   \n",
       "50%       4.772700  ...     5.068500     5.405400     5.211300     4.857100   \n",
       "75%       5.681800  ...     5.890400     6.081100     6.056300     5.857100   \n",
       "max       8.522700  ...     9.315100     9.189200     9.014100     9.142900   \n",
       "\n",
       "         RWBRating     LBRating    CBRating     RBRating     GKRating  \\\n",
       "count  3019.000000  3019.000000  3019.00000  3019.000000  3019.000000   \n",
       "mean      4.874432     4.852789     4.33072     4.852789     1.424188   \n",
       "std       1.815744     1.877633     1.88076     1.877633     1.606925   \n",
       "min       0.000000     0.000000     0.00000     0.000000     0.250000   \n",
       "25%       4.225400     4.000000     3.05560     4.000000     0.750000   \n",
       "50%       5.211300     5.285700     4.58330     5.285700     0.875000   \n",
       "75%       6.056300     6.142900     5.83330     6.142900     1.125000   \n",
       "max       9.014100     9.142900     9.02780     9.142900     8.625000   \n",
       "\n",
       "          Prospect  \n",
       "count  3019.000000  \n",
       "mean      0.361047  \n",
       "std       0.480384  \n",
       "min       0.000000  \n",
       "25%       0.000000  \n",
       "50%       0.000000  \n",
       "75%       1.000000  \n",
       "max       1.000000  \n",
       "\n",
       "[8 rows x 61 columns]"
      ]
     },
     "execution_count": 9,
     "metadata": {},
     "output_type": "execute_result"
    }
   ],
   "source": [
    "train.describe()"
   ]
  },
  {
   "cell_type": "markdown",
   "id": "d333c433-62d3-434c-b6ce-79a9c50aa59c",
   "metadata": {
    "jp-MarkdownHeadingCollapsed": true
   },
   "source": [
    "### 2. 범위 내 특정 열 데이터 조회"
   ]
  },
  {
   "cell_type": "markdown",
   "id": "7e8c39ed-20ec-4c72-90c5-8b21d08bcdfa",
   "metadata": {},
   "source": [
    "**loc[]** 는 데이터프레임에서 특정 행과 열을 선택하는 데 사용된다. loc는 \"location\"의 약어로, 라벨(Label)을 기반으로 데이터를 선택한다. loc[] 메서드는 일반적으로 **[인덱스, 칼럼명]** 구조로 되어 있다."
   ]
  },
  {
   "cell_type": "markdown",
   "id": "c5aa903d-d007-461f-a02e-f959d3ff4f2a",
   "metadata": {},
   "source": [
    "5부터 10 까지의 인덱스를 가지는 Age 칼럼(column)의 값을 loc[] 메서드를 사용하여 조회해보자"
   ]
  },
  {
   "cell_type": "code",
   "execution_count": 10,
   "id": "240f0daf-49e5-4e14-8ff1-d4efa40f373a",
   "metadata": {},
   "outputs": [
    {
     "data": {
      "text/plain": [
       "5     18\n",
       "6     20\n",
       "7     21\n",
       "8     19\n",
       "9     18\n",
       "10    20\n",
       "Name: Age, dtype: int64"
      ]
     },
     "execution_count": 10,
     "metadata": {},
     "output_type": "execute_result"
    }
   ],
   "source": [
    "train.loc[5:10, 'Age']"
   ]
  },
  {
   "cell_type": "markdown",
   "id": "5a520717-019b-4a82-9a9e-75f126ab2d6f",
   "metadata": {},
   "source": [
    "train 데이터프레임의 22번 인덱스의 Height 칼럼의 값을 확인해 보자."
   ]
  },
  {
   "cell_type": "code",
   "execution_count": 11,
   "id": "26c6d88a-428e-4fa1-8b3c-3c2b8dd0d88b",
   "metadata": {},
   "outputs": [
    {
     "data": {
      "text/plain": [
       "177"
      ]
     },
     "execution_count": 11,
     "metadata": {},
     "output_type": "execute_result"
    }
   ],
   "source": [
    "train.loc[22, 'Height']"
   ]
  },
  {
   "cell_type": "markdown",
   "id": "8953f3ec-008c-4501-b522-896f34c8a342",
   "metadata": {},
   "source": [
    "**iloc[]** 는 데이터프레임에서 특정 행과 열을 선택하는데 사용된다. iloc는 \"integer location\"의 약어로, 정수를 기반으로 데이터를 선택한다. **iloc[] 메서드** 는 일반적으로 **[인덱스, 선택하려는 열의 정수 기반 인덱스]** 구조로 되어 있다."
   ]
  },
  {
   "cell_type": "markdown",
   "id": "6fdacd58-a405-446b-ad0e-6c59b316abfe",
   "metadata": {},
   "source": [
    "5부터 9 까지의 인덱스를 가지는 Age 칼럼(column)의 값을 iloc[] 메서드를 사용하여 조회해보자"
   ]
  },
  {
   "cell_type": "code",
   "execution_count": 12,
   "id": "1359e7b7-dfb0-4d89-943f-b8b89084c425",
   "metadata": {},
   "outputs": [
    {
     "data": {
      "text/plain": [
       "5    18\n",
       "6    20\n",
       "7    21\n",
       "8    19\n",
       "Name: Age, dtype: int64"
      ]
     },
     "execution_count": 12,
     "metadata": {},
     "output_type": "execute_result"
    }
   ],
   "source": [
    "train.iloc[5:9, 1]"
   ]
  },
  {
   "cell_type": "markdown",
   "id": "99e46076-3391-44d9-8eac-c55ac53172ba",
   "metadata": {},
   "source": [
    "데이터프레임의 22번 인덱스의 'Age' 칼럼(column)의 값을 확인해 보자."
   ]
  },
  {
   "cell_type": "code",
   "execution_count": 13,
   "id": "3673ffac-9a4d-4b2b-8511-efd8eb4a496e",
   "metadata": {},
   "outputs": [
    {
     "data": {
      "text/plain": [
       "17"
      ]
     },
     "execution_count": 13,
     "metadata": {},
     "output_type": "execute_result"
    }
   ],
   "source": [
    "train.iloc[22, 1]"
   ]
  },
  {
   "cell_type": "markdown",
   "id": "eb98d1a6-f368-4949-90e3-dc626319447d",
   "metadata": {},
   "source": [
    "## 스테이지 3. 데이터 시각화"
   ]
  },
  {
   "cell_type": "markdown",
   "id": "87dbadd1-0054-4758-bd2f-d01886976d4e",
   "metadata": {},
   "source": [
    "### 1. value_counts() 메서드를 활용한 선수의 유망 여부 빈도 확인"
   ]
  },
  {
   "cell_type": "markdown",
   "id": "dad9d25a-c106-4b87-b7a1-22217d1390a9",
   "metadata": {},
   "source": [
    "value_counts() 메서드는 특정 칼럼의 고유한 각 값의 빈도를 계산할 때 사용된다. 즉, 카테고리형 데이터가 어떻게 분포되어 있는지 확인하거나, 이상치를 파악할 때 주로 사용된다."
   ]
  },
  {
   "cell_type": "markdown",
   "id": "82033e0c-acb8-4caa-beed-2e8acce54d4b",
   "metadata": {},
   "source": [
    "아래 코드의 실행 결과 0이 1929번, 1이 1090번 등장한다."
   ]
  },
  {
   "cell_type": "code",
   "execution_count": 14,
   "id": "02e2c275-c93d-4b03-b53b-983d230efb1c",
   "metadata": {},
   "outputs": [
    {
     "data": {
      "text/plain": [
       "Prospect\n",
       "0    1929\n",
       "1    1090\n",
       "Name: count, dtype: int64"
      ]
     },
     "execution_count": 14,
     "metadata": {},
     "output_type": "execute_result"
    }
   ],
   "source": [
    "prospect_rate = train['Prospect'].value_counts()\n",
    "prospect_rate"
   ]
  },
  {
   "cell_type": "markdown",
   "id": "53ce6c55-7670-4d2b-bccb-7d798a214668",
   "metadata": {},
   "source": [
    "### 2. 선수의 유망 여부 비율을 파이 그래프로 확인"
   ]
  },
  {
   "cell_type": "markdown",
   "id": "c87dfb26-1f5c-456c-be54-8553bc5e1847",
   "metadata": {},
   "source": [
    "**파이 차트**는 데이터의 상대적인 비율을 부채꼴 모양으로 시각화하는 방법이다. 그리고 다음과 같은 특징을 가지고 있는데,\n",
    "1. 전체에 대한 부분의 상대적인 비율을 한 눈에 파악할 수 있다.\n",
    "2. 각 부분의 비율을 부채꼴의 크기로 표현하여 직관적인 시각화를 제공한다.\n",
    "하지만 너무 많은 범주를 가진 경우에는 부채꼴이 작아져 해석이 어려워질 수 있다.\n"
   ]
  },
  {
   "cell_type": "markdown",
   "id": "b7dc3fe6-a39f-461f-94db-c89a52e439fd",
   "metadata": {},
   "source": [
    "맷플롯립(matplotlib) 라이브러리를 이용해 선수의 유망 여부(Prospect)의 빈도를 파이(Pie) 그래프로 시각화해 보자"
   ]
  },
  {
   "cell_type": "code",
   "execution_count": 16,
   "id": "5e39d8cb-a638-47e0-aabe-6643e442cc3a",
   "metadata": {},
   "outputs": [
    {
     "data": {
      "image/png": "[encoded data removed]",
      "text/plain": [
       "<Figure size 640x480 with 1 Axes>"
      ]
     },
     "metadata": {},
     "output_type": "display_data"
    }
   ],
   "source": [
    "import matplotlib.pyplot as plt\n",
    "\n",
    "pie_chart = plt.pie(\n",
    "    x=prospect_rate,\n",
    "    labels=['0', '1'],\n",
    "    autopct='%.1f%%'\n",
    ")\n",
    "\n",
    "plt.show()"
   ]
  },
  {
   "cell_type": "markdown",
   "id": "c8542cd8-a962-4374-8f7e-9eb230536090",
   "metadata": {},
   "source": [
    "### 3. 선수가 선호하는 발의 비율을 파이 그래프로 확인"
   ]
  },
  {
   "cell_type": "markdown",
   "id": "2f0fba29-474f-4c3a-b6b1-7ba602e04f54",
   "metadata": {},
   "source": [
    "PreferredFoot 칼럼의 고유값의 빈도를 foot_rate 변수에 저장하여 선호하는 발의 빈도를 파이 그래프로 시각화해 보자."
   ]
  },
  {
   "cell_type": "markdown",
   "id": "92a6cc9b-8ee5-499b-b913-b0aae4495042",
   "metadata": {},
   "source": [
    "결과를 확인해보면 오른발의 경우 전체의 75.7%, 왼발의 경우 24.3%를 차지한 것을 알 수 있다."
   ]
  },
  {
   "cell_type": "code",
   "execution_count": 18,
   "id": "cfd0756e-14c1-49b2-9481-a0249cacd0a8",
   "metadata": {},
   "outputs": [
    {
     "data": {
      "image/png": "[encoded data removed]",
      "text/plain": [
       "<Figure size 640x480 with 1 Axes>"
      ]
     },
     "metadata": {},
     "output_type": "display_data"
    }
   ],
   "source": [
    "foot_rate = train['PreferredFoot'].value_counts()\n",
    "\n",
    "pie_chart = plt.pie(\n",
    "    x=foot_rate,\n",
    "    labels=foot_rate.index,\n",
    "    autopct='%.1f%%'\n",
    ")\n",
    "\n",
    "plt.show()"
   ]
  },
  {
   "cell_type": "markdown",
   "id": "4a04bcea-3653-454e-bb4e-2aafcae1113c",
   "metadata": {},
   "source": [
    "### 4. 선수의 유망 여부 파이 차트 시각화 - 색상 및 폭 조정"
   ]
  },
  {
   "cell_type": "markdown",
   "id": "e1425bd3-dadd-4eab-a99f-6fe5632940ab",
   "metadata": {},
   "source": [
    "아래 결과는 위에서 시각화했던 차트에 색상 및 폭을 조정을 추가한 차트이다."
   ]
  },
  {
   "cell_type": "code",
   "execution_count": 22,
   "id": "fe6b94d2-bf83-4b5b-9275-0123ac8df585",
   "metadata": {},
   "outputs": [
    {
     "data": {
      "image/png": "[encoded data removed]",
      "text/plain": [
       "<Figure size 600x600 with 1 Axes>"
      ]
     },
     "metadata": {},
     "output_type": "display_data"
    }
   ],
   "source": [
    "labels = ['X', 'O']\n",
    "colors = ['red', 'green']\n",
    "explode = (0.1, 0)\n",
    "\n",
    "plt.figure(figsize=(6, 6))\n",
    "plt.pie(x = train['Prospect'].value_counts(),\n",
    "        labels=labels,\n",
    "        colors=colors,\n",
    "        explode=explode,\n",
    "        autopct='%.1f%%',\n",
    "        wedgeprops={'linewidth':6, 'edgecolor': 'pink'})\n",
    "\n",
    "plt.text(x=0, y=0, s='Total: 100%', horizontalalignment='center')\n",
    "plt.show()"
   ]
  },
  {
   "cell_type": "markdown",
   "id": "6c12ce02-663b-475b-be1e-70b1714e498e",
   "metadata": {},
   "source": [
    "### 5. 선수의 포지션 빈도수 시각화"
   ]
  },
  {
   "cell_type": "markdown",
   "id": "c5a61723-3d1d-4188-a3c8-9dcae0eb50ac",
   "metadata": {},
   "source": [
    "**countplot()** 함수는 seaborn 라이브러리에서 제공하는 함수로, **범주형(categorical) 변수의 빈도 수**를 막대그래프로 시각화하는데 사용된다. **countplot()** 함수는 데이터프레임에 **value_counts()** 함수를 사용하지 않아도 동일한 결과를 얻을 수 있는데, 내부적으로 데이터프레임의 칼럼을 분석하여 고유한 값들의 빈도를 계산하기 때문이다."
   ]
  },
  {
   "cell_type": "markdown",
   "id": "d0f1f950-f472-4888-b962-87c343329f2b",
   "metadata": {},
   "source": [
    "seaborn 라이브러리의 countplot() 함수를 사용하여 train DataFrame의 'Position' 열에 대한 값의 분포를 시각화 해보자."
   ]
  },
  {
   "cell_type": "code",
   "execution_count": 29,
   "id": "182e185b-32a8-402d-a343-224ada1a569b",
   "metadata": {},
   "outputs": [
    {
     "name": "stderr",
     "output_type": "stream",
     "text": [
      "C:\\Users\\CHOYS\\AppData\\Local\\Temp\\ipykernel_13320\\398558758.py:2: FutureWarning: \n",
      "\n",
      "Passing `palette` without assigning `hue` is deprecated and will be removed in v0.14.0. Assign the `x` variable to `hue` and set `legend=False` for the same effect.\n",
      "\n",
      "  ax = sns.countplot(x=train['Position'], palette='husl')\n"
     ]
    },
    {
     "data": {
      "image/png": "[encoded data removed]",
      "text/plain": [
       "<Figure size 640x480 with 1 Axes>"
      ]
     },
     "metadata": {},
     "output_type": "display_data"
    }
   ],
   "source": [
    "import seaborn as sns\n",
    "ax = sns.countplot(x=train['Position'], palette='husl')\n",
    "plt.show()"
   ]
  },
  {
   "cell_type": "markdown",
   "id": "040512df-a9b9-4e3f-bc8c-c40bd107a34c",
   "metadata": {},
   "source": [
    "### 6. 선수의 포지션에 따른 유망 여부 빈도 확인"
   ]
  },
  {
   "cell_type": "markdown",
   "id": "9952a172-0982-42cf-809f-bbae533e55fe",
   "metadata": {},
   "source": [
    "이전 스텝에서는 Position 칼럼의 빈도를 시각화하였다. 조금 더 나아가, hue 매개변수의 값을 **Prospect**로 입력하여 포지션별 유망 여부를 확인해보자."
   ]
  },
  {
   "cell_type": "markdown",
   "id": "d34e9d1e-8e05-435a-87d8-642996dd2009",
   "metadata": {},
   "source": [
    "seaborn 라이브러리의 countplot() 함수를 사용하여 train DataFrame의 'Position' 열에 따른 'Prospect' 열의 분포를 시각화해보자"
   ]
  },
  {
   "cell_type": "code",
   "execution_count": 34,
   "id": "24eb96dc-4bb6-4409-9e4a-c6135bd65b36",
   "metadata": {},
   "outputs": [
    {
     "data": {
      "image/png": "[encoded data removed]",
      "text/plain": [
       "<Figure size 1500x400 with 1 Axes>"
      ]
     },
     "metadata": {},
     "output_type": "display_data"
    }
   ],
   "source": [
    "plt.figure(figsize=(15, 4))\n",
    "ax = sns.countplot(data=train, x=train['Position'], hue='Prospect', palette='Set3')\n",
    "plt.show()"
   ]
  },
  {
   "cell_type": "markdown",
   "id": "2a307ce1-3968-4b7c-84c8-5ef6fd09deed",
   "metadata": {},
   "source": [
    "## 스테이지 4. 분류 모델 만들기"
   ]
  },
  {
   "cell_type": "markdown",
   "id": "3521e915-9bd7-4356-8313-c6a789ebd126",
   "metadata": {},
   "source": [
    "* BaseLine(기초 수준의 모델) 만들기"
   ]
  },
  {
   "cell_type": "markdown",
   "id": "c62747c2-93d7-4577-b296-baed03593179",
   "metadata": {},
   "source": [
    "### 1. 예측할 피처(Feature) 확인하기"
   ]
  },
  {
   "cell_type": "markdown",
   "id": "35e94624-26c5-4e06-b01d-c3ec06baeb52",
   "metadata": {},
   "source": [
    "loc 함수를 활용하여 이번 데이터에서 예측해야 하는 피처(feature)인 Prospect를 확인해 보자"
   ]
  },
  {
   "cell_type": "code",
   "execution_count": 35,
   "id": "673e3a82-f13f-4092-8fe1-95eff1244234",
   "metadata": {},
   "outputs": [
    {
     "data": {
      "text/plain": [
       "0       0\n",
       "1       0\n",
       "2       0\n",
       "3       0\n",
       "4       0\n",
       "       ..\n",
       "3014    1\n",
       "3015    0\n",
       "3016    0\n",
       "3017    0\n",
       "3018    0\n",
       "Name: Prospect, Length: 3019, dtype: int64"
      ]
     },
     "execution_count": 35,
     "metadata": {},
     "output_type": "execute_result"
    }
   ],
   "source": [
    "train.loc[:, 'Prospect']"
   ]
  },
  {
   "cell_type": "markdown",
   "id": "0c0150b3-3fd3-414d-b2f1-e74db11de810",
   "metadata": {},
   "source": [
    "### 2. 특성 데이터와 예측 데이터 나누기, 범주형 피처 drop"
   ]
  },
  {
   "cell_type": "markdown",
   "id": "7464d85e-5e32-4fa1-9c22-893acd99b44e",
   "metadata": {},
   "source": [
    "범주형 피처를 포함한 데이터를 머신러닝 모델에 학습시킬 수 없으므로, drop 함수를 사용하여 범주형 피처들을 제거한 후, 특성 데이터와 예측데이터로 나누자."
   ]
  },
  {
   "cell_type": "code",
   "execution_count": 36,
   "id": "c5281a73-bcbd-4546-8369-ed79ec4f7cd6",
   "metadata": {},
   "outputs": [],
   "source": [
    "drop_col = ['ID', 'Position', 'PreferredFoot', 'AttackingWorkRate', 'DefensiveWorkRate']\n",
    "test_x = test.drop(drop_col, axis=1)\n",
    "\n",
    "drop_col.append('Prospect')\n",
    "train_x = train.drop(drop_col, axis=1)\n",
    "train_y = train['Prospect']"
   ]
  },
  {
   "cell_type": "markdown",
   "id": "315b46a0-f786-460d-9e31-1c00eb1e1059",
   "metadata": {},
   "source": [
    "### 3. 모델 불러오기(Logistic Regression)"
   ]
  },
  {
   "cell_type": "markdown",
   "id": "f3689f64-cffb-453b-ae51-5911f0b62ce4",
   "metadata": {},
   "source": [
    "**로지스틱 회귀**는 분류 알고리즘 중 하나로, **이진 분류를 위한 확률 기반 모델**이다."
   ]
  },
  {
   "cell_type": "markdown",
   "id": "780ed100-60e8-4df7-b4a8-98b5ba453f78",
   "metadata": {},
   "source": [
    "**model = LogisticRegression(max_iter=5000)** 는 **LogisticRegression** 모델을 인스턴스화하는 부분이다. LogisticRegression 클래스의 인스턴스를 생성하여 model 변수에 할당하고, **max_iter** 매개변수는 최적화 알고리즘의 반복횟수를 설정하는 것이다."
   ]
  },
  {
   "cell_type": "code",
   "execution_count": 38,
   "id": "2938faa0-010a-409a-8a97-3108b936572c",
   "metadata": {},
   "outputs": [],
   "source": [
    "from sklearn.linear_model import LogisticRegression\n",
    "model = LogisticRegression(max_iter=5000)"
   ]
  },
  {
   "cell_type": "markdown",
   "id": "1ba16079-a548-4a50-9132-4a3a0417db68",
   "metadata": {},
   "source": [
    "### 4. 모델 학습하기"
   ]
  },
  {
   "cell_type": "markdown",
   "id": "797cfe25-7844-4323-9a4a-3a35c5810b99",
   "metadata": {},
   "source": [
    "fit(독립변수, 종속변수) 함수를 사용해서 모델을 학습시킨다. fit() 함수는 모델을 학습시키는 과정에서 독립 변수와 종속 변수 간의 관계를 학습하고, 모델의 내부 매개변수를 조정하여 최적의 예측 모델을 생성한다."
   ]
  },
  {
   "cell_type": "code",
   "execution_count": 39,
   "id": "14508e10-c2df-4469-94da-b6fcedacf561",
   "metadata": {},
   "outputs": [
    {
     "data": {
      "text/html": [
       "<style>#sk-container-id-1 {\n",
       "  /* Definition of color scheme common for light and dark mode */\n",
       "  --sklearn-color-text: black;\n",
       "  --sklearn-color-line: gray;\n",
       "  /* Definition of color scheme for unfitted estimators */\n",
       "  --sklearn-color-unfitted-level-0: #fff5e6;\n",
       "  --sklearn-color-unfitted-level-1: #f6e4d2;\n",
       "  --sklearn-color-unfitted-level-2: #ffe0b3;\n",
       "  --sklearn-color-unfitted-level-3: chocolate;\n",
       "  /* Definition of color scheme for fitted estimators */\n",
       "  --sklearn-color-fitted-level-0: #f0f8ff;\n",
       "  --sklearn-color-fitted-level-1: #d4ebff;\n",
       "  --sklearn-color-fitted-level-2: #b3dbfd;\n",
       "  --sklearn-color-fitted-level-3: cornflowerblue;\n",
       "\n",
       "  /* Specific color for light theme */\n",
       "  --sklearn-color-text-on-default-background: var(--sg-text-color, var(--theme-code-foreground, var(--jp-content-font-color1, black)));\n",
       "  --sklearn-color-background: var(--sg-background-color, var(--theme-background, var(--jp-layout-color0, white)));\n",
       "  --sklearn-color-border-box: var(--sg-text-color, var(--theme-code-foreground, var(--jp-content-font-color1, black)));\n",
       "  --sklearn-color-icon: #696969;\n",
       "\n",
       "  @media (prefers-color-scheme: dark) {\n",
       "    /* Redefinition of color scheme for dark theme */\n",
       "    --sklearn-color-text-on-default-background: var(--sg-text-color, var(--theme-code-foreground, var(--jp-content-font-color1, white)));\n",
       "    --sklearn-color-background: var(--sg-background-color, var(--theme-background, var(--jp-layout-color0, #111)));\n",
       "    --sklearn-color-border-box: var(--sg-text-color, var(--theme-code-foreground, var(--jp-content-font-color1, white)));\n",
       "    --sklearn-color-icon: #878787;\n",
       "  }\n",
       "}\n",
       "\n",
       "#sk-container-id-1 {\n",
       "  color: var(--sklearn-color-text);\n",
       "}\n",
       "\n",
       "#sk-container-id-1 pre {\n",
       "  padding: 0;\n",
       "}\n",
       "\n",
       "#sk-container-id-1 input.sk-hidden--visually {\n",
       "  border: 0;\n",
       "  clip: rect(1px 1px 1px 1px);\n",
       "  clip: rect(1px, 1px, 1px, 1px);\n",
       "  height: 1px;\n",
       "  margin: -1px;\n",
       "  overflow: hidden;\n",
       "  padding: 0;\n",
       "  position: absolute;\n",
       "  width: 1px;\n",
       "}\n",
       "\n",
       "#sk-container-id-1 div.sk-dashed-wrapped {\n",
       "  border: 1px dashed var(--sklearn-color-line);\n",
       "  margin: 0 0.4em 0.5em 0.4em;\n",
       "  box-sizing: border-box;\n",
       "  padding-bottom: 0.4em;\n",
       "  background-color: var(--sklearn-color-background);\n",
       "}\n",
       "\n",
       "#sk-container-id-1 div.sk-container {\n",
       "  /* jupyter's `normalize.less` sets `[hidden] { display: none; }`\n",
       "     but bootstrap.min.css set `[hidden] { display: none !important; }`\n",
       "     so we also need the `!important` here to be able to override the\n",
       "     default hidden behavior on the sphinx rendered scikit-learn.org.\n",
       "     See: https://github.com/scikit-learn/scikit-learn/issues/21755 */\n",
       "  display: inline-block !important;\n",
       "  position: relative;\n",
       "}\n",
       "\n",
       "#sk-container-id-1 div.sk-text-repr-fallback {\n",
       "  display: none;\n",
       "}\n",
       "\n",
       "div.sk-parallel-item,\n",
       "div.sk-serial,\n",
       "div.sk-item {\n",
       "  /* draw centered vertical line to link estimators */\n",
       "  background-image: linear-gradient(var(--sklearn-color-text-on-default-background), var(--sklearn-color-text-on-default-background));\n",
       "  background-size: 2px 100%;\n",
       "  background-repeat: no-repeat;\n",
       "  background-position: center center;\n",
       "}\n",
       "\n",
       "/* Parallel-specific style estimator block */\n",
       "\n",
       "#sk-container-id-1 div.sk-parallel-item::after {\n",
       "  content: \"\";\n",
       "  width: 100%;\n",
       "  border-bottom: 2px solid var(--sklearn-color-text-on-default-background);\n",
       "  flex-grow: 1;\n",
       "}\n",
       "\n",
       "#sk-container-id-1 div.sk-parallel {\n",
       "  display: flex;\n",
       "  align-items: stretch;\n",
       "  justify-content: center;\n",
       "  background-color: var(--sklearn-color-background);\n",
       "  position: relative;\n",
       "}\n",
       "\n",
       "#sk-container-id-1 div.sk-parallel-item {\n",
       "  display: flex;\n",
       "  flex-direction: column;\n",
       "}\n",
       "\n",
       "#sk-container-id-1 div.sk-parallel-item:first-child::after {\n",
       "  align-self: flex-end;\n",
       "  width: 50%;\n",
       "}\n",
       "\n",
       "#sk-container-id-1 div.sk-parallel-item:last-child::after {\n",
       "  align-self: flex-start;\n",
       "  width: 50%;\n",
       "}\n",
       "\n",
       "#sk-container-id-1 div.sk-parallel-item:only-child::after {\n",
       "  width: 0;\n",
       "}\n",
       "\n",
       "/* Serial-specific style estimator block */\n",
       "\n",
       "#sk-container-id-1 div.sk-serial {\n",
       "  display: flex;\n",
       "  flex-direction: column;\n",
       "  align-items: center;\n",
       "  background-color: var(--sklearn-color-background);\n",
       "  padding-right: 1em;\n",
       "  padding-left: 1em;\n",
       "}\n",
       "\n",
       "\n",
       "/* Toggleable style: style used for estimator/Pipeline/ColumnTransformer box that is\n",
       "clickable and can be expanded/collapsed.\n",
       "- Pipeline and ColumnTransformer use this feature and define the default style\n",
       "- Estimators will overwrite some part of the style using the `sk-estimator` class\n",
       "*/\n",
       "\n",
       "/* Pipeline and ColumnTransformer style (default) */\n",
       "\n",
       "#sk-container-id-1 div.sk-toggleable {\n",
       "  /* Default theme specific background. It is overwritten whether we have a\n",
       "  specific estimator or a Pipeline/ColumnTransformer */\n",
       "  background-color: var(--sklearn-color-background);\n",
       "}\n",
       "\n",
       "/* Toggleable label */\n",
       "#sk-container-id-1 label.sk-toggleable__label {\n",
       "  cursor: pointer;\n",
       "  display: block;\n",
       "  width: 100%;\n",
       "  margin-bottom: 0;\n",
       "  padding: 0.5em;\n",
       "  box-sizing: border-box;\n",
       "  text-align: center;\n",
       "}\n",
       "\n",
       "#sk-container-id-1 label.sk-toggleable__label-arrow:before {\n",
       "  /* Arrow on the left of the label */\n",
       "  content: \"▸\";\n",
       "  float: left;\n",
       "  margin-right: 0.25em;\n",
       "  color: var(--sklearn-color-icon);\n",
       "}\n",
       "\n",
       "#sk-container-id-1 label.sk-toggleable__label-arrow:hover:before {\n",
       "  color: var(--sklearn-color-text);\n",
       "}\n",
       "\n",
       "/* Toggleable content - dropdown */\n",
       "\n",
       "#sk-container-id-1 div.sk-toggleable__content {\n",
       "  max-height: 0;\n",
       "  max-width: 0;\n",
       "  overflow: hidden;\n",
       "  text-align: left;\n",
       "  /* unfitted */\n",
       "  background-color: var(--sklearn-color-unfitted-level-0);\n",
       "}\n",
       "\n",
       "#sk-container-id-1 div.sk-toggleable__content.fitted {\n",
       "  /* fitted */\n",
       "  background-color: var(--sklearn-color-fitted-level-0);\n",
       "}\n",
       "\n",
       "#sk-container-id-1 div.sk-toggleable__content pre {\n",
       "  margin: 0.2em;\n",
       "  border-radius: 0.25em;\n",
       "  color: var(--sklearn-color-text);\n",
       "  /* unfitted */\n",
       "  background-color: var(--sklearn-color-unfitted-level-0);\n",
       "}\n",
       "\n",
       "#sk-container-id-1 div.sk-toggleable__content.fitted pre {\n",
       "  /* unfitted */\n",
       "  background-color: var(--sklearn-color-fitted-level-0);\n",
       "}\n",
       "\n",
       "#sk-container-id-1 input.sk-toggleable__control:checked~div.sk-toggleable__content {\n",
       "  /* Expand drop-down */\n",
       "  max-height: 200px;\n",
       "  max-width: 100%;\n",
       "  overflow: auto;\n",
       "}\n",
       "\n",
       "#sk-container-id-1 input.sk-toggleable__control:checked~label.sk-toggleable__label-arrow:before {\n",
       "  content: \"▾\";\n",
       "}\n",
       "\n",
       "/* Pipeline/ColumnTransformer-specific style */\n",
       "\n",
       "#sk-container-id-1 div.sk-label input.sk-toggleable__control:checked~label.sk-toggleable__label {\n",
       "  color: var(--sklearn-color-text);\n",
       "  background-color: var(--sklearn-color-unfitted-level-2);\n",
       "}\n",
       "\n",
       "#sk-container-id-1 div.sk-label.fitted input.sk-toggleable__control:checked~label.sk-toggleable__label {\n",
       "  background-color: var(--sklearn-color-fitted-level-2);\n",
       "}\n",
       "\n",
       "/* Estimator-specific style */\n",
       "\n",
       "/* Colorize estimator box */\n",
       "#sk-container-id-1 div.sk-estimator input.sk-toggleable__control:checked~label.sk-toggleable__label {\n",
       "  /* unfitted */\n",
       "  background-color: var(--sklearn-color-unfitted-level-2);\n",
       "}\n",
       "\n",
       "#sk-container-id-1 div.sk-estimator.fitted input.sk-toggleable__control:checked~label.sk-toggleable__label {\n",
       "  /* fitted */\n",
       "  background-color: var(--sklearn-color-fitted-level-2);\n",
       "}\n",
       "\n",
       "#sk-container-id-1 div.sk-label label.sk-toggleable__label,\n",
       "#sk-container-id-1 div.sk-label label {\n",
       "  /* The background is the default theme color */\n",
       "  color: var(--sklearn-color-text-on-default-background);\n",
       "}\n",
       "\n",
       "/* On hover, darken the color of the background */\n",
       "#sk-container-id-1 div.sk-label:hover label.sk-toggleable__label {\n",
       "  color: var(--sklearn-color-text);\n",
       "  background-color: var(--sklearn-color-unfitted-level-2);\n",
       "}\n",
       "\n",
       "/* Label box, darken color on hover, fitted */\n",
       "#sk-container-id-1 div.sk-label.fitted:hover label.sk-toggleable__label.fitted {\n",
       "  color: var(--sklearn-color-text);\n",
       "  background-color: var(--sklearn-color-fitted-level-2);\n",
       "}\n",
       "\n",
       "/* Estimator label */\n",
       "\n",
       "#sk-container-id-1 div.sk-label label {\n",
       "  font-family: monospace;\n",
       "  font-weight: bold;\n",
       "  display: inline-block;\n",
       "  line-height: 1.2em;\n",
       "}\n",
       "\n",
       "#sk-container-id-1 div.sk-label-container {\n",
       "  text-align: center;\n",
       "}\n",
       "\n",
       "/* Estimator-specific */\n",
       "#sk-container-id-1 div.sk-estimator {\n",
       "  font-family: monospace;\n",
       "  border: 1px dotted var(--sklearn-color-border-box);\n",
       "  border-radius: 0.25em;\n",
       "  box-sizing: border-box;\n",
       "  margin-bottom: 0.5em;\n",
       "  /* unfitted */\n",
       "  background-color: var(--sklearn-color-unfitted-level-0);\n",
       "}\n",
       "\n",
       "#sk-container-id-1 div.sk-estimator.fitted {\n",
       "  /* fitted */\n",
       "  background-color: var(--sklearn-color-fitted-level-0);\n",
       "}\n",
       "\n",
       "/* on hover */\n",
       "#sk-container-id-1 div.sk-estimator:hover {\n",
       "  /* unfitted */\n",
       "  background-color: var(--sklearn-color-unfitted-level-2);\n",
       "}\n",
       "\n",
       "#sk-container-id-1 div.sk-estimator.fitted:hover {\n",
       "  /* fitted */\n",
       "  background-color: var(--sklearn-color-fitted-level-2);\n",
       "}\n",
       "\n",
       "/* Specification for estimator info (e.g. \"i\" and \"?\") */\n",
       "\n",
       "/* Common style for \"i\" and \"?\" */\n",
       "\n",
       ".sk-estimator-doc-link,\n",
       "a:link.sk-estimator-doc-link,\n",
       "a:visited.sk-estimator-doc-link {\n",
       "  float: right;\n",
       "  font-size: smaller;\n",
       "  line-height: 1em;\n",
       "  font-family: monospace;\n",
       "  background-color: var(--sklearn-color-background);\n",
       "  border-radius: 1em;\n",
       "  height: 1em;\n",
       "  width: 1em;\n",
       "  text-decoration: none !important;\n",
       "  margin-left: 1ex;\n",
       "  /* unfitted */\n",
       "  border: var(--sklearn-color-unfitted-level-1) 1pt solid;\n",
       "  color: var(--sklearn-color-unfitted-level-1);\n",
       "}\n",
       "\n",
       ".sk-estimator-doc-link.fitted,\n",
       "a:link.sk-estimator-doc-link.fitted,\n",
       "a:visited.sk-estimator-doc-link.fitted {\n",
       "  /* fitted */\n",
       "  border: var(--sklearn-color-fitted-level-1) 1pt solid;\n",
       "  color: var(--sklearn-color-fitted-level-1);\n",
       "}\n",
       "\n",
       "/* On hover */\n",
       "div.sk-estimator:hover .sk-estimator-doc-link:hover,\n",
       ".sk-estimator-doc-link:hover,\n",
       "div.sk-label-container:hover .sk-estimator-doc-link:hover,\n",
       ".sk-estimator-doc-link:hover {\n",
       "  /* unfitted */\n",
       "  background-color: var(--sklearn-color-unfitted-level-3);\n",
       "  color: var(--sklearn-color-background);\n",
       "  text-decoration: none;\n",
       "}\n",
       "\n",
       "div.sk-estimator.fitted:hover .sk-estimator-doc-link.fitted:hover,\n",
       ".sk-estimator-doc-link.fitted:hover,\n",
       "div.sk-label-container:hover .sk-estimator-doc-link.fitted:hover,\n",
       ".sk-estimator-doc-link.fitted:hover {\n",
       "  /* fitted */\n",
       "  background-color: var(--sklearn-color-fitted-level-3);\n",
       "  color: var(--sklearn-color-background);\n",
       "  text-decoration: none;\n",
       "}\n",
       "\n",
       "/* Span, style for the box shown on hovering the info icon */\n",
       ".sk-estimator-doc-link span {\n",
       "  display: none;\n",
       "  z-index: 9999;\n",
       "  position: relative;\n",
       "  font-weight: normal;\n",
       "  right: .2ex;\n",
       "  padding: .5ex;\n",
       "  margin: .5ex;\n",
       "  width: min-content;\n",
       "  min-width: 20ex;\n",
       "  max-width: 50ex;\n",
       "  color: var(--sklearn-color-text);\n",
       "  box-shadow: 2pt 2pt 4pt #999;\n",
       "  /* unfitted */\n",
       "  background: var(--sklearn-color-unfitted-level-0);\n",
       "  border: .5pt solid var(--sklearn-color-unfitted-level-3);\n",
       "}\n",
       "\n",
       ".sk-estimator-doc-link.fitted span {\n",
       "  /* fitted */\n",
       "  background: var(--sklearn-color-fitted-level-0);\n",
       "  border: var(--sklearn-color-fitted-level-3);\n",
       "}\n",
       "\n",
       ".sk-estimator-doc-link:hover span {\n",
       "  display: block;\n",
       "}\n",
       "\n",
       "/* \"?\"-specific style due to the `<a>` HTML tag */\n",
       "\n",
       "#sk-container-id-1 a.estimator_doc_link {\n",
       "  float: right;\n",
       "  font-size: 1rem;\n",
       "  line-height: 1em;\n",
       "  font-family: monospace;\n",
       "  background-color: var(--sklearn-color-background);\n",
       "  border-radius: 1rem;\n",
       "  height: 1rem;\n",
       "  width: 1rem;\n",
       "  text-decoration: none;\n",
       "  /* unfitted */\n",
       "  color: var(--sklearn-color-unfitted-level-1);\n",
       "  border: var(--sklearn-color-unfitted-level-1) 1pt solid;\n",
       "}\n",
       "\n",
       "#sk-container-id-1 a.estimator_doc_link.fitted {\n",
       "  /* fitted */\n",
       "  border: var(--sklearn-color-fitted-level-1) 1pt solid;\n",
       "  color: var(--sklearn-color-fitted-level-1);\n",
       "}\n",
       "\n",
       "/* On hover */\n",
       "#sk-container-id-1 a.estimator_doc_link:hover {\n",
       "  /* unfitted */\n",
       "  background-color: var(--sklearn-color-unfitted-level-3);\n",
       "  color: var(--sklearn-color-background);\n",
       "  text-decoration: none;\n",
       "}\n",
       "\n",
       "#sk-container-id-1 a.estimator_doc_link.fitted:hover {\n",
       "  /* fitted */\n",
       "  background-color: var(--sklearn-color-fitted-level-3);\n",
       "}\n",
       "</style><div id=\"sk-container-id-1\" class=\"sk-top-container\"><div class=\"sk-text-repr-fallback\"><pre>LogisticRegression(max_iter=5000)</pre><b>In a Jupyter environment, please rerun this cell to show the HTML representation or trust the notebook. <br />On GitHub, the HTML representation is unable to render, please try loading this page with nbviewer.org.</b></div><div class=\"sk-container\" hidden><div class=\"sk-item\"><div class=\"sk-estimator fitted sk-toggleable\"><input class=\"sk-toggleable__control sk-hidden--visually\" id=\"sk-estimator-id-1\" type=\"checkbox\" checked><label for=\"sk-estimator-id-1\" class=\"sk-toggleable__label fitted sk-toggleable__label-arrow fitted\">&nbsp;&nbsp;LogisticRegression<a class=\"sk-estimator-doc-link fitted\" rel=\"noreferrer\" target=\"_blank\" href=\"https://scikit-learn.org/1.5/modules/generated/sklearn.linear_model.LogisticRegression.html\">?<span>Documentation for LogisticRegression</span></a><span class=\"sk-estimator-doc-link fitted\">i<span>Fitted</span></span></label><div class=\"sk-toggleable__content fitted\"><pre>LogisticRegression(max_iter=5000)</pre></div> </div></div></div></div>"
      ],
      "text/plain": [
       "LogisticRegression(max_iter=5000)"
      ]
     },
     "execution_count": 39,
     "metadata": {},
     "output_type": "execute_result"
    }
   ],
   "source": [
    "model.fit(train_x, train_y)"
   ]
  },
  {
   "cell_type": "markdown",
   "id": "1508ab79-fdd7-4ffb-9514-eebbdff7d462",
   "metadata": {},
   "source": [
    "### 5. 예측하기"
   ]
  },
  {
   "cell_type": "markdown",
   "id": "6588d054-c36e-4d63-9955-b80fcc9d903d",
   "metadata": {},
   "source": [
    "model.predict(test_x) 코드는 학습된 모델을 사용하여 새로운 데이터에 대한 예측을 수행한다."
   ]
  },
  {
   "cell_type": "code",
   "execution_count": 40,
   "id": "53db6ae4-7da5-49a2-9f7e-514f41edea23",
   "metadata": {},
   "outputs": [],
   "source": [
    "y_pred = model.predict(test_x)"
   ]
  },
  {
   "cell_type": "markdown",
   "id": "cf73e835-70ed-4227-aa7e-20d3f9e30fea",
   "metadata": {},
   "source": [
    "## 스테이지 5. 상관 관계 분석과 전처리"
   ]
  },
  {
   "cell_type": "markdown",
   "id": "4f45b024-da8a-46cf-b1c0-82a647c4701e",
   "metadata": {},
   "source": [
    "* 상관관계 분석 학습하기\n",
    "* 원핫 인코딩(One-Hot encoding) 학습하기"
   ]
  },
  {
   "cell_type": "markdown",
   "id": "156a3f21-6517-4c00-8bb4-f26908d9a316",
   "metadata": {},
   "source": [
    "### 1. 데이터 상관관계 확인하기"
   ]
  },
  {
   "cell_type": "markdown",
   "id": "4e1f5a9d-b5b9-431d-b0e5-e35c5c1812bc",
   "metadata": {},
   "source": [
    "상관관계는 두 변수가 함께 변화하는 정도를 나타내며, 데이터 분석에서 이를 확인하는 이유는 다양하다.\n",
    "\n",
    "* 변수들 사이의 상관관계를 파악함으로써 데이터의 패턴과 관계성을 파악할 수 있다.\n",
    "예로, '키'와 '몸무게'라는 두 변수가 양의 상관관계를 가진다면, 키가 커질수록 몸무게도 커지는 경향이 있다는 것을 알 수 있다. 이를 통해 키와 몸무게 간의 관계를 이해하고, 이를 활용해 예측 모델을 만들거나 키와 몸무게 간의 인과관계를 찾는 데 도움을 받을 수 있다.\n",
    "\n",
    "* 또한 상관관계는 변수 선택에도 중요한 역할을 한다. 데이터셋에도 변수가 많을 경우, 변수 선택을 통해 모델의 성능을 향상시킬 수 있다. 상관과계가 높은 변수들은 서로 유사한 정보를 담고 있을 가능성이 높기 때문에, 이러한 변수들 중 하나를 선택하거나 새로운 변수를 생성해야 할 수 있다.\n",
    "\n",
    "* 또 다른 활용은 다중공선성(multicollinearity)을 확인하는 데 있다. 다중공선성은 회귀분석 모델에서 오류가 발생할 수 있는 현상으로, 두 변수 사이에 강한 상관관계가 있을 때 나타난다. 상관관계를 통해 다중공선성을 파악하여 모델을 개선할 수 있다."
   ]
  },
  {
   "cell_type": "markdown",
   "id": "7c59d0b9-3285-4ec9-b6ca-0dced3455146",
   "metadata": {},
   "source": [
    "drop() 함수를 이용하여 train 데이터셋에서 not_numeric 리스트(list)를 제거해 보자\n",
    "corr() 함수를 이용하여 numeric_df 데이터프레임(DataFrame)에서 숫자형 피처(feature)들 간의 상관관계를 계산해 보자"
   ]
  },
  {
   "cell_type": "code",
   "execution_count": 41,
   "id": "c1fc25f9-7588-4771-a524-33d2e777a7ae",
   "metadata": {},
   "outputs": [
    {
     "data": {
      "text/html": [
       "<div>\n",
       "<style scoped>\n",
       "    .dataframe tbody tr th:only-of-type {\n",
       "        vertical-align: middle;\n",
       "    }\n",
       "\n",
       "    .dataframe tbody tr th {\n",
       "        vertical-align: top;\n",
       "    }\n",
       "\n",
       "    .dataframe thead th {\n",
       "        text-align: right;\n",
       "    }\n",
       "</style>\n",
       "<table border=\"1\" class=\"dataframe\">\n",
       "  <thead>\n",
       "    <tr style=\"text-align: right;\">\n",
       "      <th></th>\n",
       "      <th>Age</th>\n",
       "      <th>Height</th>\n",
       "      <th>Weight</th>\n",
       "      <th>PaceTotal</th>\n",
       "      <th>ShootingTotal</th>\n",
       "      <th>PassingTotal</th>\n",
       "      <th>DribblingTotal</th>\n",
       "      <th>DefendingTotal</th>\n",
       "      <th>PhysicalityTotal</th>\n",
       "      <th>Crossing</th>\n",
       "      <th>...</th>\n",
       "      <th>CMRating</th>\n",
       "      <th>RMRating</th>\n",
       "      <th>LWBRating</th>\n",
       "      <th>CDMRating</th>\n",
       "      <th>RWBRating</th>\n",
       "      <th>LBRating</th>\n",
       "      <th>CBRating</th>\n",
       "      <th>RBRating</th>\n",
       "      <th>GKRating</th>\n",
       "      <th>Prospect</th>\n",
       "    </tr>\n",
       "  </thead>\n",
       "  <tbody>\n",
       "    <tr>\n",
       "      <th>Age</th>\n",
       "      <td>1.000000</td>\n",
       "      <td>0.018988</td>\n",
       "      <td>0.080822</td>\n",
       "      <td>0.107841</td>\n",
       "      <td>0.093375</td>\n",
       "      <td>0.172423</td>\n",
       "      <td>0.146883</td>\n",
       "      <td>0.136092</td>\n",
       "      <td>0.274144</td>\n",
       "      <td>0.129849</td>\n",
       "      <td>...</td>\n",
       "      <td>0.133717</td>\n",
       "      <td>0.112939</td>\n",
       "      <td>0.149774</td>\n",
       "      <td>0.152902</td>\n",
       "      <td>0.149774</td>\n",
       "      <td>0.146105</td>\n",
       "      <td>0.144324</td>\n",
       "      <td>0.146105</td>\n",
       "      <td>0.019478</td>\n",
       "      <td>-0.582909</td>\n",
       "    </tr>\n",
       "    <tr>\n",
       "      <th>Height</th>\n",
       "      <td>0.018988</td>\n",
       "      <td>1.000000</td>\n",
       "      <td>0.743838</td>\n",
       "      <td>-0.384139</td>\n",
       "      <td>-0.097888</td>\n",
       "      <td>-0.172657</td>\n",
       "      <td>-0.295885</td>\n",
       "      <td>0.039815</td>\n",
       "      <td>0.440999</td>\n",
       "      <td>-0.480650</td>\n",
       "      <td>...</td>\n",
       "      <td>-0.390171</td>\n",
       "      <td>-0.456783</td>\n",
       "      <td>-0.303466</td>\n",
       "      <td>-0.201535</td>\n",
       "      <td>-0.303466</td>\n",
       "      <td>-0.251447</td>\n",
       "      <td>-0.062397</td>\n",
       "      <td>-0.251447</td>\n",
       "      <td>0.372424</td>\n",
       "      <td>0.010178</td>\n",
       "    </tr>\n",
       "    <tr>\n",
       "      <th>Weight</th>\n",
       "      <td>0.080822</td>\n",
       "      <td>0.743838</td>\n",
       "      <td>1.000000</td>\n",
       "      <td>-0.310781</td>\n",
       "      <td>-0.063294</td>\n",
       "      <td>-0.150032</td>\n",
       "      <td>-0.239219</td>\n",
       "      <td>0.035654</td>\n",
       "      <td>0.479184</td>\n",
       "      <td>-0.408269</td>\n",
       "      <td>...</td>\n",
       "      <td>-0.328367</td>\n",
       "      <td>-0.383186</td>\n",
       "      <td>-0.252259</td>\n",
       "      <td>-0.164336</td>\n",
       "      <td>-0.252259</td>\n",
       "      <td>-0.209222</td>\n",
       "      <td>-0.038580</td>\n",
       "      <td>-0.209222</td>\n",
       "      <td>0.324048</td>\n",
       "      <td>-0.025572</td>\n",
       "    </tr>\n",
       "    <tr>\n",
       "      <th>PaceTotal</th>\n",
       "      <td>0.107841</td>\n",
       "      <td>-0.384139</td>\n",
       "      <td>-0.310781</td>\n",
       "      <td>1.000000</td>\n",
       "      <td>0.312042</td>\n",
       "      <td>0.290279</td>\n",
       "      <td>0.557821</td>\n",
       "      <td>-0.094054</td>\n",
       "      <td>0.016908</td>\n",
       "      <td>0.564574</td>\n",
       "      <td>...</td>\n",
       "      <td>0.467228</td>\n",
       "      <td>0.605882</td>\n",
       "      <td>0.363656</td>\n",
       "      <td>0.220808</td>\n",
       "      <td>0.363656</td>\n",
       "      <td>0.301152</td>\n",
       "      <td>0.095544</td>\n",
       "      <td>0.301152</td>\n",
       "      <td>-0.306952</td>\n",
       "      <td>-0.093176</td>\n",
       "    </tr>\n",
       "    <tr>\n",
       "      <th>ShootingTotal</th>\n",
       "      <td>0.093375</td>\n",
       "      <td>-0.097888</td>\n",
       "      <td>-0.063294</td>\n",
       "      <td>0.312042</td>\n",
       "      <td>1.000000</td>\n",
       "      <td>0.602866</td>\n",
       "      <td>0.730978</td>\n",
       "      <td>-0.553480</td>\n",
       "      <td>-0.115810</td>\n",
       "      <td>0.141884</td>\n",
       "      <td>...</td>\n",
       "      <td>0.163928</td>\n",
       "      <td>0.250062</td>\n",
       "      <td>-0.241893</td>\n",
       "      <td>-0.283079</td>\n",
       "      <td>-0.241893</td>\n",
       "      <td>-0.325732</td>\n",
       "      <td>-0.464566</td>\n",
       "      <td>-0.325732</td>\n",
       "      <td>0.255293</td>\n",
       "      <td>-0.071425</td>\n",
       "    </tr>\n",
       "    <tr>\n",
       "      <th>...</th>\n",
       "      <td>...</td>\n",
       "      <td>...</td>\n",
       "      <td>...</td>\n",
       "      <td>...</td>\n",
       "      <td>...</td>\n",
       "      <td>...</td>\n",
       "      <td>...</td>\n",
       "      <td>...</td>\n",
       "      <td>...</td>\n",
       "      <td>...</td>\n",
       "      <td>...</td>\n",
       "      <td>...</td>\n",
       "      <td>...</td>\n",
       "      <td>...</td>\n",
       "      <td>...</td>\n",
       "      <td>...</td>\n",
       "      <td>...</td>\n",
       "      <td>...</td>\n",
       "      <td>...</td>\n",
       "      <td>...</td>\n",
       "      <td>...</td>\n",
       "    </tr>\n",
       "    <tr>\n",
       "      <th>LBRating</th>\n",
       "      <td>0.146105</td>\n",
       "      <td>-0.251447</td>\n",
       "      <td>-0.209222</td>\n",
       "      <td>0.301152</td>\n",
       "      <td>-0.325732</td>\n",
       "      <td>0.161350</td>\n",
       "      <td>0.100034</td>\n",
       "      <td>0.797579</td>\n",
       "      <td>0.386306</td>\n",
       "      <td>0.710517</td>\n",
       "      <td>...</td>\n",
       "      <td>0.826768</td>\n",
       "      <td>0.730987</td>\n",
       "      <td>0.992579</td>\n",
       "      <td>0.983404</td>\n",
       "      <td>0.992579</td>\n",
       "      <td>1.000000</td>\n",
       "      <td>0.954882</td>\n",
       "      <td>1.000000</td>\n",
       "      <td>-0.745881</td>\n",
       "      <td>-0.144201</td>\n",
       "    </tr>\n",
       "    <tr>\n",
       "      <th>CBRating</th>\n",
       "      <td>0.144324</td>\n",
       "      <td>-0.062397</td>\n",
       "      <td>-0.038580</td>\n",
       "      <td>0.095544</td>\n",
       "      <td>-0.464566</td>\n",
       "      <td>0.042816</td>\n",
       "      <td>-0.085025</td>\n",
       "      <td>0.900099</td>\n",
       "      <td>0.529902</td>\n",
       "      <td>0.506513</td>\n",
       "      <td>...</td>\n",
       "      <td>0.675316</td>\n",
       "      <td>0.532908</td>\n",
       "      <td>0.917685</td>\n",
       "      <td>0.959100</td>\n",
       "      <td>0.917685</td>\n",
       "      <td>0.954882</td>\n",
       "      <td>1.000000</td>\n",
       "      <td>0.954882</td>\n",
       "      <td>-0.638604</td>\n",
       "      <td>-0.141780</td>\n",
       "    </tr>\n",
       "    <tr>\n",
       "      <th>RBRating</th>\n",
       "      <td>0.146105</td>\n",
       "      <td>-0.251447</td>\n",
       "      <td>-0.209222</td>\n",
       "      <td>0.301152</td>\n",
       "      <td>-0.325732</td>\n",
       "      <td>0.161350</td>\n",
       "      <td>0.100034</td>\n",
       "      <td>0.797579</td>\n",
       "      <td>0.386306</td>\n",
       "      <td>0.710517</td>\n",
       "      <td>...</td>\n",
       "      <td>0.826768</td>\n",
       "      <td>0.730987</td>\n",
       "      <td>0.992579</td>\n",
       "      <td>0.983404</td>\n",
       "      <td>0.992579</td>\n",
       "      <td>1.000000</td>\n",
       "      <td>0.954882</td>\n",
       "      <td>1.000000</td>\n",
       "      <td>-0.745881</td>\n",
       "      <td>-0.144201</td>\n",
       "    </tr>\n",
       "    <tr>\n",
       "      <th>GKRating</th>\n",
       "      <td>0.019478</td>\n",
       "      <td>0.372424</td>\n",
       "      <td>0.324048</td>\n",
       "      <td>-0.306952</td>\n",
       "      <td>0.255293</td>\n",
       "      <td>0.196670</td>\n",
       "      <td>0.063342</td>\n",
       "      <td>-0.306770</td>\n",
       "      <td>-0.028701</td>\n",
       "      <td>-0.667026</td>\n",
       "      <td>...</td>\n",
       "      <td>-0.751010</td>\n",
       "      <td>-0.778403</td>\n",
       "      <td>-0.768249</td>\n",
       "      <td>-0.692050</td>\n",
       "      <td>-0.768249</td>\n",
       "      <td>-0.745881</td>\n",
       "      <td>-0.638604</td>\n",
       "      <td>-0.745881</td>\n",
       "      <td>1.000000</td>\n",
       "      <td>0.006496</td>\n",
       "    </tr>\n",
       "    <tr>\n",
       "      <th>Prospect</th>\n",
       "      <td>-0.582909</td>\n",
       "      <td>0.010178</td>\n",
       "      <td>-0.025572</td>\n",
       "      <td>-0.093176</td>\n",
       "      <td>-0.071425</td>\n",
       "      <td>-0.132314</td>\n",
       "      <td>-0.115547</td>\n",
       "      <td>-0.126851</td>\n",
       "      <td>-0.226080</td>\n",
       "      <td>-0.125328</td>\n",
       "      <td>...</td>\n",
       "      <td>-0.125753</td>\n",
       "      <td>-0.109805</td>\n",
       "      <td>-0.145756</td>\n",
       "      <td>-0.144564</td>\n",
       "      <td>-0.145756</td>\n",
       "      <td>-0.144201</td>\n",
       "      <td>-0.141780</td>\n",
       "      <td>-0.144201</td>\n",
       "      <td>0.006496</td>\n",
       "      <td>1.000000</td>\n",
       "    </tr>\n",
       "  </tbody>\n",
       "</table>\n",
       "<p>61 rows × 61 columns</p>\n",
       "</div>"
      ],
      "text/plain": [
       "                    Age    Height    Weight  PaceTotal  ShootingTotal  \\\n",
       "Age            1.000000  0.018988  0.080822   0.107841       0.093375   \n",
       "Height         0.018988  1.000000  0.743838  -0.384139      -0.097888   \n",
       "Weight         0.080822  0.743838  1.000000  -0.310781      -0.063294   \n",
       "PaceTotal      0.107841 -0.384139 -0.310781   1.000000       0.312042   \n",
       "ShootingTotal  0.093375 -0.097888 -0.063294   0.312042       1.000000   \n",
       "...                 ...       ...       ...        ...            ...   \n",
       "LBRating       0.146105 -0.251447 -0.209222   0.301152      -0.325732   \n",
       "CBRating       0.144324 -0.062397 -0.038580   0.095544      -0.464566   \n",
       "RBRating       0.146105 -0.251447 -0.209222   0.301152      -0.325732   \n",
       "GKRating       0.019478  0.372424  0.324048  -0.306952       0.255293   \n",
       "Prospect      -0.582909  0.010178 -0.025572  -0.093176      -0.071425   \n",
       "\n",
       "               PassingTotal  DribblingTotal  DefendingTotal  PhysicalityTotal  \\\n",
       "Age                0.172423        0.146883        0.136092          0.274144   \n",
       "Height            -0.172657       -0.295885        0.039815          0.440999   \n",
       "Weight            -0.150032       -0.239219        0.035654          0.479184   \n",
       "PaceTotal          0.290279        0.557821       -0.094054          0.016908   \n",
       "ShootingTotal      0.602866        0.730978       -0.553480         -0.115810   \n",
       "...                     ...             ...             ...               ...   \n",
       "LBRating           0.161350        0.100034        0.797579          0.386306   \n",
       "CBRating           0.042816       -0.085025        0.900099          0.529902   \n",
       "RBRating           0.161350        0.100034        0.797579          0.386306   \n",
       "GKRating           0.196670        0.063342       -0.306770         -0.028701   \n",
       "Prospect          -0.132314       -0.115547       -0.126851         -0.226080   \n",
       "\n",
       "               Crossing  ...  CMRating  RMRating  LWBRating  CDMRating  \\\n",
       "Age            0.129849  ...  0.133717  0.112939   0.149774   0.152902   \n",
       "Height        -0.480650  ... -0.390171 -0.456783  -0.303466  -0.201535   \n",
       "Weight        -0.408269  ... -0.328367 -0.383186  -0.252259  -0.164336   \n",
       "PaceTotal      0.564574  ...  0.467228  0.605882   0.363656   0.220808   \n",
       "ShootingTotal  0.141884  ...  0.163928  0.250062  -0.241893  -0.283079   \n",
       "...                 ...  ...       ...       ...        ...        ...   \n",
       "LBRating       0.710517  ...  0.826768  0.730987   0.992579   0.983404   \n",
       "CBRating       0.506513  ...  0.675316  0.532908   0.917685   0.959100   \n",
       "RBRating       0.710517  ...  0.826768  0.730987   0.992579   0.983404   \n",
       "GKRating      -0.667026  ... -0.751010 -0.778403  -0.768249  -0.692050   \n",
       "Prospect      -0.125328  ... -0.125753 -0.109805  -0.145756  -0.144564   \n",
       "\n",
       "               RWBRating  LBRating  CBRating  RBRating  GKRating  Prospect  \n",
       "Age             0.149774  0.146105  0.144324  0.146105  0.019478 -0.582909  \n",
       "Height         -0.303466 -0.251447 -0.062397 -0.251447  0.372424  0.010178  \n",
       "Weight         -0.252259 -0.209222 -0.038580 -0.209222  0.324048 -0.025572  \n",
       "PaceTotal       0.363656  0.301152  0.095544  0.301152 -0.306952 -0.093176  \n",
       "ShootingTotal  -0.241893 -0.325732 -0.464566 -0.325732  0.255293 -0.071425  \n",
       "...                  ...       ...       ...       ...       ...       ...  \n",
       "LBRating        0.992579  1.000000  0.954882  1.000000 -0.745881 -0.144201  \n",
       "CBRating        0.917685  0.954882  1.000000  0.954882 -0.638604 -0.141780  \n",
       "RBRating        0.992579  1.000000  0.954882  1.000000 -0.745881 -0.144201  \n",
       "GKRating       -0.768249 -0.745881 -0.638604 -0.745881  1.000000  0.006496  \n",
       "Prospect       -0.145756 -0.144201 -0.141780 -0.144201  0.006496  1.000000  \n",
       "\n",
       "[61 rows x 61 columns]"
      ]
     },
     "execution_count": 41,
     "metadata": {},
     "output_type": "execute_result"
    }
   ],
   "source": [
    "not_numeric = ['ID', 'Position', 'PreferredFoot', 'AttackingWorkRate', 'DefensiveWorkRate']\n",
    "numeric_df = train.drop(columns=not_numeric)\n",
    "corr = numeric_df.corr()\n",
    "corr"
   ]
  },
  {
   "cell_type": "markdown",
   "id": "c2f777c5-2729-4e4c-b39b-b2611cfb0584",
   "metadata": {},
   "source": [
    "### 2. 상관관계 살펴보기"
   ]
  },
  {
   "cell_type": "markdown",
   "id": "6828227d-f095-49dd-9681-819e8c73db64",
   "metadata": {},
   "source": [
    "이미 계산된 상관관계 데이터프레임에서 타겟 변수인 Prospect과의 상관관계가 가장 큰 숫자형 피처들을 추출해보자"
   ]
  },
  {
   "cell_type": "markdown",
   "id": "a5b48610-8fc4-4ad6-ac91-45d95c155b73",
   "metadata": {},
   "source": [
    "abs() 함수를 이용하여 타겟변수(Prospect)와 다른 피처들 간의 상관관계를 추출해 보자.\n",
    "sort_values() 함수를 이용하여 값을 내림차순으로 정렬해 보자. ascending = False 로 설정하면 값이 내림차순으로 정렬된다.\n",
    "iloc 함수를 이용하여 abs_corr 리스트의 첫 10개의 값만 선택해 보자."
   ]
  },
  {
   "cell_type": "code",
   "execution_count": 48,
   "id": "e06c0b92-6146-4fe4-86cf-e005d3b40252",
   "metadata": {},
   "outputs": [
    {
     "data": {
      "text/plain": [
       "Prospect            1.000000\n",
       "Age                 0.582909\n",
       "Reactions           0.235083\n",
       "PhysicalityTotal    0.226080\n",
       "Stamina             0.189974\n",
       "Strength            0.146012\n",
       "LWBRating           0.145756\n",
       "RWBRating           0.145756\n",
       "CDMRating           0.144564\n",
       "LBRating            0.144201\n",
       "Name: Prospect, dtype: float64"
      ]
     },
     "execution_count": 48,
     "metadata": {},
     "output_type": "execute_result"
    }
   ],
   "source": [
    "abs_corr = abs(corr['Prospect'])\n",
    "abs_corr = abs_corr.sort_values(ascending=False)\n",
    "top_10_corr = abs_corr.iloc[:10]\n",
    "top_10_corr"
   ]
  },
  {
   "cell_type": "markdown",
   "id": "ec36552a-6489-4561-9cbc-8d7596a6c8b3",
   "metadata": {},
   "source": [
    "### 3. 데이터 상관관계 히트맵"
   ]
  },
  {
   "cell_type": "markdown",
   "id": "15342700-720e-4e8d-860c-d5ca1fc8e3ca",
   "metadata": {},
   "source": [
    "히트맵(heatmap)을 사용하면 여러 피처(Feature) 간의 상관관계를 한 눈에 비교할 수 있다. 먼저, 상위 10개의 상관관계가 가장 높은 피처들을 확인해보자."
   ]
  },
  {
   "cell_type": "markdown",
   "id": "0e833dfe-9d61-427c-8fbd-27db299e970f",
   "metadata": {},
   "source": [
    "아래는 상관계수 행렬을 시각화한 히트맵이다. 양의 상관간계일수록 밝은 색으로 표시되고, 음의 상관관계일수록 진한 색으로 표시된다."
   ]
  },
  {
   "cell_type": "code",
   "execution_count": 50,
   "id": "0cb6baab-ffb4-46e7-8046-e23dadfdd19d",
   "metadata": {},
   "outputs": [
    {
     "data": {
      "image/png": "[encoded data removed]",
      "text/plain": [
       "<Figure size 700x500 with 2 Axes>"
      ]
     },
     "metadata": {},
     "output_type": "display_data"
    }
   ],
   "source": [
    "import seaborn as sns\n",
    "import matplotlib.pyplot as plt\n",
    "\n",
    "plt.figure(figsize = (7,5))\n",
    "sns.heatmap(numeric_df[top_10_corr.index].corr())\n",
    "\n",
    "plt.show()"
   ]
  },
  {
   "cell_type": "markdown",
   "id": "180ea656-e499-4e57-9694-0d095c831119",
   "metadata": {},
   "source": [
    "### 4. One-Hot Encoding(원-핫 인코딩) 적용"
   ]
  },
  {
   "cell_type": "markdown",
   "id": "bc0afae1-3b33-4bd5-9d18-f0d830d9b704",
   "metadata": {},
   "source": [
    "Scikit-learn 라이브러리의 OneHotEncoder를 사용하여 범주형 변수인 Position을 원-핫 인코딩해보자"
   ]
  },
  {
   "cell_type": "markdown",
   "id": "4c0e6863-f1f9-4411-b9b5-f0caa06bc5fa",
   "metadata": {},
   "source": [
    "OneHotEncoder() 객체를 생성해 보자..\n",
    "\n",
    "train 데이터프레임의 Position 피처(feature)를 입력으로 넣어보자. 단, OneHotEncoder는 2차원 배열을 입력으로 받아야 한다.\n",
    "fit_transform() 함수를 사용하여 인코딩을 수행하고, toarray() 함수를 사용하여 희소행렬(Sparse Matrix)을 밀집 배열(Dense Array)로 변환해 보자.\n",
    "\n",
    "[문제] test 데이터프레임의 Position 피처를 입력으로 넣어보자. 단, OneHotEncoder는 2차원 배열을 입력으로 받아야 한다.\n",
    "transform() 함수를 사용하여 인코딩을 수행하고, toarray() 함수를 사용하여 희소행렬(Sparse Matrix)을 밀집 배열(Dense Array)로 변환해 보자."
   ]
  },
  {
   "cell_type": "code",
   "execution_count": 58,
   "id": "f82a50de-1629-4b82-ad6b-37b68ac41bb3",
   "metadata": {},
   "outputs": [
    {
     "name": "stdout",
     "output_type": "stream",
     "text": [
      "[[0. 1. 0. ... 0. 0. 0.]\n",
      " [0. 0. 0. ... 0. 0. 1.]\n",
      " [0. 0. 0. ... 0. 0. 0.]\n",
      " ...\n",
      " [0. 0. 0. ... 0. 0. 0.]\n",
      " [0. 0. 0. ... 0. 0. 0.]\n",
      " [0. 0. 0. ... 0. 0. 0.]]\n"
     ]
    }
   ],
   "source": [
    "from sklearn.preprocessing import OneHotEncoder\n",
    "\n",
    "ohe = OneHotEncoder()\n",
    "train_encoded = ohe.fit_transform(train[['Position']]).toarray()\n",
    "test_encoded  = ohe.fit_transform(test[['Position']]).toarray()\n",
    "\n",
    "print(train_encoded)"
   ]
  },
  {
   "cell_type": "markdown",
   "id": "5651b8d3-f0bc-4acb-b425-103417a6f64f",
   "metadata": {},
   "source": [
    "### 5. One-Hot Encoding된 열들을 새로운 데이터프레임으로 생성"
   ]
  },
  {
   "cell_type": "markdown",
   "id": "43d8a641-f283-459d-a0c6-37e46d29b85f",
   "metadata": {},
   "source": [
    "원-핫 인코딩 된 데이터를 가지고 새로운 데이터프레임을 생성하고, 열 이름을 설정해보자"
   ]
  },
  {
   "cell_type": "markdown",
   "id": "9ed6925f-16ec-4fe5-9d23-44fd234d966d",
   "metadata": {},
   "source": [
    "[문제]\n",
    "pd.DataFrame() 함수를 이용하여 원-핫 인코딩된 데이터프레임(train_encoded)을 새로운 데이터프레임으로 변환해 보자\n",
    "columns 인자에는 get_feature_names_out() 함수를 이용하여 Position 인자를 전달해 보자"
   ]
  },
  {
   "cell_type": "code",
   "execution_count": 63,
   "id": "e3df388d-2fce-4c80-8a39-8a401cc61d77",
   "metadata": {},
   "outputs": [],
   "source": [
    "train_encoded_df = pd.DataFrame(train_encoded, columns=ohe.get_feature_names_out(['Position']))\n",
    "test_encoded_df = pd.DataFrame(test_encoded, columns=ohe.get_feature_names_out(['Position']))"
   ]
  },
  {
   "cell_type": "markdown",
   "id": "79e2f65c-0da2-46bf-b0e3-0abd0b414dc6",
   "metadata": {},
   "source": [
    "### 6. train,Test 데이터 프레임에 One-Hot Encoding(원-핫 인코딩)된 데이터프레임 추가"
   ]
  },
  {
   "cell_type": "markdown",
   "id": "ff9cade9-f988-4ab1-bc85-e7084b319aff",
   "metadata": {},
   "source": [
    "원-핫 인코딩된 새로운 데이터프레임을 원본 데이터 프레임에 열 방향으로 추가해보자"
   ]
  },
  {
   "cell_type": "markdown",
   "id": "f55bd330-91b6-4d3f-956e-0e9a8e0e8408",
   "metadata": {},
   "source": [
    "[문제] pd.concat() 함수를 사용하여 train, train_encoded_df 두 데이터프레임을 합쳐보자.\n",
    "axis = 1 로 설정하면 열 방향으로 합친다.\n",
    "pd.concat() 함수를 사용하여 test, test_encoded_df 두 데이터프레임을 합쳐보자.\n",
    "axis = 1 로 설정하면 열 방향으로 합친다."
   ]
  },
  {
   "cell_type": "code",
   "execution_count": 65,
   "id": "e4cf7c73-395e-418d-98f7-6ab1e89f2ffd",
   "metadata": {},
   "outputs": [
    {
     "data": {
      "text/html": [
       "<div>\n",
       "<style scoped>\n",
       "    .dataframe tbody tr th:only-of-type {\n",
       "        vertical-align: middle;\n",
       "    }\n",
       "\n",
       "    .dataframe tbody tr th {\n",
       "        vertical-align: top;\n",
       "    }\n",
       "\n",
       "    .dataframe thead th {\n",
       "        text-align: right;\n",
       "    }\n",
       "</style>\n",
       "<table border=\"1\" class=\"dataframe\">\n",
       "  <thead>\n",
       "    <tr style=\"text-align: right;\">\n",
       "      <th></th>\n",
       "      <th>ID</th>\n",
       "      <th>Age</th>\n",
       "      <th>Height</th>\n",
       "      <th>Weight</th>\n",
       "      <th>Position</th>\n",
       "      <th>PreferredFoot</th>\n",
       "      <th>AttackingWorkRate</th>\n",
       "      <th>DefensiveWorkRate</th>\n",
       "      <th>PaceTotal</th>\n",
       "      <th>ShootingTotal</th>\n",
       "      <th>...</th>\n",
       "      <th>Position_GK</th>\n",
       "      <th>Position_LB</th>\n",
       "      <th>Position_LM</th>\n",
       "      <th>Position_LW</th>\n",
       "      <th>Position_LWB</th>\n",
       "      <th>Position_RB</th>\n",
       "      <th>Position_RM</th>\n",
       "      <th>Position_RW</th>\n",
       "      <th>Position_RWB</th>\n",
       "      <th>Position_ST</th>\n",
       "    </tr>\n",
       "  </thead>\n",
       "  <tbody>\n",
       "    <tr>\n",
       "      <th>0</th>\n",
       "      <td>TRAIN_0000</td>\n",
       "      <td>21</td>\n",
       "      <td>182</td>\n",
       "      <td>82</td>\n",
       "      <td>CB</td>\n",
       "      <td>Right</td>\n",
       "      <td>Medium</td>\n",
       "      <td>Medium</td>\n",
       "      <td>4.6377</td>\n",
       "      <td>2.1053</td>\n",
       "      <td>...</td>\n",
       "      <td>0.0</td>\n",
       "      <td>0.0</td>\n",
       "      <td>0.0</td>\n",
       "      <td>0.0</td>\n",
       "      <td>0.0</td>\n",
       "      <td>0.0</td>\n",
       "      <td>0.0</td>\n",
       "      <td>0.0</td>\n",
       "      <td>0.0</td>\n",
       "      <td>0.0</td>\n",
       "    </tr>\n",
       "    <tr>\n",
       "      <th>1</th>\n",
       "      <td>TRAIN_0001</td>\n",
       "      <td>21</td>\n",
       "      <td>160</td>\n",
       "      <td>75</td>\n",
       "      <td>ST</td>\n",
       "      <td>Left</td>\n",
       "      <td>High</td>\n",
       "      <td>Medium</td>\n",
       "      <td>7.3913</td>\n",
       "      <td>7.3684</td>\n",
       "      <td>...</td>\n",
       "      <td>0.0</td>\n",
       "      <td>0.0</td>\n",
       "      <td>0.0</td>\n",
       "      <td>0.0</td>\n",
       "      <td>0.0</td>\n",
       "      <td>0.0</td>\n",
       "      <td>0.0</td>\n",
       "      <td>0.0</td>\n",
       "      <td>0.0</td>\n",
       "      <td>1.0</td>\n",
       "    </tr>\n",
       "    <tr>\n",
       "      <th>2</th>\n",
       "      <td>TRAIN_0002</td>\n",
       "      <td>18</td>\n",
       "      <td>165</td>\n",
       "      <td>60</td>\n",
       "      <td>RB</td>\n",
       "      <td>Right</td>\n",
       "      <td>Medium</td>\n",
       "      <td>Medium</td>\n",
       "      <td>6.2319</td>\n",
       "      <td>3.2895</td>\n",
       "      <td>...</td>\n",
       "      <td>0.0</td>\n",
       "      <td>0.0</td>\n",
       "      <td>0.0</td>\n",
       "      <td>0.0</td>\n",
       "      <td>0.0</td>\n",
       "      <td>1.0</td>\n",
       "      <td>0.0</td>\n",
       "      <td>0.0</td>\n",
       "      <td>0.0</td>\n",
       "      <td>0.0</td>\n",
       "    </tr>\n",
       "    <tr>\n",
       "      <th>3</th>\n",
       "      <td>TRAIN_0003</td>\n",
       "      <td>20</td>\n",
       "      <td>190</td>\n",
       "      <td>72</td>\n",
       "      <td>CB</td>\n",
       "      <td>Right</td>\n",
       "      <td>Medium</td>\n",
       "      <td>Medium</td>\n",
       "      <td>4.7826</td>\n",
       "      <td>1.0526</td>\n",
       "      <td>...</td>\n",
       "      <td>0.0</td>\n",
       "      <td>0.0</td>\n",
       "      <td>0.0</td>\n",
       "      <td>0.0</td>\n",
       "      <td>0.0</td>\n",
       "      <td>0.0</td>\n",
       "      <td>0.0</td>\n",
       "      <td>0.0</td>\n",
       "      <td>0.0</td>\n",
       "      <td>0.0</td>\n",
       "    </tr>\n",
       "    <tr>\n",
       "      <th>4</th>\n",
       "      <td>TRAIN_0004</td>\n",
       "      <td>21</td>\n",
       "      <td>181</td>\n",
       "      <td>77</td>\n",
       "      <td>ST</td>\n",
       "      <td>Right</td>\n",
       "      <td>High</td>\n",
       "      <td>Medium</td>\n",
       "      <td>8.2609</td>\n",
       "      <td>7.3684</td>\n",
       "      <td>...</td>\n",
       "      <td>0.0</td>\n",
       "      <td>0.0</td>\n",
       "      <td>0.0</td>\n",
       "      <td>0.0</td>\n",
       "      <td>0.0</td>\n",
       "      <td>0.0</td>\n",
       "      <td>0.0</td>\n",
       "      <td>0.0</td>\n",
       "      <td>0.0</td>\n",
       "      <td>1.0</td>\n",
       "    </tr>\n",
       "  </tbody>\n",
       "</table>\n",
       "<p>5 rows × 111 columns</p>\n",
       "</div>"
      ],
      "text/plain": [
       "           ID  Age  Height  Weight Position PreferredFoot AttackingWorkRate  \\\n",
       "0  TRAIN_0000   21     182      82       CB         Right            Medium   \n",
       "1  TRAIN_0001   21     160      75       ST          Left              High   \n",
       "2  TRAIN_0002   18     165      60       RB         Right            Medium   \n",
       "3  TRAIN_0003   20     190      72       CB         Right            Medium   \n",
       "4  TRAIN_0004   21     181      77       ST         Right              High   \n",
       "\n",
       "  DefensiveWorkRate  PaceTotal  ShootingTotal  ...  Position_GK  Position_LB  \\\n",
       "0            Medium     4.6377         2.1053  ...          0.0          0.0   \n",
       "1            Medium     7.3913         7.3684  ...          0.0          0.0   \n",
       "2            Medium     6.2319         3.2895  ...          0.0          0.0   \n",
       "3            Medium     4.7826         1.0526  ...          0.0          0.0   \n",
       "4            Medium     8.2609         7.3684  ...          0.0          0.0   \n",
       "\n",
       "   Position_LM  Position_LW  Position_LWB  Position_RB  Position_RM  \\\n",
       "0          0.0          0.0           0.0          0.0          0.0   \n",
       "1          0.0          0.0           0.0          0.0          0.0   \n",
       "2          0.0          0.0           0.0          1.0          0.0   \n",
       "3          0.0          0.0           0.0          0.0          0.0   \n",
       "4          0.0          0.0           0.0          0.0          0.0   \n",
       "\n",
       "   Position_RW  Position_RWB  Position_ST  \n",
       "0          0.0           0.0          0.0  \n",
       "1          0.0           0.0          1.0  \n",
       "2          0.0           0.0          0.0  \n",
       "3          0.0           0.0          0.0  \n",
       "4          0.0           0.0          1.0  \n",
       "\n",
       "[5 rows x 111 columns]"
      ]
     },
     "execution_count": 65,
     "metadata": {},
     "output_type": "execute_result"
    }
   ],
   "source": [
    "train = pd.concat([train, train_encoded_df], axis=1)\n",
    "test = pd.concat([test, test_encoded_df], axis=1)\n",
    "\n",
    "train.head()"
   ]
  },
  {
   "cell_type": "markdown",
   "id": "4387f9b3-c2fc-4db9-b621-906716a17395",
   "metadata": {},
   "source": [
    "### 7. train과 test 데이터프레임에서 'Position' 피처 제거"
   ]
  },
  {
   "cell_type": "markdown",
   "id": "f19b488e-a208-4561-93eb-a4e08f531fec",
   "metadata": {},
   "source": [
    "[문제 7]\n",
    "원-핫 인코딩으로 변환된 'Position' 칼럼은 더 이상 필요하지 않기 때문에, 해당 칼럼을 제거해보자"
   ]
  },
  {
   "cell_type": "code",
   "execution_count": 71,
   "id": "59bc5080-3008-459d-bfce-723c78e40c5d",
   "metadata": {},
   "outputs": [],
   "source": [
    "#train = train.drop(['Position'], axis=1)\n",
    "#test = test.drop(['Position'], axis=1)"
   ]
  },
  {
   "cell_type": "markdown",
   "id": "031b98f4-3663-403d-96a8-bd55af8cacbe",
   "metadata": {},
   "source": [
    "## 스테이지 6. 모델링 실습"
   ]
  },
  {
   "cell_type": "markdown",
   "id": "80a40bce-2f00-4364-838f-a953f0318dad",
   "metadata": {},
   "source": [
    "### 1. 파일 읽어오기"
   ]
  },
  {
   "cell_type": "code",
   "execution_count": 95,
   "id": "dc451fd2-879f-49c5-8f90-a91076b16dd2",
   "metadata": {},
   "outputs": [],
   "source": [
    "import pandas as pd\n",
    "\n",
    "train = pd.read_csv('data/open/train.csv')\n",
    "test = pd.read_csv('data/open/test.csv')\n",
    "submission = pd.read_csv('data/open/sample_submission.csv')"
   ]
  },
  {
   "cell_type": "markdown",
   "id": "147f7ac7-560b-45b9-977d-f241d8e39447",
   "metadata": {},
   "source": [
    "### 2. 범주형 변수 제거"
   ]
  },
  {
   "cell_type": "code",
   "execution_count": 96,
   "id": "f0c212f3-dc43-4125-a070-a84d31678466",
   "metadata": {},
   "outputs": [],
   "source": [
    "not_numeric = ['ID', 'Position', 'PreferredFoot', 'AttackingWorkRate', 'DefensiveWorkRate']\n",
    "\n",
    "train_transfered = train.drop(not_numeric, axis=1)\n",
    "test_transfered = test.drop(not_numeric, axis=1)"
   ]
  },
  {
   "cell_type": "markdown",
   "id": "4824898d-3688-4bde-97b7-09e03711ea12",
   "metadata": {},
   "source": [
    "### 3. train 데이터프레임에서 prospect와의 상관관계가 높은 상위 7개 피처 추출"
   ]
  },
  {
   "cell_type": "code",
   "execution_count": 97,
   "id": "ee7eceb3-8f39-4282-bd3c-39bd0c3b105c",
   "metadata": {},
   "outputs": [
    {
     "data": {
      "text/plain": [
       "Index(['Age', 'Reactions', 'PhysicalityTotal', 'Stamina', 'Strength',\n",
       "       'LWBRating', 'RWBRating'],\n",
       "      dtype='object')"
      ]
     },
     "execution_count": 97,
     "metadata": {},
     "output_type": "execute_result"
    }
   ],
   "source": [
    "abs_corr = abs(train_transfered.corr())['Prospect']\n",
    "abs_corr_sort = abs_corr.sort_values(ascending=False)[1:8]\n",
    "col_names = abs_corr_sort.index\n",
    "col_names"
   ]
  },
  {
   "cell_type": "markdown",
   "id": "53cab21a-0831-4eac-893d-316784033173",
   "metadata": {},
   "source": [
    "### 4. x_train / y_train 추출"
   ]
  },
  {
   "cell_type": "code",
   "execution_count": 98,
   "id": "3e4fdbe7-d7c1-4ccc-abc6-6f9a5d579769",
   "metadata": {},
   "outputs": [],
   "source": [
    "x_train = train_transfered[col_names]\n",
    "y_train = train_transfered['Prospect']"
   ]
  },
  {
   "cell_type": "markdown",
   "id": "6ff379e8-5780-4b2c-a936-23fcc9de346c",
   "metadata": {},
   "source": [
    "### 5. 학습/검증 세트 분리"
   ]
  },
  {
   "cell_type": "markdown",
   "id": "ace1fc4c-2023-43f3-a9de-b6ea3c055d55",
   "metadata": {},
   "source": [
    "기존의 x_train과 y_train 데이터셋을 학습 및 검증(validation) 셋으로 분리한다."
   ]
  },
  {
   "cell_type": "code",
   "execution_count": 99,
   "id": "a1075af1-10ca-4e80-9b93-e196830ae5bd",
   "metadata": {},
   "outputs": [],
   "source": [
    "from sklearn.model_selection import train_test_split\n",
    "\n",
    "train_x, val_x, train_y, val_y = train_test_split(x_train, y_train, test_size=0.2, random_state=42)"
   ]
  },
  {
   "cell_type": "markdown",
   "id": "e6e2eb1f-c301-4433-a9f4-73bf561642b4",
   "metadata": {},
   "source": [
    "### 6. LogisticRegression(로지스틱 회귀) 모델 학습"
   ]
  },
  {
   "cell_type": "code",
   "execution_count": 100,
   "id": "16bf6d21-f6bc-4757-8cf2-ef0ff971bbe7",
   "metadata": {},
   "outputs": [
    {
     "data": {
      "text/html": [
       "<style>#sk-container-id-3 {\n",
       "  /* Definition of color scheme common for light and dark mode */\n",
       "  --sklearn-color-text: black;\n",
       "  --sklearn-color-line: gray;\n",
       "  /* Definition of color scheme for unfitted estimators */\n",
       "  --sklearn-color-unfitted-level-0: #fff5e6;\n",
       "  --sklearn-color-unfitted-level-1: #f6e4d2;\n",
       "  --sklearn-color-unfitted-level-2: #ffe0b3;\n",
       "  --sklearn-color-unfitted-level-3: chocolate;\n",
       "  /* Definition of color scheme for fitted estimators */\n",
       "  --sklearn-color-fitted-level-0: #f0f8ff;\n",
       "  --sklearn-color-fitted-level-1: #d4ebff;\n",
       "  --sklearn-color-fitted-level-2: #b3dbfd;\n",
       "  --sklearn-color-fitted-level-3: cornflowerblue;\n",
       "\n",
       "  /* Specific color for light theme */\n",
       "  --sklearn-color-text-on-default-background: var(--sg-text-color, var(--theme-code-foreground, var(--jp-content-font-color1, black)));\n",
       "  --sklearn-color-background: var(--sg-background-color, var(--theme-background, var(--jp-layout-color0, white)));\n",
       "  --sklearn-color-border-box: var(--sg-text-color, var(--theme-code-foreground, var(--jp-content-font-color1, black)));\n",
       "  --sklearn-color-icon: #696969;\n",
       "\n",
       "  @media (prefers-color-scheme: dark) {\n",
       "    /* Redefinition of color scheme for dark theme */\n",
       "    --sklearn-color-text-on-default-background: var(--sg-text-color, var(--theme-code-foreground, var(--jp-content-font-color1, white)));\n",
       "    --sklearn-color-background: var(--sg-background-color, var(--theme-background, var(--jp-layout-color0, #111)));\n",
       "    --sklearn-color-border-box: var(--sg-text-color, var(--theme-code-foreground, var(--jp-content-font-color1, white)));\n",
       "    --sklearn-color-icon: #878787;\n",
       "  }\n",
       "}\n",
       "\n",
       "#sk-container-id-3 {\n",
       "  color: var(--sklearn-color-text);\n",
       "}\n",
       "\n",
       "#sk-container-id-3 pre {\n",
       "  padding: 0;\n",
       "}\n",
       "\n",
       "#sk-container-id-3 input.sk-hidden--visually {\n",
       "  border: 0;\n",
       "  clip: rect(1px 1px 1px 1px);\n",
       "  clip: rect(1px, 1px, 1px, 1px);\n",
       "  height: 1px;\n",
       "  margin: -1px;\n",
       "  overflow: hidden;\n",
       "  padding: 0;\n",
       "  position: absolute;\n",
       "  width: 1px;\n",
       "}\n",
       "\n",
       "#sk-container-id-3 div.sk-dashed-wrapped {\n",
       "  border: 1px dashed var(--sklearn-color-line);\n",
       "  margin: 0 0.4em 0.5em 0.4em;\n",
       "  box-sizing: border-box;\n",
       "  padding-bottom: 0.4em;\n",
       "  background-color: var(--sklearn-color-background);\n",
       "}\n",
       "\n",
       "#sk-container-id-3 div.sk-container {\n",
       "  /* jupyter's `normalize.less` sets `[hidden] { display: none; }`\n",
       "     but bootstrap.min.css set `[hidden] { display: none !important; }`\n",
       "     so we also need the `!important` here to be able to override the\n",
       "     default hidden behavior on the sphinx rendered scikit-learn.org.\n",
       "     See: https://github.com/scikit-learn/scikit-learn/issues/21755 */\n",
       "  display: inline-block !important;\n",
       "  position: relative;\n",
       "}\n",
       "\n",
       "#sk-container-id-3 div.sk-text-repr-fallback {\n",
       "  display: none;\n",
       "}\n",
       "\n",
       "div.sk-parallel-item,\n",
       "div.sk-serial,\n",
       "div.sk-item {\n",
       "  /* draw centered vertical line to link estimators */\n",
       "  background-image: linear-gradient(var(--sklearn-color-text-on-default-background), var(--sklearn-color-text-on-default-background));\n",
       "  background-size: 2px 100%;\n",
       "  background-repeat: no-repeat;\n",
       "  background-position: center center;\n",
       "}\n",
       "\n",
       "/* Parallel-specific style estimator block */\n",
       "\n",
       "#sk-container-id-3 div.sk-parallel-item::after {\n",
       "  content: \"\";\n",
       "  width: 100%;\n",
       "  border-bottom: 2px solid var(--sklearn-color-text-on-default-background);\n",
       "  flex-grow: 1;\n",
       "}\n",
       "\n",
       "#sk-container-id-3 div.sk-parallel {\n",
       "  display: flex;\n",
       "  align-items: stretch;\n",
       "  justify-content: center;\n",
       "  background-color: var(--sklearn-color-background);\n",
       "  position: relative;\n",
       "}\n",
       "\n",
       "#sk-container-id-3 div.sk-parallel-item {\n",
       "  display: flex;\n",
       "  flex-direction: column;\n",
       "}\n",
       "\n",
       "#sk-container-id-3 div.sk-parallel-item:first-child::after {\n",
       "  align-self: flex-end;\n",
       "  width: 50%;\n",
       "}\n",
       "\n",
       "#sk-container-id-3 div.sk-parallel-item:last-child::after {\n",
       "  align-self: flex-start;\n",
       "  width: 50%;\n",
       "}\n",
       "\n",
       "#sk-container-id-3 div.sk-parallel-item:only-child::after {\n",
       "  width: 0;\n",
       "}\n",
       "\n",
       "/* Serial-specific style estimator block */\n",
       "\n",
       "#sk-container-id-3 div.sk-serial {\n",
       "  display: flex;\n",
       "  flex-direction: column;\n",
       "  align-items: center;\n",
       "  background-color: var(--sklearn-color-background);\n",
       "  padding-right: 1em;\n",
       "  padding-left: 1em;\n",
       "}\n",
       "\n",
       "\n",
       "/* Toggleable style: style used for estimator/Pipeline/ColumnTransformer box that is\n",
       "clickable and can be expanded/collapsed.\n",
       "- Pipeline and ColumnTransformer use this feature and define the default style\n",
       "- Estimators will overwrite some part of the style using the `sk-estimator` class\n",
       "*/\n",
       "\n",
       "/* Pipeline and ColumnTransformer style (default) */\n",
       "\n",
       "#sk-container-id-3 div.sk-toggleable {\n",
       "  /* Default theme specific background. It is overwritten whether we have a\n",
       "  specific estimator or a Pipeline/ColumnTransformer */\n",
       "  background-color: var(--sklearn-color-background);\n",
       "}\n",
       "\n",
       "/* Toggleable label */\n",
       "#sk-container-id-3 label.sk-toggleable__label {\n",
       "  cursor: pointer;\n",
       "  display: block;\n",
       "  width: 100%;\n",
       "  margin-bottom: 0;\n",
       "  padding: 0.5em;\n",
       "  box-sizing: border-box;\n",
       "  text-align: center;\n",
       "}\n",
       "\n",
       "#sk-container-id-3 label.sk-toggleable__label-arrow:before {\n",
       "  /* Arrow on the left of the label */\n",
       "  content: \"▸\";\n",
       "  float: left;\n",
       "  margin-right: 0.25em;\n",
       "  color: var(--sklearn-color-icon);\n",
       "}\n",
       "\n",
       "#sk-container-id-3 label.sk-toggleable__label-arrow:hover:before {\n",
       "  color: var(--sklearn-color-text);\n",
       "}\n",
       "\n",
       "/* Toggleable content - dropdown */\n",
       "\n",
       "#sk-container-id-3 div.sk-toggleable__content {\n",
       "  max-height: 0;\n",
       "  max-width: 0;\n",
       "  overflow: hidden;\n",
       "  text-align: left;\n",
       "  /* unfitted */\n",
       "  background-color: var(--sklearn-color-unfitted-level-0);\n",
       "}\n",
       "\n",
       "#sk-container-id-3 div.sk-toggleable__content.fitted {\n",
       "  /* fitted */\n",
       "  background-color: var(--sklearn-color-fitted-level-0);\n",
       "}\n",
       "\n",
       "#sk-container-id-3 div.sk-toggleable__content pre {\n",
       "  margin: 0.2em;\n",
       "  border-radius: 0.25em;\n",
       "  color: var(--sklearn-color-text);\n",
       "  /* unfitted */\n",
       "  background-color: var(--sklearn-color-unfitted-level-0);\n",
       "}\n",
       "\n",
       "#sk-container-id-3 div.sk-toggleable__content.fitted pre {\n",
       "  /* unfitted */\n",
       "  background-color: var(--sklearn-color-fitted-level-0);\n",
       "}\n",
       "\n",
       "#sk-container-id-3 input.sk-toggleable__control:checked~div.sk-toggleable__content {\n",
       "  /* Expand drop-down */\n",
       "  max-height: 200px;\n",
       "  max-width: 100%;\n",
       "  overflow: auto;\n",
       "}\n",
       "\n",
       "#sk-container-id-3 input.sk-toggleable__control:checked~label.sk-toggleable__label-arrow:before {\n",
       "  content: \"▾\";\n",
       "}\n",
       "\n",
       "/* Pipeline/ColumnTransformer-specific style */\n",
       "\n",
       "#sk-container-id-3 div.sk-label input.sk-toggleable__control:checked~label.sk-toggleable__label {\n",
       "  color: var(--sklearn-color-text);\n",
       "  background-color: var(--sklearn-color-unfitted-level-2);\n",
       "}\n",
       "\n",
       "#sk-container-id-3 div.sk-label.fitted input.sk-toggleable__control:checked~label.sk-toggleable__label {\n",
       "  background-color: var(--sklearn-color-fitted-level-2);\n",
       "}\n",
       "\n",
       "/* Estimator-specific style */\n",
       "\n",
       "/* Colorize estimator box */\n",
       "#sk-container-id-3 div.sk-estimator input.sk-toggleable__control:checked~label.sk-toggleable__label {\n",
       "  /* unfitted */\n",
       "  background-color: var(--sklearn-color-unfitted-level-2);\n",
       "}\n",
       "\n",
       "#sk-container-id-3 div.sk-estimator.fitted input.sk-toggleable__control:checked~label.sk-toggleable__label {\n",
       "  /* fitted */\n",
       "  background-color: var(--sklearn-color-fitted-level-2);\n",
       "}\n",
       "\n",
       "#sk-container-id-3 div.sk-label label.sk-toggleable__label,\n",
       "#sk-container-id-3 div.sk-label label {\n",
       "  /* The background is the default theme color */\n",
       "  color: var(--sklearn-color-text-on-default-background);\n",
       "}\n",
       "\n",
       "/* On hover, darken the color of the background */\n",
       "#sk-container-id-3 div.sk-label:hover label.sk-toggleable__label {\n",
       "  color: var(--sklearn-color-text);\n",
       "  background-color: var(--sklearn-color-unfitted-level-2);\n",
       "}\n",
       "\n",
       "/* Label box, darken color on hover, fitted */\n",
       "#sk-container-id-3 div.sk-label.fitted:hover label.sk-toggleable__label.fitted {\n",
       "  color: var(--sklearn-color-text);\n",
       "  background-color: var(--sklearn-color-fitted-level-2);\n",
       "}\n",
       "\n",
       "/* Estimator label */\n",
       "\n",
       "#sk-container-id-3 div.sk-label label {\n",
       "  font-family: monospace;\n",
       "  font-weight: bold;\n",
       "  display: inline-block;\n",
       "  line-height: 1.2em;\n",
       "}\n",
       "\n",
       "#sk-container-id-3 div.sk-label-container {\n",
       "  text-align: center;\n",
       "}\n",
       "\n",
       "/* Estimator-specific */\n",
       "#sk-container-id-3 div.sk-estimator {\n",
       "  font-family: monospace;\n",
       "  border: 1px dotted var(--sklearn-color-border-box);\n",
       "  border-radius: 0.25em;\n",
       "  box-sizing: border-box;\n",
       "  margin-bottom: 0.5em;\n",
       "  /* unfitted */\n",
       "  background-color: var(--sklearn-color-unfitted-level-0);\n",
       "}\n",
       "\n",
       "#sk-container-id-3 div.sk-estimator.fitted {\n",
       "  /* fitted */\n",
       "  background-color: var(--sklearn-color-fitted-level-0);\n",
       "}\n",
       "\n",
       "/* on hover */\n",
       "#sk-container-id-3 div.sk-estimator:hover {\n",
       "  /* unfitted */\n",
       "  background-color: var(--sklearn-color-unfitted-level-2);\n",
       "}\n",
       "\n",
       "#sk-container-id-3 div.sk-estimator.fitted:hover {\n",
       "  /* fitted */\n",
       "  background-color: var(--sklearn-color-fitted-level-2);\n",
       "}\n",
       "\n",
       "/* Specification for estimator info (e.g. \"i\" and \"?\") */\n",
       "\n",
       "/* Common style for \"i\" and \"?\" */\n",
       "\n",
       ".sk-estimator-doc-link,\n",
       "a:link.sk-estimator-doc-link,\n",
       "a:visited.sk-estimator-doc-link {\n",
       "  float: right;\n",
       "  font-size: smaller;\n",
       "  line-height: 1em;\n",
       "  font-family: monospace;\n",
       "  background-color: var(--sklearn-color-background);\n",
       "  border-radius: 1em;\n",
       "  height: 1em;\n",
       "  width: 1em;\n",
       "  text-decoration: none !important;\n",
       "  margin-left: 1ex;\n",
       "  /* unfitted */\n",
       "  border: var(--sklearn-color-unfitted-level-1) 1pt solid;\n",
       "  color: var(--sklearn-color-unfitted-level-1);\n",
       "}\n",
       "\n",
       ".sk-estimator-doc-link.fitted,\n",
       "a:link.sk-estimator-doc-link.fitted,\n",
       "a:visited.sk-estimator-doc-link.fitted {\n",
       "  /* fitted */\n",
       "  border: var(--sklearn-color-fitted-level-1) 1pt solid;\n",
       "  color: var(--sklearn-color-fitted-level-1);\n",
       "}\n",
       "\n",
       "/* On hover */\n",
       "div.sk-estimator:hover .sk-estimator-doc-link:hover,\n",
       ".sk-estimator-doc-link:hover,\n",
       "div.sk-label-container:hover .sk-estimator-doc-link:hover,\n",
       ".sk-estimator-doc-link:hover {\n",
       "  /* unfitted */\n",
       "  background-color: var(--sklearn-color-unfitted-level-3);\n",
       "  color: var(--sklearn-color-background);\n",
       "  text-decoration: none;\n",
       "}\n",
       "\n",
       "div.sk-estimator.fitted:hover .sk-estimator-doc-link.fitted:hover,\n",
       ".sk-estimator-doc-link.fitted:hover,\n",
       "div.sk-label-container:hover .sk-estimator-doc-link.fitted:hover,\n",
       ".sk-estimator-doc-link.fitted:hover {\n",
       "  /* fitted */\n",
       "  background-color: var(--sklearn-color-fitted-level-3);\n",
       "  color: var(--sklearn-color-background);\n",
       "  text-decoration: none;\n",
       "}\n",
       "\n",
       "/* Span, style for the box shown on hovering the info icon */\n",
       ".sk-estimator-doc-link span {\n",
       "  display: none;\n",
       "  z-index: 9999;\n",
       "  position: relative;\n",
       "  font-weight: normal;\n",
       "  right: .2ex;\n",
       "  padding: .5ex;\n",
       "  margin: .5ex;\n",
       "  width: min-content;\n",
       "  min-width: 20ex;\n",
       "  max-width: 50ex;\n",
       "  color: var(--sklearn-color-text);\n",
       "  box-shadow: 2pt 2pt 4pt #999;\n",
       "  /* unfitted */\n",
       "  background: var(--sklearn-color-unfitted-level-0);\n",
       "  border: .5pt solid var(--sklearn-color-unfitted-level-3);\n",
       "}\n",
       "\n",
       ".sk-estimator-doc-link.fitted span {\n",
       "  /* fitted */\n",
       "  background: var(--sklearn-color-fitted-level-0);\n",
       "  border: var(--sklearn-color-fitted-level-3);\n",
       "}\n",
       "\n",
       ".sk-estimator-doc-link:hover span {\n",
       "  display: block;\n",
       "}\n",
       "\n",
       "/* \"?\"-specific style due to the `<a>` HTML tag */\n",
       "\n",
       "#sk-container-id-3 a.estimator_doc_link {\n",
       "  float: right;\n",
       "  font-size: 1rem;\n",
       "  line-height: 1em;\n",
       "  font-family: monospace;\n",
       "  background-color: var(--sklearn-color-background);\n",
       "  border-radius: 1rem;\n",
       "  height: 1rem;\n",
       "  width: 1rem;\n",
       "  text-decoration: none;\n",
       "  /* unfitted */\n",
       "  color: var(--sklearn-color-unfitted-level-1);\n",
       "  border: var(--sklearn-color-unfitted-level-1) 1pt solid;\n",
       "}\n",
       "\n",
       "#sk-container-id-3 a.estimator_doc_link.fitted {\n",
       "  /* fitted */\n",
       "  border: var(--sklearn-color-fitted-level-1) 1pt solid;\n",
       "  color: var(--sklearn-color-fitted-level-1);\n",
       "}\n",
       "\n",
       "/* On hover */\n",
       "#sk-container-id-3 a.estimator_doc_link:hover {\n",
       "  /* unfitted */\n",
       "  background-color: var(--sklearn-color-unfitted-level-3);\n",
       "  color: var(--sklearn-color-background);\n",
       "  text-decoration: none;\n",
       "}\n",
       "\n",
       "#sk-container-id-3 a.estimator_doc_link.fitted:hover {\n",
       "  /* fitted */\n",
       "  background-color: var(--sklearn-color-fitted-level-3);\n",
       "}\n",
       "</style><div id=\"sk-container-id-3\" class=\"sk-top-container\"><div class=\"sk-text-repr-fallback\"><pre>LogisticRegression(max_iter=5000)</pre><b>In a Jupyter environment, please rerun this cell to show the HTML representation or trust the notebook. <br />On GitHub, the HTML representation is unable to render, please try loading this page with nbviewer.org.</b></div><div class=\"sk-container\" hidden><div class=\"sk-item\"><div class=\"sk-estimator fitted sk-toggleable\"><input class=\"sk-toggleable__control sk-hidden--visually\" id=\"sk-estimator-id-3\" type=\"checkbox\" checked><label for=\"sk-estimator-id-3\" class=\"sk-toggleable__label fitted sk-toggleable__label-arrow fitted\">&nbsp;&nbsp;LogisticRegression<a class=\"sk-estimator-doc-link fitted\" rel=\"noreferrer\" target=\"_blank\" href=\"https://scikit-learn.org/1.5/modules/generated/sklearn.linear_model.LogisticRegression.html\">?<span>Documentation for LogisticRegression</span></a><span class=\"sk-estimator-doc-link fitted\">i<span>Fitted</span></span></label><div class=\"sk-toggleable__content fitted\"><pre>LogisticRegression(max_iter=5000)</pre></div> </div></div></div></div>"
      ],
      "text/plain": [
       "LogisticRegression(max_iter=5000)"
      ]
     },
     "execution_count": 100,
     "metadata": {},
     "output_type": "execute_result"
    }
   ],
   "source": [
    "from sklearn.linear_model import LogisticRegression\n",
    "\n",
    "model = LogisticRegression(max_iter=5000)\n",
    "model.fit(train_x, train_y)"
   ]
  },
  {
   "cell_type": "markdown",
   "id": "1d14d8eb-cd2d-488b-a01e-24db36c4f66b",
   "metadata": {},
   "source": [
    "### 7. 로지스틱 회귀 모델의 검증 데이터에 대한 Micro F1 Score 평가"
   ]
  },
  {
   "cell_type": "markdown",
   "id": "6462a717-936f-4919-a640-84fc5deb7249",
   "metadata": {},
   "source": [
    "마이크로 F1 스코어는 모든 클래스별 TP, FP, TN, FN을 합산한 값으로 전체 클래스의 정밀도(Precision)와 재현율(Recall)을 계산한다. 이는 불균형한 클래스 분포를 가진 데이터셋에서 모델 성능을 평가하는 데 유용한 지표이다."
   ]
  },
  {
   "cell_type": "code",
   "execution_count": 101,
   "id": "55e03394-86aa-4a31-94df-b3802f7cc24b",
   "metadata": {},
   "outputs": [
    {
     "name": "stdout",
     "output_type": "stream",
     "text": [
      "Micro F1 score:  0.7533112582781457\n"
     ]
    }
   ],
   "source": [
    "from sklearn.metrics import f1_score\n",
    "\n",
    "val_pred = model.predict(val_x)\n",
    "score = f1_score(val_y, val_pred, average='micro')\n",
    "\n",
    "print('Micro F1 score: ', score)"
   ]
  },
  {
   "cell_type": "markdown",
   "id": "2fa6dab2-6f51-427c-b29f-09f2a081b177",
   "metadata": {},
   "source": [
    "### 8. 로지스틱 회귀 모델을 사용하여 test 데이터셋에 대해 예측 수행"
   ]
  },
  {
   "cell_type": "markdown",
   "id": "4834cf49-c2d8-40ef-8cbf-b3e542b2d8b2",
   "metadata": {},
   "source": [
    "학습시킨 모델을 이용해 test 데이터를 예측해보자."
   ]
  },
  {
   "cell_type": "code",
   "execution_count": 102,
   "id": "5715bfac-a333-4130-b875-2e663bdb8f57",
   "metadata": {},
   "outputs": [
    {
     "data": {
      "text/plain": [
       "array([1, 1, 1, ..., 0, 1, 1], dtype=int64)"
      ]
     },
     "execution_count": 102,
     "metadata": {},
     "output_type": "execute_result"
    }
   ],
   "source": [
    "test_x = test_transfered[col_names]\n",
    "\n",
    "y_pred = model.predict(test_x)\n",
    "y_pred"
   ]
  },
  {
   "cell_type": "markdown",
   "id": "d4f27b01-a8f5-4357-b81c-d9af223754c4",
   "metadata": {},
   "source": [
    "### 9. 예측 결과를 submission 데이터프레임에 추가"
   ]
  },
  {
   "cell_type": "markdown",
   "id": "f4cc28bc-9139-428a-8a3c-edb66adaa781",
   "metadata": {},
   "source": [
    "예측한 결과를 submission 데이터의 'Prospect' 칼럼에 할당해 보자."
   ]
  },
  {
   "cell_type": "code",
   "execution_count": 103,
   "id": "3f501a55-0379-4211-90c9-f869f129b7ef",
   "metadata": {},
   "outputs": [
    {
     "data": {
      "text/html": [
       "<div>\n",
       "<style scoped>\n",
       "    .dataframe tbody tr th:only-of-type {\n",
       "        vertical-align: middle;\n",
       "    }\n",
       "\n",
       "    .dataframe tbody tr th {\n",
       "        vertical-align: top;\n",
       "    }\n",
       "\n",
       "    .dataframe thead th {\n",
       "        text-align: right;\n",
       "    }\n",
       "</style>\n",
       "<table border=\"1\" class=\"dataframe\">\n",
       "  <thead>\n",
       "    <tr style=\"text-align: right;\">\n",
       "      <th></th>\n",
       "      <th>ID</th>\n",
       "      <th>Prospect</th>\n",
       "    </tr>\n",
       "  </thead>\n",
       "  <tbody>\n",
       "    <tr>\n",
       "      <th>0</th>\n",
       "      <td>TEST_0000</td>\n",
       "      <td>1</td>\n",
       "    </tr>\n",
       "    <tr>\n",
       "      <th>1</th>\n",
       "      <td>TEST_0001</td>\n",
       "      <td>1</td>\n",
       "    </tr>\n",
       "    <tr>\n",
       "      <th>2</th>\n",
       "      <td>TEST_0002</td>\n",
       "      <td>1</td>\n",
       "    </tr>\n",
       "    <tr>\n",
       "      <th>3</th>\n",
       "      <td>TEST_0003</td>\n",
       "      <td>0</td>\n",
       "    </tr>\n",
       "    <tr>\n",
       "      <th>4</th>\n",
       "      <td>TEST_0004</td>\n",
       "      <td>1</td>\n",
       "    </tr>\n",
       "  </tbody>\n",
       "</table>\n",
       "</div>"
      ],
      "text/plain": [
       "          ID  Prospect\n",
       "0  TEST_0000         1\n",
       "1  TEST_0001         1\n",
       "2  TEST_0002         1\n",
       "3  TEST_0003         0\n",
       "4  TEST_0004         1"
      ]
     },
     "execution_count": 103,
     "metadata": {},
     "output_type": "execute_result"
    }
   ],
   "source": [
    "submission['Prospect'] = y_pred\n",
    "submission.head()"
   ]
  },
  {
   "cell_type": "markdown",
   "id": "1a64a944-3323-41bf-a57a-435e9d7e15ac",
   "metadata": {},
   "source": [
    "### 10. submission 파일 저장하기"
   ]
  },
  {
   "cell_type": "code",
   "execution_count": 105,
   "id": "09e3920f-95fe-47f4-8b62-5710312ad913",
   "metadata": {},
   "outputs": [],
   "source": [
    "submission.to_csv('submission.csv', index=False)"
   ]
  },
  {
   "cell_type": "markdown",
   "id": "44405811-fcd4-4204-9538-50868275be19",
   "metadata": {},
   "source": [
    "# 축구선수의 유망 여부 예측 AI 해커톤 공부"
   ]
  },
  {
   "cell_type": "code",
   "execution_count": null,
   "id": "d8bd9b9b-3ce7-49d3-9da5-996ae68a4f27",
   "metadata": {},
   "outputs": [],
   "source": []
  }
 ],
 "metadata": {
  "kernelspec": {
   "display_name": "Python 3 (ipykernel)",
   "language": "python",
   "name": "python3"
  },
  "language_info": {
   "codemirror_mode": {
    "name": "ipython",
    "version": 3
   },
   "file_extension": ".py",
   "mimetype": "text/x-python",
   "name": "python",
   "nbconvert_exporter": "python",
   "pygments_lexer": "ipython3",
   "version": "3.10.6"
  }
 },
 "nbformat": 4,
 "nbformat_minor": 5
}
