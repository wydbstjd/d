{
 "cells": [
  {
   "cell_type": "markdown",
   "id": "c1141be8-af50-4848-a0a1-66bf17065d98",
   "metadata": {},
   "source": [
    "# Iris 품종 분류"
   ]
  },
  {
   "cell_type": "markdown",
   "id": "97302072-811a-4be2-84d9-7dda66f5e581",
   "metadata": {},
   "source": [
    "* species: 꽃의 종류\n",
    "* sepal length (cm): 꽃받침의 길이\n",
    "* petal length (cm): 꽃잎의 길이\n",
    "* sepal width (cm): 꽃받침의 폭\n",
    "* petal width (cm): 꽃잎의 폭"
   ]
  },
  {
   "cell_type": "code",
   "execution_count": 1,
   "id": "88702cd5-b0b7-41d6-871f-e57038f9e4fd",
   "metadata": {},
   "outputs": [],
   "source": [
    "import pandas as pd\n",
    "\n",
    "train = pd.read_csv('data/iris/train.csv')\n",
    "test = pd.read_csv('data/iris/test.csv')\n",
    "submission = pd.read_csv('data/iris/sample_submission.csv')"
   ]
  },
  {
   "cell_type": "markdown",
   "id": "14c6bc8b-5366-4ac8-b840-ac074ea849e5",
   "metadata": {},
   "source": [
    "train 데이터셋은 120개의 행과 6개의 컬럼으로 이루어졌다."
   ]
  },
  {
   "cell_type": "code",
   "execution_count": 3,
   "id": "6bb758e7-c18e-46c8-bb44-a5d0476aa793",
   "metadata": {},
   "outputs": [
    {
     "name": "stdout",
     "output_type": "stream",
     "text": [
      "<class 'pandas.core.frame.DataFrame'>\n",
      "RangeIndex: 120 entries, 0 to 119\n",
      "Data columns (total 6 columns):\n",
      " #   Column             Non-Null Count  Dtype  \n",
      "---  ------             --------------  -----  \n",
      " 0   id                 120 non-null    int64  \n",
      " 1   sepal length (cm)  120 non-null    float64\n",
      " 2   sepal width (cm)   120 non-null    float64\n",
      " 3   petal length (cm)  120 non-null    float64\n",
      " 4   petal width (cm)   120 non-null    float64\n",
      " 5   species            120 non-null    int64  \n",
      "dtypes: float64(4), int64(2)\n",
      "memory usage: 5.8 KB\n"
     ]
    }
   ],
   "source": [
    "train.info()"
   ]
  },
  {
   "cell_type": "code",
   "execution_count": 5,
   "id": "2de90b27-55a3-4c69-aa7b-359c0ac88bb8",
   "metadata": {},
   "outputs": [
    {
     "data": {
      "text/html": [
       "<div>\n",
       "<style scoped>\n",
       "    .dataframe tbody tr th:only-of-type {\n",
       "        vertical-align: middle;\n",
       "    }\n",
       "\n",
       "    .dataframe tbody tr th {\n",
       "        vertical-align: top;\n",
       "    }\n",
       "\n",
       "    .dataframe thead th {\n",
       "        text-align: right;\n",
       "    }\n",
       "</style>\n",
       "<table border=\"1\" class=\"dataframe\">\n",
       "  <thead>\n",
       "    <tr style=\"text-align: right;\">\n",
       "      <th></th>\n",
       "      <th>id</th>\n",
       "      <th>sepal length (cm)</th>\n",
       "      <th>sepal width (cm)</th>\n",
       "      <th>petal length (cm)</th>\n",
       "      <th>petal width (cm)</th>\n",
       "    </tr>\n",
       "  </thead>\n",
       "  <tbody>\n",
       "    <tr>\n",
       "      <th>0</th>\n",
       "      <td>0</td>\n",
       "      <td>6.1</td>\n",
       "      <td>2.8</td>\n",
       "      <td>4.7</td>\n",
       "      <td>1.2</td>\n",
       "    </tr>\n",
       "    <tr>\n",
       "      <th>1</th>\n",
       "      <td>1</td>\n",
       "      <td>5.7</td>\n",
       "      <td>3.8</td>\n",
       "      <td>1.7</td>\n",
       "      <td>0.3</td>\n",
       "    </tr>\n",
       "    <tr>\n",
       "      <th>2</th>\n",
       "      <td>2</td>\n",
       "      <td>7.7</td>\n",
       "      <td>2.6</td>\n",
       "      <td>6.9</td>\n",
       "      <td>2.3</td>\n",
       "    </tr>\n",
       "    <tr>\n",
       "      <th>3</th>\n",
       "      <td>3</td>\n",
       "      <td>6.0</td>\n",
       "      <td>2.9</td>\n",
       "      <td>4.5</td>\n",
       "      <td>1.5</td>\n",
       "    </tr>\n",
       "    <tr>\n",
       "      <th>4</th>\n",
       "      <td>4</td>\n",
       "      <td>6.8</td>\n",
       "      <td>2.8</td>\n",
       "      <td>4.8</td>\n",
       "      <td>1.4</td>\n",
       "    </tr>\n",
       "  </tbody>\n",
       "</table>\n",
       "</div>"
      ],
      "text/plain": [
       "   id  sepal length (cm)  sepal width (cm)  petal length (cm)  \\\n",
       "0   0                6.1               2.8                4.7   \n",
       "1   1                5.7               3.8                1.7   \n",
       "2   2                7.7               2.6                6.9   \n",
       "3   3                6.0               2.9                4.5   \n",
       "4   4                6.8               2.8                4.8   \n",
       "\n",
       "   petal width (cm)  \n",
       "0               1.2  \n",
       "1               0.3  \n",
       "2               2.3  \n",
       "3               1.5  \n",
       "4               1.4  "
      ]
     },
     "execution_count": 5,
     "metadata": {},
     "output_type": "execute_result"
    }
   ],
   "source": [
    "test.head()"
   ]
  },
  {
   "cell_type": "markdown",
   "id": "bc0760b8-c318-470c-b7cd-81c8edc676b3",
   "metadata": {},
   "source": [
    "우리가 예측해야 할 피처는 species이다."
   ]
  },
  {
   "cell_type": "code",
   "execution_count": 4,
   "id": "4eee30e7-def9-4f8b-b077-27796d371db7",
   "metadata": {},
   "outputs": [
    {
     "data": {
      "text/html": [
       "<div>\n",
       "<style scoped>\n",
       "    .dataframe tbody tr th:only-of-type {\n",
       "        vertical-align: middle;\n",
       "    }\n",
       "\n",
       "    .dataframe tbody tr th {\n",
       "        vertical-align: top;\n",
       "    }\n",
       "\n",
       "    .dataframe thead th {\n",
       "        text-align: right;\n",
       "    }\n",
       "</style>\n",
       "<table border=\"1\" class=\"dataframe\">\n",
       "  <thead>\n",
       "    <tr style=\"text-align: right;\">\n",
       "      <th></th>\n",
       "      <th>id</th>\n",
       "      <th>species</th>\n",
       "    </tr>\n",
       "  </thead>\n",
       "  <tbody>\n",
       "    <tr>\n",
       "      <th>0</th>\n",
       "      <td>0</td>\n",
       "      <td>0</td>\n",
       "    </tr>\n",
       "    <tr>\n",
       "      <th>1</th>\n",
       "      <td>1</td>\n",
       "      <td>0</td>\n",
       "    </tr>\n",
       "    <tr>\n",
       "      <th>2</th>\n",
       "      <td>2</td>\n",
       "      <td>0</td>\n",
       "    </tr>\n",
       "    <tr>\n",
       "      <th>3</th>\n",
       "      <td>3</td>\n",
       "      <td>0</td>\n",
       "    </tr>\n",
       "    <tr>\n",
       "      <th>4</th>\n",
       "      <td>4</td>\n",
       "      <td>0</td>\n",
       "    </tr>\n",
       "  </tbody>\n",
       "</table>\n",
       "</div>"
      ],
      "text/plain": [
       "   id  species\n",
       "0   0        0\n",
       "1   1        0\n",
       "2   2        0\n",
       "3   3        0\n",
       "4   4        0"
      ]
     },
     "execution_count": 4,
     "metadata": {},
     "output_type": "execute_result"
    }
   ],
   "source": [
    "submission.head()"
   ]
  },
  {
   "cell_type": "markdown",
   "id": "538b34e9-f2f4-49e0-acae-1c239b9aeee0",
   "metadata": {},
   "source": [
    "species에는 0, 1, 2 총 3개로 분류되어있다."
   ]
  },
  {
   "cell_type": "code",
   "execution_count": 8,
   "id": "bc75406b-d252-4848-8de6-0084a6d910ec",
   "metadata": {},
   "outputs": [
    {
     "data": {
      "text/plain": [
       "array([0, 1, 2], dtype=int64)"
      ]
     },
     "execution_count": 8,
     "metadata": {},
     "output_type": "execute_result"
    }
   ],
   "source": [
    "train['species'].unique()"
   ]
  },
  {
   "cell_type": "markdown",
   "id": "c52c190f-b2d0-4204-8f45-805bd4d9dc79",
   "metadata": {},
   "source": [
    "전처리 및 모델 정의, 예측을 진행해보자."
   ]
  },
  {
   "cell_type": "code",
   "execution_count": 6,
   "id": "f2f967ae-9bf4-40a5-b9dc-1d4e7102a28d",
   "metadata": {},
   "outputs": [],
   "source": [
    "X = train.drop(['id', 'species'], axis=1)\n",
    "y = train['species']\n",
    "\n",
    "test = test.drop('id', axis=1)\n",
    "\n",
    "from sklearn.ensemble import RandomForestClassifier\n",
    "\n",
    "model = RandomForestClassifier(random_state=42)\n",
    "\n",
    "model.fit(X, y)\n",
    "y_pred = model.predict(test)\n",
    "\n",
    "submission['species'] = y_pred\n",
    "submission.to_csv('data/iris/submission.csv', index=False)"
   ]
  },
  {
   "cell_type": "code",
   "execution_count": null,
   "id": "d3469f88-ea76-48cf-bafd-f70d6c19c947",
   "metadata": {},
   "outputs": [],
   "source": []
  }
 ],
 "metadata": {
  "kernelspec": {
   "display_name": "Python 3 (ipykernel)",
   "language": "python",
   "name": "python3"
  },
  "language_info": {
   "codemirror_mode": {
    "name": "ipython",
    "version": 3
   },
   "file_extension": ".py",
   "mimetype": "text/x-python",
   "name": "python",
   "nbconvert_exporter": "python",
   "pygments_lexer": "ipython3",
   "version": "3.10.6"
  }
 },
 "nbformat": 4,
 "nbformat_minor": 5
}
