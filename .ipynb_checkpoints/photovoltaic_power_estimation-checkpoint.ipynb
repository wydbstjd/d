{
 "cells": [
  {
   "cell_type": "markdown",
   "id": "83f5b90e-16f3-41a1-9804-8e9aa1662d42",
   "metadata": {},
   "source": [
    "# 태양광 발전량 예측"
   ]
  },
  {
   "cell_type": "markdown",
   "id": "ef97d0c3-d06d-4e54-92d3-c8aaf5a1338f",
   "metadata": {},
   "source": [
    "## 스테이지 1"
   ]
  },
  {
   "cell_type": "markdown",
   "id": "d6e4365f-7620-44ae-88df-ac82483c0266",
   "metadata": {},
   "source": [
    "### 1. 데이터 읽어오기"
   ]
  },
  {
   "cell_type": "code",
   "execution_count": 6,
   "id": "1330d021-2f59-45ba-b29b-b5315f6dae70",
   "metadata": {},
   "outputs": [],
   "source": [
    "import pandas as pd\n",
    "\n",
    "train = pd.read_csv('data/solar_power/train.csv')\n",
    "test = pd.read_csv('data/solar_power/test.csv')\n",
    "submission = pd.read_csv('data/solar_power/sample_submission.csv')"
   ]
  },
  {
   "cell_type": "code",
   "execution_count": 7,
   "id": "0aa79a39-02de-4017-8272-0a1cbf021156",
   "metadata": {},
   "outputs": [
    {
     "name": "stdout",
     "output_type": "stream",
     "text": [
      "<class 'pandas.core.frame.DataFrame'>\n",
      "RangeIndex: 365 entries, 0 to 364\n",
      "Data columns (total 6 columns):\n",
      " #   Column  Non-Null Count  Dtype  \n",
      "---  ------  --------------  -----  \n",
      " 0   ID      365 non-null    int64  \n",
      " 1   DHI     365 non-null    float64\n",
      " 2   DNI     365 non-null    float64\n",
      " 3   WS      365 non-null    float64\n",
      " 4   RH      365 non-null    float64\n",
      " 5   T       365 non-null    float64\n",
      "dtypes: float64(5), int64(1)\n",
      "memory usage: 17.2 KB\n"
     ]
    }
   ],
   "source": [
    "test.info()"
   ]
  },
  {
   "cell_type": "markdown",
   "id": "347c33ff-6134-4f14-a2f9-dcbfc989c15f",
   "metadata": {},
   "source": [
    "### 2. 데이터 확인하기"
   ]
  },
  {
   "cell_type": "code",
   "execution_count": 8,
   "id": "67ffc350-9712-425b-96bc-bffc465cbac2",
   "metadata": {},
   "outputs": [
    {
     "data": {
      "text/html": [
       "<div>\n",
       "<style scoped>\n",
       "    .dataframe tbody tr th:only-of-type {\n",
       "        vertical-align: middle;\n",
       "    }\n",
       "\n",
       "    .dataframe tbody tr th {\n",
       "        vertical-align: top;\n",
       "    }\n",
       "\n",
       "    .dataframe thead th {\n",
       "        text-align: right;\n",
       "    }\n",
       "</style>\n",
       "<table border=\"1\" class=\"dataframe\">\n",
       "  <thead>\n",
       "    <tr style=\"text-align: right;\">\n",
       "      <th></th>\n",
       "      <th>ID</th>\n",
       "      <th>TARGET</th>\n",
       "    </tr>\n",
       "  </thead>\n",
       "  <tbody>\n",
       "    <tr>\n",
       "      <th>0</th>\n",
       "      <td>1</td>\n",
       "      <td>0</td>\n",
       "    </tr>\n",
       "    <tr>\n",
       "      <th>1</th>\n",
       "      <td>2</td>\n",
       "      <td>0</td>\n",
       "    </tr>\n",
       "    <tr>\n",
       "      <th>2</th>\n",
       "      <td>3</td>\n",
       "      <td>0</td>\n",
       "    </tr>\n",
       "  </tbody>\n",
       "</table>\n",
       "</div>"
      ],
      "text/plain": [
       "   ID  TARGET\n",
       "0   1       0\n",
       "1   2       0\n",
       "2   3       0"
      ]
     },
     "execution_count": 8,
     "metadata": {},
     "output_type": "execute_result"
    }
   ],
   "source": [
    "submission.head(3)"
   ]
  },
  {
   "cell_type": "markdown",
   "id": "a1ba303c-d722-434d-9472-20ecef876b06",
   "metadata": {},
   "source": [
    "### 3. 데이터프레임을 CSV 파일로 저장하기"
   ]
  },
  {
   "cell_type": "code",
   "execution_count": 9,
   "id": "2f976782-a3eb-4283-9b37-2dee4c0b868f",
   "metadata": {},
   "outputs": [],
   "source": [
    "submission.to_csv('data/solar_power/submission.csv', index=False, quoting=2, encoding=\"utf-8-sig\", na_rep=0, float_format='%.6f')"
   ]
  },
  {
   "cell_type": "markdown",
   "id": "0ea7fb66-1ca6-49ec-b7f0-435b736c4c1c",
   "metadata": {},
   "source": [
    "## 스테이지 2"
   ]
  },
  {
   "cell_type": "markdown",
   "id": "bb78de81-85ab-4072-8937-f45a7ff09b20",
   "metadata": {},
   "source": [
    "### 1. 데이터 확인하기"
   ]
  },
  {
   "cell_type": "code",
   "execution_count": 10,
   "id": "5cec1abf-c982-4e41-82db-45904087c43c",
   "metadata": {},
   "outputs": [
    {
     "name": "stdout",
     "output_type": "stream",
     "text": [
      "<class 'pandas.core.frame.DataFrame'>\n",
      "RangeIndex: 730 entries, 0 to 729\n",
      "Data columns (total 7 columns):\n",
      " #   Column  Non-Null Count  Dtype  \n",
      "---  ------  --------------  -----  \n",
      " 0   ID      730 non-null    int64  \n",
      " 1   DHI     730 non-null    float64\n",
      " 2   DNI     730 non-null    float64\n",
      " 3   WS      730 non-null    float64\n",
      " 4   RH      730 non-null    float64\n",
      " 5   T       730 non-null    float64\n",
      " 6   TARGET  730 non-null    float64\n",
      "dtypes: float64(6), int64(1)\n",
      "memory usage: 40.0 KB\n"
     ]
    }
   ],
   "source": [
    "# 데이터의 개수, 열 이름, 결측값의 수, 데이터 타입 등을 확인할 수 있습니다. \n",
    "train.info()"
   ]
  },
  {
   "cell_type": "markdown",
   "id": "ec3002d9-323c-44ca-8609-74a7368cb8f6",
   "metadata": {},
   "source": [
    "### 2. 데이터 열 확인"
   ]
  },
  {
   "cell_type": "code",
   "execution_count": 11,
   "id": "368bddc1-68aa-48d7-8cf6-c406e5c4cdf9",
   "metadata": {},
   "outputs": [
    {
     "data": {
      "text/plain": [
       "Index(['ID', 'DHI', 'DNI', 'WS', 'RH', 'T', 'TARGET'], dtype='object')"
      ]
     },
     "execution_count": 11,
     "metadata": {},
     "output_type": "execute_result"
    }
   ],
   "source": [
    "# 모든 열을 출력합니다. \n",
    "train.columns"
   ]
  },
  {
   "cell_type": "markdown",
   "id": "0711dfbd-41e5-45de-97ed-36eeb7ad1039",
   "metadata": {},
   "source": [
    "### 3. 데이터 기술통계량 확인"
   ]
  },
  {
   "cell_type": "code",
   "execution_count": 12,
   "id": "d427c8b9-bffb-45af-8755-41233d451b61",
   "metadata": {},
   "outputs": [
    {
     "data": {
      "text/html": [
       "<div>\n",
       "<style scoped>\n",
       "    .dataframe tbody tr th:only-of-type {\n",
       "        vertical-align: middle;\n",
       "    }\n",
       "\n",
       "    .dataframe tbody tr th {\n",
       "        vertical-align: top;\n",
       "    }\n",
       "\n",
       "    .dataframe thead th {\n",
       "        text-align: right;\n",
       "    }\n",
       "</style>\n",
       "<table border=\"1\" class=\"dataframe\">\n",
       "  <thead>\n",
       "    <tr style=\"text-align: right;\">\n",
       "      <th></th>\n",
       "      <th>ID</th>\n",
       "      <th>DHI</th>\n",
       "      <th>DNI</th>\n",
       "      <th>WS</th>\n",
       "      <th>RH</th>\n",
       "      <th>T</th>\n",
       "      <th>TARGET</th>\n",
       "    </tr>\n",
       "  </thead>\n",
       "  <tbody>\n",
       "    <tr>\n",
       "      <th>count</th>\n",
       "      <td>730.000000</td>\n",
       "      <td>730.000000</td>\n",
       "      <td>730.000000</td>\n",
       "      <td>730.000000</td>\n",
       "      <td>730.000000</td>\n",
       "      <td>730.000000</td>\n",
       "      <td>730.000000</td>\n",
       "    </tr>\n",
       "    <tr>\n",
       "      <th>mean</th>\n",
       "      <td>365.500000</td>\n",
       "      <td>0.353680</td>\n",
       "      <td>0.449832</td>\n",
       "      <td>2.456610</td>\n",
       "      <td>-0.015374</td>\n",
       "      <td>0.005201</td>\n",
       "      <td>17.766240</td>\n",
       "    </tr>\n",
       "    <tr>\n",
       "      <th>std</th>\n",
       "      <td>210.877136</td>\n",
       "      <td>0.242069</td>\n",
       "      <td>0.238223</td>\n",
       "      <td>0.894079</td>\n",
       "      <td>1.001358</td>\n",
       "      <td>1.005426</td>\n",
       "      <td>7.852125</td>\n",
       "    </tr>\n",
       "    <tr>\n",
       "      <th>min</th>\n",
       "      <td>1.000000</td>\n",
       "      <td>0.000000</td>\n",
       "      <td>0.000810</td>\n",
       "      <td>0.897917</td>\n",
       "      <td>-2.269194</td>\n",
       "      <td>-2.628657</td>\n",
       "      <td>1.958976</td>\n",
       "    </tr>\n",
       "    <tr>\n",
       "      <th>25%</th>\n",
       "      <td>183.250000</td>\n",
       "      <td>0.145922</td>\n",
       "      <td>0.279639</td>\n",
       "      <td>1.855208</td>\n",
       "      <td>-0.714420</td>\n",
       "      <td>-0.813083</td>\n",
       "      <td>11.296985</td>\n",
       "    </tr>\n",
       "    <tr>\n",
       "      <th>50%</th>\n",
       "      <td>365.500000</td>\n",
       "      <td>0.308450</td>\n",
       "      <td>0.444305</td>\n",
       "      <td>2.276042</td>\n",
       "      <td>-0.064874</td>\n",
       "      <td>-0.053716</td>\n",
       "      <td>17.238159</td>\n",
       "    </tr>\n",
       "    <tr>\n",
       "      <th>75%</th>\n",
       "      <td>547.750000</td>\n",
       "      <td>0.535709</td>\n",
       "      <td>0.628943</td>\n",
       "      <td>2.855729</td>\n",
       "      <td>0.721717</td>\n",
       "      <td>0.944528</td>\n",
       "      <td>23.586436</td>\n",
       "    </tr>\n",
       "    <tr>\n",
       "      <th>max</th>\n",
       "      <td>730.000000</td>\n",
       "      <td>0.983835</td>\n",
       "      <td>1.000000</td>\n",
       "      <td>7.225000</td>\n",
       "      <td>2.867445</td>\n",
       "      <td>1.790547</td>\n",
       "      <td>36.376067</td>\n",
       "    </tr>\n",
       "  </tbody>\n",
       "</table>\n",
       "</div>"
      ],
      "text/plain": [
       "               ID         DHI         DNI          WS          RH           T  \\\n",
       "count  730.000000  730.000000  730.000000  730.000000  730.000000  730.000000   \n",
       "mean   365.500000    0.353680    0.449832    2.456610   -0.015374    0.005201   \n",
       "std    210.877136    0.242069    0.238223    0.894079    1.001358    1.005426   \n",
       "min      1.000000    0.000000    0.000810    0.897917   -2.269194   -2.628657   \n",
       "25%    183.250000    0.145922    0.279639    1.855208   -0.714420   -0.813083   \n",
       "50%    365.500000    0.308450    0.444305    2.276042   -0.064874   -0.053716   \n",
       "75%    547.750000    0.535709    0.628943    2.855729    0.721717    0.944528   \n",
       "max    730.000000    0.983835    1.000000    7.225000    2.867445    1.790547   \n",
       "\n",
       "           TARGET  \n",
       "count  730.000000  \n",
       "mean    17.766240  \n",
       "std      7.852125  \n",
       "min      1.958976  \n",
       "25%     11.296985  \n",
       "50%     17.238159  \n",
       "75%     23.586436  \n",
       "max     36.376067  "
      ]
     },
     "execution_count": 12,
     "metadata": {},
     "output_type": "execute_result"
    }
   ],
   "source": [
    "# 평균, 표준편차, 최솟값, 최댓값, 사분위수 값을 얻을 수 있습니다.\n",
    "train.describe()"
   ]
  },
  {
   "cell_type": "markdown",
   "id": "51deb547-da1a-4281-ae6e-a1d86b98fe00",
   "metadata": {},
   "source": [
    "### 4. 무작위 샘플데이터 확인하기"
   ]
  },
  {
   "cell_type": "code",
   "execution_count": 13,
   "id": "a8f96cb1-735d-49da-95a8-105edfebbc39",
   "metadata": {},
   "outputs": [
    {
     "data": {
      "text/html": [
       "<div>\n",
       "<style scoped>\n",
       "    .dataframe tbody tr th:only-of-type {\n",
       "        vertical-align: middle;\n",
       "    }\n",
       "\n",
       "    .dataframe tbody tr th {\n",
       "        vertical-align: top;\n",
       "    }\n",
       "\n",
       "    .dataframe thead th {\n",
       "        text-align: right;\n",
       "    }\n",
       "</style>\n",
       "<table border=\"1\" class=\"dataframe\">\n",
       "  <thead>\n",
       "    <tr style=\"text-align: right;\">\n",
       "      <th></th>\n",
       "      <th>ID</th>\n",
       "      <th>DHI</th>\n",
       "      <th>DNI</th>\n",
       "      <th>WS</th>\n",
       "      <th>RH</th>\n",
       "      <th>T</th>\n",
       "      <th>TARGET</th>\n",
       "    </tr>\n",
       "  </thead>\n",
       "  <tbody>\n",
       "    <tr>\n",
       "      <th>243</th>\n",
       "      <td>244</td>\n",
       "      <td>0.634240</td>\n",
       "      <td>0.408025</td>\n",
       "      <td>2.039583</td>\n",
       "      <td>-0.255594</td>\n",
       "      <td>1.146519</td>\n",
       "      <td>21.133387</td>\n",
       "    </tr>\n",
       "    <tr>\n",
       "      <th>363</th>\n",
       "      <td>364</td>\n",
       "      <td>0.455841</td>\n",
       "      <td>0.448435</td>\n",
       "      <td>2.131250</td>\n",
       "      <td>-0.048948</td>\n",
       "      <td>1.106706</td>\n",
       "      <td>21.985723</td>\n",
       "    </tr>\n",
       "    <tr>\n",
       "      <th>12</th>\n",
       "      <td>13</td>\n",
       "      <td>0.503894</td>\n",
       "      <td>0.538486</td>\n",
       "      <td>1.535417</td>\n",
       "      <td>-0.308605</td>\n",
       "      <td>0.057526</td>\n",
       "      <td>23.102036</td>\n",
       "    </tr>\n",
       "    <tr>\n",
       "      <th>603</th>\n",
       "      <td>604</td>\n",
       "      <td>0.144012</td>\n",
       "      <td>0.147710</td>\n",
       "      <td>4.220833</td>\n",
       "      <td>0.414444</td>\n",
       "      <td>-0.654418</td>\n",
       "      <td>5.808284</td>\n",
       "    </tr>\n",
       "    <tr>\n",
       "      <th>457</th>\n",
       "      <td>458</td>\n",
       "      <td>0.028215</td>\n",
       "      <td>0.692027</td>\n",
       "      <td>1.675000</td>\n",
       "      <td>-1.426150</td>\n",
       "      <td>-0.537322</td>\n",
       "      <td>14.362726</td>\n",
       "    </tr>\n",
       "  </tbody>\n",
       "</table>\n",
       "</div>"
      ],
      "text/plain": [
       "      ID       DHI       DNI        WS        RH         T     TARGET\n",
       "243  244  0.634240  0.408025  2.039583 -0.255594  1.146519  21.133387\n",
       "363  364  0.455841  0.448435  2.131250 -0.048948  1.106706  21.985723\n",
       "12    13  0.503894  0.538486  1.535417 -0.308605  0.057526  23.102036\n",
       "603  604  0.144012  0.147710  4.220833  0.414444 -0.654418   5.808284\n",
       "457  458  0.028215  0.692027  1.675000 -1.426150 -0.537322  14.362726"
      ]
     },
     "execution_count": 13,
     "metadata": {},
     "output_type": "execute_result"
    }
   ],
   "source": [
    "# sample함수의 기본값은 1입니다.\n",
    "train.sample(5)"
   ]
  },
  {
   "cell_type": "markdown",
   "id": "48813717-54cb-4c69-ab3c-a7c45624fe8b",
   "metadata": {},
   "source": [
    "### 5. TARGET 열의 평균값 얻기"
   ]
  },
  {
   "cell_type": "code",
   "execution_count": 15,
   "id": "d42448b7-f994-41fa-86e9-13c9a327ddcb",
   "metadata": {},
   "outputs": [
    {
     "data": {
      "text/plain": [
       "17.76623965427808"
      ]
     },
     "execution_count": 15,
     "metadata": {},
     "output_type": "execute_result"
    }
   ],
   "source": [
    "# train['열 이름'] 을 사용하면 해당 열만 선택하는 것이 가능합니다.\n",
    "mean_target = train['TARGET'].mean()\n",
    "mean_target"
   ]
  },
  {
   "cell_type": "markdown",
   "id": "133dc5e7-9bc8-4398-bc8a-7dbc82d6f133",
   "metadata": {},
   "source": [
    "### 6. 제출 데이터에 TARGET 열의 평균값 할당"
   ]
  },
  {
   "cell_type": "code",
   "execution_count": 16,
   "id": "fc656566-0784-41b5-8e38-d1fdca8728a4",
   "metadata": {},
   "outputs": [
    {
     "data": {
      "text/html": [
       "<div>\n",
       "<style scoped>\n",
       "    .dataframe tbody tr th:only-of-type {\n",
       "        vertical-align: middle;\n",
       "    }\n",
       "\n",
       "    .dataframe tbody tr th {\n",
       "        vertical-align: top;\n",
       "    }\n",
       "\n",
       "    .dataframe thead th {\n",
       "        text-align: right;\n",
       "    }\n",
       "</style>\n",
       "<table border=\"1\" class=\"dataframe\">\n",
       "  <thead>\n",
       "    <tr style=\"text-align: right;\">\n",
       "      <th></th>\n",
       "      <th>ID</th>\n",
       "      <th>TARGET</th>\n",
       "    </tr>\n",
       "  </thead>\n",
       "  <tbody>\n",
       "    <tr>\n",
       "      <th>0</th>\n",
       "      <td>1</td>\n",
       "      <td>17.76624</td>\n",
       "    </tr>\n",
       "    <tr>\n",
       "      <th>1</th>\n",
       "      <td>2</td>\n",
       "      <td>17.76624</td>\n",
       "    </tr>\n",
       "    <tr>\n",
       "      <th>2</th>\n",
       "      <td>3</td>\n",
       "      <td>17.76624</td>\n",
       "    </tr>\n",
       "    <tr>\n",
       "      <th>3</th>\n",
       "      <td>4</td>\n",
       "      <td>17.76624</td>\n",
       "    </tr>\n",
       "    <tr>\n",
       "      <th>4</th>\n",
       "      <td>5</td>\n",
       "      <td>17.76624</td>\n",
       "    </tr>\n",
       "  </tbody>\n",
       "</table>\n",
       "</div>"
      ],
      "text/plain": [
       "   ID    TARGET\n",
       "0   1  17.76624\n",
       "1   2  17.76624\n",
       "2   3  17.76624\n",
       "3   4  17.76624\n",
       "4   5  17.76624"
      ]
     },
     "execution_count": 16,
     "metadata": {},
     "output_type": "execute_result"
    }
   ],
   "source": [
    "submission['TARGET'] = mean_target\n",
    "submission.head()"
   ]
  },
  {
   "cell_type": "markdown",
   "id": "57504f9f-8b6d-4be3-aae7-e9e05f603441",
   "metadata": {},
   "source": [
    "### 7. 데이터프레임을 CSV 파일로 저장하기"
   ]
  },
  {
   "cell_type": "code",
   "execution_count": 17,
   "id": "ef361a3b-6172-47be-a9c0-03465ccdb103",
   "metadata": {},
   "outputs": [],
   "source": [
    "# 매개변수는 수정하지 말아주세요.\n",
    "submission.to_csv('data/solar_power/submission.csv', index=False, quoting=2, encoding=\"utf-8-sig\", na_rep=0, float_format='%.6f')"
   ]
  },
  {
   "cell_type": "markdown",
   "id": "090feb90-f7df-4b8b-9440-8f6423e3032e",
   "metadata": {},
   "source": [
    "## 스테이지 3"
   ]
  },
  {
   "cell_type": "markdown",
   "id": "99b6a623-c0bc-4e20-96f0-a27d433d3313",
   "metadata": {},
   "source": [
    "### 1. 독립변수, 종속변수 설정"
   ]
  },
  {
   "cell_type": "code",
   "execution_count": 18,
   "id": "3f2d82b2-3f5e-409e-b5ad-1ec4863ce002",
   "metadata": {},
   "outputs": [],
   "source": [
    "# 독립변수\n",
    "train_x = train.drop(['ID', 'TARGET'], axis = 1)\n",
    "\n",
    "# 종속변수\n",
    "train_y = train['TARGET']"
   ]
  },
  {
   "cell_type": "markdown",
   "id": "c6750457-8c0b-4eb0-be14-bb1bf8027b7f",
   "metadata": {},
   "source": [
    "### 2. test 데이터의 ID 열 제거"
   ]
  },
  {
   "cell_type": "code",
   "execution_count": 19,
   "id": "d4325768-fe01-4344-ad4f-334d26d0a0da",
   "metadata": {},
   "outputs": [],
   "source": [
    "test_x = test.drop('ID', axis = 1)"
   ]
  },
  {
   "cell_type": "markdown",
   "id": "a7867fcc-e218-4493-8bec-441a1f5984aa",
   "metadata": {},
   "source": [
    "### 3. 모델 정의"
   ]
  },
  {
   "cell_type": "code",
   "execution_count": 23,
   "id": "48a648e6-1109-4867-a719-7c20e9927f5d",
   "metadata": {},
   "outputs": [],
   "source": [
    "from sklearn.tree import DecisionTreeRegressor\n",
    "\n",
    "model = DecisionTreeRegressor(random_state=42)"
   ]
  },
  {
   "cell_type": "markdown",
   "id": "59283d9d-6d91-4f63-bc96-8c78fbbf291b",
   "metadata": {},
   "source": [
    "### 4. 모델 학습"
   ]
  },
  {
   "cell_type": "code",
   "execution_count": 24,
   "id": "6de803d8-18df-4c11-84c3-9faad33ad28e",
   "metadata": {},
   "outputs": [
    {
     "data": {
      "text/html": [
       "<style>#sk-container-id-1 {\n",
       "  /* Definition of color scheme common for light and dark mode */\n",
       "  --sklearn-color-text: black;\n",
       "  --sklearn-color-line: gray;\n",
       "  /* Definition of color scheme for unfitted estimators */\n",
       "  --sklearn-color-unfitted-level-0: #fff5e6;\n",
       "  --sklearn-color-unfitted-level-1: #f6e4d2;\n",
       "  --sklearn-color-unfitted-level-2: #ffe0b3;\n",
       "  --sklearn-color-unfitted-level-3: chocolate;\n",
       "  /* Definition of color scheme for fitted estimators */\n",
       "  --sklearn-color-fitted-level-0: #f0f8ff;\n",
       "  --sklearn-color-fitted-level-1: #d4ebff;\n",
       "  --sklearn-color-fitted-level-2: #b3dbfd;\n",
       "  --sklearn-color-fitted-level-3: cornflowerblue;\n",
       "\n",
       "  /* Specific color for light theme */\n",
       "  --sklearn-color-text-on-default-background: var(--sg-text-color, var(--theme-code-foreground, var(--jp-content-font-color1, black)));\n",
       "  --sklearn-color-background: var(--sg-background-color, var(--theme-background, var(--jp-layout-color0, white)));\n",
       "  --sklearn-color-border-box: var(--sg-text-color, var(--theme-code-foreground, var(--jp-content-font-color1, black)));\n",
       "  --sklearn-color-icon: #696969;\n",
       "\n",
       "  @media (prefers-color-scheme: dark) {\n",
       "    /* Redefinition of color scheme for dark theme */\n",
       "    --sklearn-color-text-on-default-background: var(--sg-text-color, var(--theme-code-foreground, var(--jp-content-font-color1, white)));\n",
       "    --sklearn-color-background: var(--sg-background-color, var(--theme-background, var(--jp-layout-color0, #111)));\n",
       "    --sklearn-color-border-box: var(--sg-text-color, var(--theme-code-foreground, var(--jp-content-font-color1, white)));\n",
       "    --sklearn-color-icon: #878787;\n",
       "  }\n",
       "}\n",
       "\n",
       "#sk-container-id-1 {\n",
       "  color: var(--sklearn-color-text);\n",
       "}\n",
       "\n",
       "#sk-container-id-1 pre {\n",
       "  padding: 0;\n",
       "}\n",
       "\n",
       "#sk-container-id-1 input.sk-hidden--visually {\n",
       "  border: 0;\n",
       "  clip: rect(1px 1px 1px 1px);\n",
       "  clip: rect(1px, 1px, 1px, 1px);\n",
       "  height: 1px;\n",
       "  margin: -1px;\n",
       "  overflow: hidden;\n",
       "  padding: 0;\n",
       "  position: absolute;\n",
       "  width: 1px;\n",
       "}\n",
       "\n",
       "#sk-container-id-1 div.sk-dashed-wrapped {\n",
       "  border: 1px dashed var(--sklearn-color-line);\n",
       "  margin: 0 0.4em 0.5em 0.4em;\n",
       "  box-sizing: border-box;\n",
       "  padding-bottom: 0.4em;\n",
       "  background-color: var(--sklearn-color-background);\n",
       "}\n",
       "\n",
       "#sk-container-id-1 div.sk-container {\n",
       "  /* jupyter's `normalize.less` sets `[hidden] { display: none; }`\n",
       "     but bootstrap.min.css set `[hidden] { display: none !important; }`\n",
       "     so we also need the `!important` here to be able to override the\n",
       "     default hidden behavior on the sphinx rendered scikit-learn.org.\n",
       "     See: https://github.com/scikit-learn/scikit-learn/issues/21755 */\n",
       "  display: inline-block !important;\n",
       "  position: relative;\n",
       "}\n",
       "\n",
       "#sk-container-id-1 div.sk-text-repr-fallback {\n",
       "  display: none;\n",
       "}\n",
       "\n",
       "div.sk-parallel-item,\n",
       "div.sk-serial,\n",
       "div.sk-item {\n",
       "  /* draw centered vertical line to link estimators */\n",
       "  background-image: linear-gradient(var(--sklearn-color-text-on-default-background), var(--sklearn-color-text-on-default-background));\n",
       "  background-size: 2px 100%;\n",
       "  background-repeat: no-repeat;\n",
       "  background-position: center center;\n",
       "}\n",
       "\n",
       "/* Parallel-specific style estimator block */\n",
       "\n",
       "#sk-container-id-1 div.sk-parallel-item::after {\n",
       "  content: \"\";\n",
       "  width: 100%;\n",
       "  border-bottom: 2px solid var(--sklearn-color-text-on-default-background);\n",
       "  flex-grow: 1;\n",
       "}\n",
       "\n",
       "#sk-container-id-1 div.sk-parallel {\n",
       "  display: flex;\n",
       "  align-items: stretch;\n",
       "  justify-content: center;\n",
       "  background-color: var(--sklearn-color-background);\n",
       "  position: relative;\n",
       "}\n",
       "\n",
       "#sk-container-id-1 div.sk-parallel-item {\n",
       "  display: flex;\n",
       "  flex-direction: column;\n",
       "}\n",
       "\n",
       "#sk-container-id-1 div.sk-parallel-item:first-child::after {\n",
       "  align-self: flex-end;\n",
       "  width: 50%;\n",
       "}\n",
       "\n",
       "#sk-container-id-1 div.sk-parallel-item:last-child::after {\n",
       "  align-self: flex-start;\n",
       "  width: 50%;\n",
       "}\n",
       "\n",
       "#sk-container-id-1 div.sk-parallel-item:only-child::after {\n",
       "  width: 0;\n",
       "}\n",
       "\n",
       "/* Serial-specific style estimator block */\n",
       "\n",
       "#sk-container-id-1 div.sk-serial {\n",
       "  display: flex;\n",
       "  flex-direction: column;\n",
       "  align-items: center;\n",
       "  background-color: var(--sklearn-color-background);\n",
       "  padding-right: 1em;\n",
       "  padding-left: 1em;\n",
       "}\n",
       "\n",
       "\n",
       "/* Toggleable style: style used for estimator/Pipeline/ColumnTransformer box that is\n",
       "clickable and can be expanded/collapsed.\n",
       "- Pipeline and ColumnTransformer use this feature and define the default style\n",
       "- Estimators will overwrite some part of the style using the `sk-estimator` class\n",
       "*/\n",
       "\n",
       "/* Pipeline and ColumnTransformer style (default) */\n",
       "\n",
       "#sk-container-id-1 div.sk-toggleable {\n",
       "  /* Default theme specific background. It is overwritten whether we have a\n",
       "  specific estimator or a Pipeline/ColumnTransformer */\n",
       "  background-color: var(--sklearn-color-background);\n",
       "}\n",
       "\n",
       "/* Toggleable label */\n",
       "#sk-container-id-1 label.sk-toggleable__label {\n",
       "  cursor: pointer;\n",
       "  display: block;\n",
       "  width: 100%;\n",
       "  margin-bottom: 0;\n",
       "  padding: 0.5em;\n",
       "  box-sizing: border-box;\n",
       "  text-align: center;\n",
       "}\n",
       "\n",
       "#sk-container-id-1 label.sk-toggleable__label-arrow:before {\n",
       "  /* Arrow on the left of the label */\n",
       "  content: \"▸\";\n",
       "  float: left;\n",
       "  margin-right: 0.25em;\n",
       "  color: var(--sklearn-color-icon);\n",
       "}\n",
       "\n",
       "#sk-container-id-1 label.sk-toggleable__label-arrow:hover:before {\n",
       "  color: var(--sklearn-color-text);\n",
       "}\n",
       "\n",
       "/* Toggleable content - dropdown */\n",
       "\n",
       "#sk-container-id-1 div.sk-toggleable__content {\n",
       "  max-height: 0;\n",
       "  max-width: 0;\n",
       "  overflow: hidden;\n",
       "  text-align: left;\n",
       "  /* unfitted */\n",
       "  background-color: var(--sklearn-color-unfitted-level-0);\n",
       "}\n",
       "\n",
       "#sk-container-id-1 div.sk-toggleable__content.fitted {\n",
       "  /* fitted */\n",
       "  background-color: var(--sklearn-color-fitted-level-0);\n",
       "}\n",
       "\n",
       "#sk-container-id-1 div.sk-toggleable__content pre {\n",
       "  margin: 0.2em;\n",
       "  border-radius: 0.25em;\n",
       "  color: var(--sklearn-color-text);\n",
       "  /* unfitted */\n",
       "  background-color: var(--sklearn-color-unfitted-level-0);\n",
       "}\n",
       "\n",
       "#sk-container-id-1 div.sk-toggleable__content.fitted pre {\n",
       "  /* unfitted */\n",
       "  background-color: var(--sklearn-color-fitted-level-0);\n",
       "}\n",
       "\n",
       "#sk-container-id-1 input.sk-toggleable__control:checked~div.sk-toggleable__content {\n",
       "  /* Expand drop-down */\n",
       "  max-height: 200px;\n",
       "  max-width: 100%;\n",
       "  overflow: auto;\n",
       "}\n",
       "\n",
       "#sk-container-id-1 input.sk-toggleable__control:checked~label.sk-toggleable__label-arrow:before {\n",
       "  content: \"▾\";\n",
       "}\n",
       "\n",
       "/* Pipeline/ColumnTransformer-specific style */\n",
       "\n",
       "#sk-container-id-1 div.sk-label input.sk-toggleable__control:checked~label.sk-toggleable__label {\n",
       "  color: var(--sklearn-color-text);\n",
       "  background-color: var(--sklearn-color-unfitted-level-2);\n",
       "}\n",
       "\n",
       "#sk-container-id-1 div.sk-label.fitted input.sk-toggleable__control:checked~label.sk-toggleable__label {\n",
       "  background-color: var(--sklearn-color-fitted-level-2);\n",
       "}\n",
       "\n",
       "/* Estimator-specific style */\n",
       "\n",
       "/* Colorize estimator box */\n",
       "#sk-container-id-1 div.sk-estimator input.sk-toggleable__control:checked~label.sk-toggleable__label {\n",
       "  /* unfitted */\n",
       "  background-color: var(--sklearn-color-unfitted-level-2);\n",
       "}\n",
       "\n",
       "#sk-container-id-1 div.sk-estimator.fitted input.sk-toggleable__control:checked~label.sk-toggleable__label {\n",
       "  /* fitted */\n",
       "  background-color: var(--sklearn-color-fitted-level-2);\n",
       "}\n",
       "\n",
       "#sk-container-id-1 div.sk-label label.sk-toggleable__label,\n",
       "#sk-container-id-1 div.sk-label label {\n",
       "  /* The background is the default theme color */\n",
       "  color: var(--sklearn-color-text-on-default-background);\n",
       "}\n",
       "\n",
       "/* On hover, darken the color of the background */\n",
       "#sk-container-id-1 div.sk-label:hover label.sk-toggleable__label {\n",
       "  color: var(--sklearn-color-text);\n",
       "  background-color: var(--sklearn-color-unfitted-level-2);\n",
       "}\n",
       "\n",
       "/* Label box, darken color on hover, fitted */\n",
       "#sk-container-id-1 div.sk-label.fitted:hover label.sk-toggleable__label.fitted {\n",
       "  color: var(--sklearn-color-text);\n",
       "  background-color: var(--sklearn-color-fitted-level-2);\n",
       "}\n",
       "\n",
       "/* Estimator label */\n",
       "\n",
       "#sk-container-id-1 div.sk-label label {\n",
       "  font-family: monospace;\n",
       "  font-weight: bold;\n",
       "  display: inline-block;\n",
       "  line-height: 1.2em;\n",
       "}\n",
       "\n",
       "#sk-container-id-1 div.sk-label-container {\n",
       "  text-align: center;\n",
       "}\n",
       "\n",
       "/* Estimator-specific */\n",
       "#sk-container-id-1 div.sk-estimator {\n",
       "  font-family: monospace;\n",
       "  border: 1px dotted var(--sklearn-color-border-box);\n",
       "  border-radius: 0.25em;\n",
       "  box-sizing: border-box;\n",
       "  margin-bottom: 0.5em;\n",
       "  /* unfitted */\n",
       "  background-color: var(--sklearn-color-unfitted-level-0);\n",
       "}\n",
       "\n",
       "#sk-container-id-1 div.sk-estimator.fitted {\n",
       "  /* fitted */\n",
       "  background-color: var(--sklearn-color-fitted-level-0);\n",
       "}\n",
       "\n",
       "/* on hover */\n",
       "#sk-container-id-1 div.sk-estimator:hover {\n",
       "  /* unfitted */\n",
       "  background-color: var(--sklearn-color-unfitted-level-2);\n",
       "}\n",
       "\n",
       "#sk-container-id-1 div.sk-estimator.fitted:hover {\n",
       "  /* fitted */\n",
       "  background-color: var(--sklearn-color-fitted-level-2);\n",
       "}\n",
       "\n",
       "/* Specification for estimator info (e.g. \"i\" and \"?\") */\n",
       "\n",
       "/* Common style for \"i\" and \"?\" */\n",
       "\n",
       ".sk-estimator-doc-link,\n",
       "a:link.sk-estimator-doc-link,\n",
       "a:visited.sk-estimator-doc-link {\n",
       "  float: right;\n",
       "  font-size: smaller;\n",
       "  line-height: 1em;\n",
       "  font-family: monospace;\n",
       "  background-color: var(--sklearn-color-background);\n",
       "  border-radius: 1em;\n",
       "  height: 1em;\n",
       "  width: 1em;\n",
       "  text-decoration: none !important;\n",
       "  margin-left: 1ex;\n",
       "  /* unfitted */\n",
       "  border: var(--sklearn-color-unfitted-level-1) 1pt solid;\n",
       "  color: var(--sklearn-color-unfitted-level-1);\n",
       "}\n",
       "\n",
       ".sk-estimator-doc-link.fitted,\n",
       "a:link.sk-estimator-doc-link.fitted,\n",
       "a:visited.sk-estimator-doc-link.fitted {\n",
       "  /* fitted */\n",
       "  border: var(--sklearn-color-fitted-level-1) 1pt solid;\n",
       "  color: var(--sklearn-color-fitted-level-1);\n",
       "}\n",
       "\n",
       "/* On hover */\n",
       "div.sk-estimator:hover .sk-estimator-doc-link:hover,\n",
       ".sk-estimator-doc-link:hover,\n",
       "div.sk-label-container:hover .sk-estimator-doc-link:hover,\n",
       ".sk-estimator-doc-link:hover {\n",
       "  /* unfitted */\n",
       "  background-color: var(--sklearn-color-unfitted-level-3);\n",
       "  color: var(--sklearn-color-background);\n",
       "  text-decoration: none;\n",
       "}\n",
       "\n",
       "div.sk-estimator.fitted:hover .sk-estimator-doc-link.fitted:hover,\n",
       ".sk-estimator-doc-link.fitted:hover,\n",
       "div.sk-label-container:hover .sk-estimator-doc-link.fitted:hover,\n",
       ".sk-estimator-doc-link.fitted:hover {\n",
       "  /* fitted */\n",
       "  background-color: var(--sklearn-color-fitted-level-3);\n",
       "  color: var(--sklearn-color-background);\n",
       "  text-decoration: none;\n",
       "}\n",
       "\n",
       "/* Span, style for the box shown on hovering the info icon */\n",
       ".sk-estimator-doc-link span {\n",
       "  display: none;\n",
       "  z-index: 9999;\n",
       "  position: relative;\n",
       "  font-weight: normal;\n",
       "  right: .2ex;\n",
       "  padding: .5ex;\n",
       "  margin: .5ex;\n",
       "  width: min-content;\n",
       "  min-width: 20ex;\n",
       "  max-width: 50ex;\n",
       "  color: var(--sklearn-color-text);\n",
       "  box-shadow: 2pt 2pt 4pt #999;\n",
       "  /* unfitted */\n",
       "  background: var(--sklearn-color-unfitted-level-0);\n",
       "  border: .5pt solid var(--sklearn-color-unfitted-level-3);\n",
       "}\n",
       "\n",
       ".sk-estimator-doc-link.fitted span {\n",
       "  /* fitted */\n",
       "  background: var(--sklearn-color-fitted-level-0);\n",
       "  border: var(--sklearn-color-fitted-level-3);\n",
       "}\n",
       "\n",
       ".sk-estimator-doc-link:hover span {\n",
       "  display: block;\n",
       "}\n",
       "\n",
       "/* \"?\"-specific style due to the `<a>` HTML tag */\n",
       "\n",
       "#sk-container-id-1 a.estimator_doc_link {\n",
       "  float: right;\n",
       "  font-size: 1rem;\n",
       "  line-height: 1em;\n",
       "  font-family: monospace;\n",
       "  background-color: var(--sklearn-color-background);\n",
       "  border-radius: 1rem;\n",
       "  height: 1rem;\n",
       "  width: 1rem;\n",
       "  text-decoration: none;\n",
       "  /* unfitted */\n",
       "  color: var(--sklearn-color-unfitted-level-1);\n",
       "  border: var(--sklearn-color-unfitted-level-1) 1pt solid;\n",
       "}\n",
       "\n",
       "#sk-container-id-1 a.estimator_doc_link.fitted {\n",
       "  /* fitted */\n",
       "  border: var(--sklearn-color-fitted-level-1) 1pt solid;\n",
       "  color: var(--sklearn-color-fitted-level-1);\n",
       "}\n",
       "\n",
       "/* On hover */\n",
       "#sk-container-id-1 a.estimator_doc_link:hover {\n",
       "  /* unfitted */\n",
       "  background-color: var(--sklearn-color-unfitted-level-3);\n",
       "  color: var(--sklearn-color-background);\n",
       "  text-decoration: none;\n",
       "}\n",
       "\n",
       "#sk-container-id-1 a.estimator_doc_link.fitted:hover {\n",
       "  /* fitted */\n",
       "  background-color: var(--sklearn-color-fitted-level-3);\n",
       "}\n",
       "</style><div id=\"sk-container-id-1\" class=\"sk-top-container\"><div class=\"sk-text-repr-fallback\"><pre>DecisionTreeRegressor(random_state=42)</pre><b>In a Jupyter environment, please rerun this cell to show the HTML representation or trust the notebook. <br />On GitHub, the HTML representation is unable to render, please try loading this page with nbviewer.org.</b></div><div class=\"sk-container\" hidden><div class=\"sk-item\"><div class=\"sk-estimator fitted sk-toggleable\"><input class=\"sk-toggleable__control sk-hidden--visually\" id=\"sk-estimator-id-1\" type=\"checkbox\" checked><label for=\"sk-estimator-id-1\" class=\"sk-toggleable__label fitted sk-toggleable__label-arrow fitted\">&nbsp;&nbsp;DecisionTreeRegressor<a class=\"sk-estimator-doc-link fitted\" rel=\"noreferrer\" target=\"_blank\" href=\"https://scikit-learn.org/1.5/modules/generated/sklearn.tree.DecisionTreeRegressor.html\">?<span>Documentation for DecisionTreeRegressor</span></a><span class=\"sk-estimator-doc-link fitted\">i<span>Fitted</span></span></label><div class=\"sk-toggleable__content fitted\"><pre>DecisionTreeRegressor(random_state=42)</pre></div> </div></div></div></div>"
      ],
      "text/plain": [
       "DecisionTreeRegressor(random_state=42)"
      ]
     },
     "execution_count": 24,
     "metadata": {},
     "output_type": "execute_result"
    }
   ],
   "source": [
    "model.fit(train_x, train_y)"
   ]
  },
  {
   "cell_type": "markdown",
   "id": "45c8a39c-53c3-46dc-819a-ccec8f654fca",
   "metadata": {},
   "source": [
    "### 5. 모델 예측값 획득"
   ]
  },
  {
   "cell_type": "code",
   "execution_count": 25,
   "id": "8a74a817-0665-4316-9369-e1c0fbe001b6",
   "metadata": {},
   "outputs": [],
   "source": [
    "pred = model.predict(test_x)"
   ]
  },
  {
   "cell_type": "markdown",
   "id": "2be27841-fa0f-46c7-92bd-865d8e067cec",
   "metadata": {},
   "source": [
    "### 6. 제출 파일에 값 할당 및 저장"
   ]
  },
  {
   "cell_type": "code",
   "execution_count": 26,
   "id": "b7d04470-ca09-4b76-a483-5ae5df1ac726",
   "metadata": {},
   "outputs": [],
   "source": [
    "submission['TARGET'] = pred\n",
    "\n",
    "# 매개변수는 수정하지 말아주세요.\n",
    "submission.to_csv('data/solar_power/submission.csv', index=False, quoting=2, encoding=\"utf-8-sig\", na_rep=0, float_format='%.6f')"
   ]
  },
  {
   "cell_type": "markdown",
   "id": "0b0aa29b-fba0-4adf-a8d7-c219c7506d77",
   "metadata": {},
   "source": [
    "## 스테이지 4"
   ]
  },
  {
   "cell_type": "markdown",
   "id": "819cdfb3-02de-4d0d-9dcd-c9e8b49442a4",
   "metadata": {},
   "source": [
    "### 1. 데이터 읽어오기"
   ]
  },
  {
   "cell_type": "code",
   "execution_count": 27,
   "id": "d2f16126-877f-45a6-96e6-332858a66df2",
   "metadata": {},
   "outputs": [],
   "source": [
    "import pandas as pd\n",
    "\n",
    "train = pd.read_csv('data/solar_power/train.csv')\n",
    "test = pd.read_csv('data/solar_power/test.csv')\n",
    "submission = pd.read_csv('data/solar_power/sample_submission.csv')"
   ]
  },
  {
   "cell_type": "markdown",
   "id": "cb761690-a7ac-46c3-98b1-bae49f3a22fb",
   "metadata": {},
   "source": [
    "### 2. 데이터 확인하기"
   ]
  },
  {
   "cell_type": "code",
   "execution_count": 28,
   "id": "3c37ab9f-9d16-4398-99c7-4c51ef372574",
   "metadata": {},
   "outputs": [
    {
     "data": {
      "text/html": [
       "<div>\n",
       "<style scoped>\n",
       "    .dataframe tbody tr th:only-of-type {\n",
       "        vertical-align: middle;\n",
       "    }\n",
       "\n",
       "    .dataframe tbody tr th {\n",
       "        vertical-align: top;\n",
       "    }\n",
       "\n",
       "    .dataframe thead th {\n",
       "        text-align: right;\n",
       "    }\n",
       "</style>\n",
       "<table border=\"1\" class=\"dataframe\">\n",
       "  <thead>\n",
       "    <tr style=\"text-align: right;\">\n",
       "      <th></th>\n",
       "      <th>ID</th>\n",
       "      <th>DHI</th>\n",
       "      <th>DNI</th>\n",
       "      <th>WS</th>\n",
       "      <th>RH</th>\n",
       "      <th>T</th>\n",
       "      <th>TARGET</th>\n",
       "    </tr>\n",
       "  </thead>\n",
       "  <tbody>\n",
       "    <tr>\n",
       "      <th>0</th>\n",
       "      <td>1</td>\n",
       "      <td>0.315650</td>\n",
       "      <td>0.885087</td>\n",
       "      <td>3.129167</td>\n",
       "      <td>-0.563454</td>\n",
       "      <td>-0.106409</td>\n",
       "      <td>33.659014</td>\n",
       "    </tr>\n",
       "    <tr>\n",
       "      <th>1</th>\n",
       "      <td>2</td>\n",
       "      <td>0.075239</td>\n",
       "      <td>0.756084</td>\n",
       "      <td>3.068750</td>\n",
       "      <td>-1.030301</td>\n",
       "      <td>0.317479</td>\n",
       "      <td>20.747731</td>\n",
       "    </tr>\n",
       "    <tr>\n",
       "      <th>2</th>\n",
       "      <td>3</td>\n",
       "      <td>0.148714</td>\n",
       "      <td>0.628092</td>\n",
       "      <td>1.547917</td>\n",
       "      <td>-1.190128</td>\n",
       "      <td>0.411156</td>\n",
       "      <td>18.263065</td>\n",
       "    </tr>\n",
       "    <tr>\n",
       "      <th>3</th>\n",
       "      <td>4</td>\n",
       "      <td>0.821308</td>\n",
       "      <td>0.283800</td>\n",
       "      <td>3.020833</td>\n",
       "      <td>-0.218049</td>\n",
       "      <td>1.308111</td>\n",
       "      <td>21.072718</td>\n",
       "    </tr>\n",
       "    <tr>\n",
       "      <th>4</th>\n",
       "      <td>5</td>\n",
       "      <td>0.174578</td>\n",
       "      <td>0.592866</td>\n",
       "      <td>2.056250</td>\n",
       "      <td>0.286934</td>\n",
       "      <td>-0.312498</td>\n",
       "      <td>16.076963</td>\n",
       "    </tr>\n",
       "  </tbody>\n",
       "</table>\n",
       "</div>"
      ],
      "text/plain": [
       "   ID       DHI       DNI        WS        RH         T     TARGET\n",
       "0   1  0.315650  0.885087  3.129167 -0.563454 -0.106409  33.659014\n",
       "1   2  0.075239  0.756084  3.068750 -1.030301  0.317479  20.747731\n",
       "2   3  0.148714  0.628092  1.547917 -1.190128  0.411156  18.263065\n",
       "3   4  0.821308  0.283800  3.020833 -0.218049  1.308111  21.072718\n",
       "4   5  0.174578  0.592866  2.056250  0.286934 -0.312498  16.076963"
      ]
     },
     "execution_count": 28,
     "metadata": {},
     "output_type": "execute_result"
    }
   ],
   "source": [
    "train.head()"
   ]
  },
  {
   "cell_type": "markdown",
   "id": "227eb126-37c6-4c5f-8e40-a6e37cb84430",
   "metadata": {},
   "source": [
    "### 3. 시각화 모듈 import"
   ]
  },
  {
   "cell_type": "code",
   "execution_count": 29,
   "id": "128f6ad1-3459-4b9e-800a-41bec4422894",
   "metadata": {},
   "outputs": [],
   "source": [
    "import matplotlib.pyplot as plt\n",
    "import seaborn as sns"
   ]
  },
  {
   "cell_type": "markdown",
   "id": "b440790c-5f77-4805-9ce3-9e6445b99c45",
   "metadata": {},
   "source": [
    "### 4. 히스토그램을 활용한 데이터 분포 확인"
   ]
  },
  {
   "cell_type": "markdown",
   "id": "37c3d649-c335-4299-bcdb-86155d6b2f90",
   "metadata": {},
   "source": [
    "아래 그래프를 통해 데이터 분포가 0~40 사이의 값이고, 평균 등장 빈도가 약 20회이며, 등장 빈도 수가 매우 적은 데이터는 없는 것처럼 보인다."
   ]
  },
  {
   "cell_type": "code",
   "execution_count": 30,
   "id": "c2a95dec-6d95-4d3b-be13-de2a8448d0d0",
   "metadata": {},
   "outputs": [
    {
     "data": {
      "image/png": "[encoded data removed]",
      "text/plain": [
       "<Figure size 640x480 with 1 Axes>"
      ]
     },
     "metadata": {},
     "output_type": "display_data"
    }
   ],
   "source": [
    "sns.histplot(x = train['TARGET'])\n",
    "plt.show()"
   ]
  },
  {
   "cell_type": "markdown",
   "id": "683f06ee-026b-413e-b5bf-a6ba248405b7",
   "metadata": {},
   "source": [
    "세로 방향으로 데이터를 표현하면, 매개변수를 x로 입력했을 때보다 등장 빈도 차이가 더 커 보인다. 실제 데이터가 변한 것은 아니지만, 축을 바꿈으로써 차이를 더욱 직관적으로 확인 가능하다"
   ]
  },
  {
   "cell_type": "code",
   "execution_count": 33,
   "id": "fc64d9a9-bed9-4977-9621-e34c675094bd",
   "metadata": {},
   "outputs": [
    {
     "data": {
      "image/png": "[encoded data removed]",
      "text/plain": [
       "<Figure size 640x480 with 1 Axes>"
      ]
     },
     "metadata": {},
     "output_type": "display_data"
    }
   ],
   "source": [
    "ax = sns.histplot(y = train['TARGET'])\n",
    "plt.show()"
   ]
  },
  {
   "cell_type": "markdown",
   "id": "b9f372c4-b0d7-4a95-ba17-bf45077ca33e",
   "metadata": {},
   "source": [
    "### 5. 히스토그램을 활용한 온도(T) 분포 확인"
   ]
  },
  {
   "cell_type": "markdown",
   "id": "30dd2531-7618-45bc-8349-6fb1b0f44536",
   "metadata": {},
   "source": [
    "온도의 평균이 0인 것을 보았을 때 데이터의 범위를 조정하기 위해 스케일링이 적용되었다는 것을 예상할 수 있다. 또한 -2 전후의 구간이 다른 구간에 비해 등장 빈도가 매우 적다. 따라서 직관적으로 T열의 값 일부가 이상치로 판별할 수 있다."
   ]
  },
  {
   "cell_type": "code",
   "execution_count": 34,
   "id": "6f305787-8430-4785-8d0c-637deebca2d0",
   "metadata": {},
   "outputs": [
    {
     "data": {
      "image/png": "[encoded data removed]",
      "text/plain": [
       "<Figure size 640x480 with 1 Axes>"
      ]
     },
     "metadata": {},
     "output_type": "display_data"
    }
   ],
   "source": [
    "axis_x = train['T']\n",
    "sns.histplot(x = axis_x)\n",
    "plt.show()"
   ]
  },
  {
   "cell_type": "markdown",
   "id": "23901000-7cb5-4c17-90ac-dbd7694c80f7",
   "metadata": {},
   "source": [
    "### 6. 회귀선이 포함된 산점도 그리기"
   ]
  },
  {
   "cell_type": "markdown",
   "id": "1f618a43-bcbc-4fab-a210-01c33d1fa045",
   "metadata": {},
   "source": [
    "회귀선이 포함된 산점도를 그렸을 때, 각 데이터들이 회귀선 근처에 밀집되어 있지 않고 퍼져있다. 이를 통해 WS열과 TARGET 열에는 상관관계가 거의 없는 것을 확인할 수 있고, TARGET 열과 상관관계를 가지는 다른 열을 찾기 위해 다시 시각화를 해보자"
   ]
  },
  {
   "cell_type": "code",
   "execution_count": 35,
   "id": "85798116-b0cd-4242-b94c-816649221f74",
   "metadata": {},
   "outputs": [
    {
     "data": {
      "image/png": "[encoded data removed]",
      "text/plain": [
       "<Figure size 640x480 with 1 Axes>"
      ]
     },
     "metadata": {},
     "output_type": "display_data"
    }
   ],
   "source": [
    "sns.regplot(x = train['WS'], y = train['TARGET'])\n",
    "plt.show()"
   ]
  },
  {
   "cell_type": "markdown",
   "id": "2b07cf91-3113-4c2e-bd57-ee4a06f02a35",
   "metadata": {},
   "source": [
    "아래의 출력 결과 산점도가 회귀선 근처에 어느 정도 밀집되어 있는 것을 볼 수 있다. 즉, RH 열의 값이 증가할 때 TARGET 열의 값이 감소하는 경향을 보이고 있기에, 두 변수는 **음의 상관관계가 있다.** 라고 할 수 있다."
   ]
  },
  {
   "cell_type": "code",
   "execution_count": 36,
   "id": "e6b74e7f-00e3-4193-b5b8-5b4cc76f2c5b",
   "metadata": {},
   "outputs": [
    {
     "data": {
      "image/png": "[encoded data removed]",
      "text/plain": [
       "<Figure size 640x480 with 1 Axes>"
      ]
     },
     "metadata": {},
     "output_type": "display_data"
    }
   ],
   "source": [
    "ax = sns.regplot(x = train['RH'], y = train['TARGET'], line_kws = {'color' : 'red'})\n",
    "plt.show()"
   ]
  },
  {
   "cell_type": "markdown",
   "id": "8aa28e9e-8654-4ed3-a80b-a9e2512a58b8",
   "metadata": {},
   "source": [
    "### 7. 독립변수, 종속변수 설정"
   ]
  },
  {
   "cell_type": "code",
   "execution_count": 38,
   "id": "207fe15b-b089-413a-a1a6-9bb513fbf32e",
   "metadata": {},
   "outputs": [],
   "source": [
    "train_x = train.drop(['TARGET'], axis = 1)\n",
    "train_y = train['TARGET']\n",
    "\n",
    "# ID 열 제거\n",
    "train_x = train_x.drop('ID', axis = 1)\n",
    "test_x = test.drop('ID', axis = 1) "
   ]
  },
  {
   "cell_type": "markdown",
   "id": "211f0e8c-2c3c-4f6e-8bc3-49ff8308dd2d",
   "metadata": {},
   "source": [
    "### 8. 모델 정의 및 학습"
   ]
  },
  {
   "cell_type": "code",
   "execution_count": 39,
   "id": "8cd39cd3-a99d-4ea8-803e-e9783d1c0f95",
   "metadata": {},
   "outputs": [
    {
     "data": {
      "text/html": [
       "<style>#sk-container-id-2 {\n",
       "  /* Definition of color scheme common for light and dark mode */\n",
       "  --sklearn-color-text: black;\n",
       "  --sklearn-color-line: gray;\n",
       "  /* Definition of color scheme for unfitted estimators */\n",
       "  --sklearn-color-unfitted-level-0: #fff5e6;\n",
       "  --sklearn-color-unfitted-level-1: #f6e4d2;\n",
       "  --sklearn-color-unfitted-level-2: #ffe0b3;\n",
       "  --sklearn-color-unfitted-level-3: chocolate;\n",
       "  /* Definition of color scheme for fitted estimators */\n",
       "  --sklearn-color-fitted-level-0: #f0f8ff;\n",
       "  --sklearn-color-fitted-level-1: #d4ebff;\n",
       "  --sklearn-color-fitted-level-2: #b3dbfd;\n",
       "  --sklearn-color-fitted-level-3: cornflowerblue;\n",
       "\n",
       "  /* Specific color for light theme */\n",
       "  --sklearn-color-text-on-default-background: var(--sg-text-color, var(--theme-code-foreground, var(--jp-content-font-color1, black)));\n",
       "  --sklearn-color-background: var(--sg-background-color, var(--theme-background, var(--jp-layout-color0, white)));\n",
       "  --sklearn-color-border-box: var(--sg-text-color, var(--theme-code-foreground, var(--jp-content-font-color1, black)));\n",
       "  --sklearn-color-icon: #696969;\n",
       "\n",
       "  @media (prefers-color-scheme: dark) {\n",
       "    /* Redefinition of color scheme for dark theme */\n",
       "    --sklearn-color-text-on-default-background: var(--sg-text-color, var(--theme-code-foreground, var(--jp-content-font-color1, white)));\n",
       "    --sklearn-color-background: var(--sg-background-color, var(--theme-background, var(--jp-layout-color0, #111)));\n",
       "    --sklearn-color-border-box: var(--sg-text-color, var(--theme-code-foreground, var(--jp-content-font-color1, white)));\n",
       "    --sklearn-color-icon: #878787;\n",
       "  }\n",
       "}\n",
       "\n",
       "#sk-container-id-2 {\n",
       "  color: var(--sklearn-color-text);\n",
       "}\n",
       "\n",
       "#sk-container-id-2 pre {\n",
       "  padding: 0;\n",
       "}\n",
       "\n",
       "#sk-container-id-2 input.sk-hidden--visually {\n",
       "  border: 0;\n",
       "  clip: rect(1px 1px 1px 1px);\n",
       "  clip: rect(1px, 1px, 1px, 1px);\n",
       "  height: 1px;\n",
       "  margin: -1px;\n",
       "  overflow: hidden;\n",
       "  padding: 0;\n",
       "  position: absolute;\n",
       "  width: 1px;\n",
       "}\n",
       "\n",
       "#sk-container-id-2 div.sk-dashed-wrapped {\n",
       "  border: 1px dashed var(--sklearn-color-line);\n",
       "  margin: 0 0.4em 0.5em 0.4em;\n",
       "  box-sizing: border-box;\n",
       "  padding-bottom: 0.4em;\n",
       "  background-color: var(--sklearn-color-background);\n",
       "}\n",
       "\n",
       "#sk-container-id-2 div.sk-container {\n",
       "  /* jupyter's `normalize.less` sets `[hidden] { display: none; }`\n",
       "     but bootstrap.min.css set `[hidden] { display: none !important; }`\n",
       "     so we also need the `!important` here to be able to override the\n",
       "     default hidden behavior on the sphinx rendered scikit-learn.org.\n",
       "     See: https://github.com/scikit-learn/scikit-learn/issues/21755 */\n",
       "  display: inline-block !important;\n",
       "  position: relative;\n",
       "}\n",
       "\n",
       "#sk-container-id-2 div.sk-text-repr-fallback {\n",
       "  display: none;\n",
       "}\n",
       "\n",
       "div.sk-parallel-item,\n",
       "div.sk-serial,\n",
       "div.sk-item {\n",
       "  /* draw centered vertical line to link estimators */\n",
       "  background-image: linear-gradient(var(--sklearn-color-text-on-default-background), var(--sklearn-color-text-on-default-background));\n",
       "  background-size: 2px 100%;\n",
       "  background-repeat: no-repeat;\n",
       "  background-position: center center;\n",
       "}\n",
       "\n",
       "/* Parallel-specific style estimator block */\n",
       "\n",
       "#sk-container-id-2 div.sk-parallel-item::after {\n",
       "  content: \"\";\n",
       "  width: 100%;\n",
       "  border-bottom: 2px solid var(--sklearn-color-text-on-default-background);\n",
       "  flex-grow: 1;\n",
       "}\n",
       "\n",
       "#sk-container-id-2 div.sk-parallel {\n",
       "  display: flex;\n",
       "  align-items: stretch;\n",
       "  justify-content: center;\n",
       "  background-color: var(--sklearn-color-background);\n",
       "  position: relative;\n",
       "}\n",
       "\n",
       "#sk-container-id-2 div.sk-parallel-item {\n",
       "  display: flex;\n",
       "  flex-direction: column;\n",
       "}\n",
       "\n",
       "#sk-container-id-2 div.sk-parallel-item:first-child::after {\n",
       "  align-self: flex-end;\n",
       "  width: 50%;\n",
       "}\n",
       "\n",
       "#sk-container-id-2 div.sk-parallel-item:last-child::after {\n",
       "  align-self: flex-start;\n",
       "  width: 50%;\n",
       "}\n",
       "\n",
       "#sk-container-id-2 div.sk-parallel-item:only-child::after {\n",
       "  width: 0;\n",
       "}\n",
       "\n",
       "/* Serial-specific style estimator block */\n",
       "\n",
       "#sk-container-id-2 div.sk-serial {\n",
       "  display: flex;\n",
       "  flex-direction: column;\n",
       "  align-items: center;\n",
       "  background-color: var(--sklearn-color-background);\n",
       "  padding-right: 1em;\n",
       "  padding-left: 1em;\n",
       "}\n",
       "\n",
       "\n",
       "/* Toggleable style: style used for estimator/Pipeline/ColumnTransformer box that is\n",
       "clickable and can be expanded/collapsed.\n",
       "- Pipeline and ColumnTransformer use this feature and define the default style\n",
       "- Estimators will overwrite some part of the style using the `sk-estimator` class\n",
       "*/\n",
       "\n",
       "/* Pipeline and ColumnTransformer style (default) */\n",
       "\n",
       "#sk-container-id-2 div.sk-toggleable {\n",
       "  /* Default theme specific background. It is overwritten whether we have a\n",
       "  specific estimator or a Pipeline/ColumnTransformer */\n",
       "  background-color: var(--sklearn-color-background);\n",
       "}\n",
       "\n",
       "/* Toggleable label */\n",
       "#sk-container-id-2 label.sk-toggleable__label {\n",
       "  cursor: pointer;\n",
       "  display: block;\n",
       "  width: 100%;\n",
       "  margin-bottom: 0;\n",
       "  padding: 0.5em;\n",
       "  box-sizing: border-box;\n",
       "  text-align: center;\n",
       "}\n",
       "\n",
       "#sk-container-id-2 label.sk-toggleable__label-arrow:before {\n",
       "  /* Arrow on the left of the label */\n",
       "  content: \"▸\";\n",
       "  float: left;\n",
       "  margin-right: 0.25em;\n",
       "  color: var(--sklearn-color-icon);\n",
       "}\n",
       "\n",
       "#sk-container-id-2 label.sk-toggleable__label-arrow:hover:before {\n",
       "  color: var(--sklearn-color-text);\n",
       "}\n",
       "\n",
       "/* Toggleable content - dropdown */\n",
       "\n",
       "#sk-container-id-2 div.sk-toggleable__content {\n",
       "  max-height: 0;\n",
       "  max-width: 0;\n",
       "  overflow: hidden;\n",
       "  text-align: left;\n",
       "  /* unfitted */\n",
       "  background-color: var(--sklearn-color-unfitted-level-0);\n",
       "}\n",
       "\n",
       "#sk-container-id-2 div.sk-toggleable__content.fitted {\n",
       "  /* fitted */\n",
       "  background-color: var(--sklearn-color-fitted-level-0);\n",
       "}\n",
       "\n",
       "#sk-container-id-2 div.sk-toggleable__content pre {\n",
       "  margin: 0.2em;\n",
       "  border-radius: 0.25em;\n",
       "  color: var(--sklearn-color-text);\n",
       "  /* unfitted */\n",
       "  background-color: var(--sklearn-color-unfitted-level-0);\n",
       "}\n",
       "\n",
       "#sk-container-id-2 div.sk-toggleable__content.fitted pre {\n",
       "  /* unfitted */\n",
       "  background-color: var(--sklearn-color-fitted-level-0);\n",
       "}\n",
       "\n",
       "#sk-container-id-2 input.sk-toggleable__control:checked~div.sk-toggleable__content {\n",
       "  /* Expand drop-down */\n",
       "  max-height: 200px;\n",
       "  max-width: 100%;\n",
       "  overflow: auto;\n",
       "}\n",
       "\n",
       "#sk-container-id-2 input.sk-toggleable__control:checked~label.sk-toggleable__label-arrow:before {\n",
       "  content: \"▾\";\n",
       "}\n",
       "\n",
       "/* Pipeline/ColumnTransformer-specific style */\n",
       "\n",
       "#sk-container-id-2 div.sk-label input.sk-toggleable__control:checked~label.sk-toggleable__label {\n",
       "  color: var(--sklearn-color-text);\n",
       "  background-color: var(--sklearn-color-unfitted-level-2);\n",
       "}\n",
       "\n",
       "#sk-container-id-2 div.sk-label.fitted input.sk-toggleable__control:checked~label.sk-toggleable__label {\n",
       "  background-color: var(--sklearn-color-fitted-level-2);\n",
       "}\n",
       "\n",
       "/* Estimator-specific style */\n",
       "\n",
       "/* Colorize estimator box */\n",
       "#sk-container-id-2 div.sk-estimator input.sk-toggleable__control:checked~label.sk-toggleable__label {\n",
       "  /* unfitted */\n",
       "  background-color: var(--sklearn-color-unfitted-level-2);\n",
       "}\n",
       "\n",
       "#sk-container-id-2 div.sk-estimator.fitted input.sk-toggleable__control:checked~label.sk-toggleable__label {\n",
       "  /* fitted */\n",
       "  background-color: var(--sklearn-color-fitted-level-2);\n",
       "}\n",
       "\n",
       "#sk-container-id-2 div.sk-label label.sk-toggleable__label,\n",
       "#sk-container-id-2 div.sk-label label {\n",
       "  /* The background is the default theme color */\n",
       "  color: var(--sklearn-color-text-on-default-background);\n",
       "}\n",
       "\n",
       "/* On hover, darken the color of the background */\n",
       "#sk-container-id-2 div.sk-label:hover label.sk-toggleable__label {\n",
       "  color: var(--sklearn-color-text);\n",
       "  background-color: var(--sklearn-color-unfitted-level-2);\n",
       "}\n",
       "\n",
       "/* Label box, darken color on hover, fitted */\n",
       "#sk-container-id-2 div.sk-label.fitted:hover label.sk-toggleable__label.fitted {\n",
       "  color: var(--sklearn-color-text);\n",
       "  background-color: var(--sklearn-color-fitted-level-2);\n",
       "}\n",
       "\n",
       "/* Estimator label */\n",
       "\n",
       "#sk-container-id-2 div.sk-label label {\n",
       "  font-family: monospace;\n",
       "  font-weight: bold;\n",
       "  display: inline-block;\n",
       "  line-height: 1.2em;\n",
       "}\n",
       "\n",
       "#sk-container-id-2 div.sk-label-container {\n",
       "  text-align: center;\n",
       "}\n",
       "\n",
       "/* Estimator-specific */\n",
       "#sk-container-id-2 div.sk-estimator {\n",
       "  font-family: monospace;\n",
       "  border: 1px dotted var(--sklearn-color-border-box);\n",
       "  border-radius: 0.25em;\n",
       "  box-sizing: border-box;\n",
       "  margin-bottom: 0.5em;\n",
       "  /* unfitted */\n",
       "  background-color: var(--sklearn-color-unfitted-level-0);\n",
       "}\n",
       "\n",
       "#sk-container-id-2 div.sk-estimator.fitted {\n",
       "  /* fitted */\n",
       "  background-color: var(--sklearn-color-fitted-level-0);\n",
       "}\n",
       "\n",
       "/* on hover */\n",
       "#sk-container-id-2 div.sk-estimator:hover {\n",
       "  /* unfitted */\n",
       "  background-color: var(--sklearn-color-unfitted-level-2);\n",
       "}\n",
       "\n",
       "#sk-container-id-2 div.sk-estimator.fitted:hover {\n",
       "  /* fitted */\n",
       "  background-color: var(--sklearn-color-fitted-level-2);\n",
       "}\n",
       "\n",
       "/* Specification for estimator info (e.g. \"i\" and \"?\") */\n",
       "\n",
       "/* Common style for \"i\" and \"?\" */\n",
       "\n",
       ".sk-estimator-doc-link,\n",
       "a:link.sk-estimator-doc-link,\n",
       "a:visited.sk-estimator-doc-link {\n",
       "  float: right;\n",
       "  font-size: smaller;\n",
       "  line-height: 1em;\n",
       "  font-family: monospace;\n",
       "  background-color: var(--sklearn-color-background);\n",
       "  border-radius: 1em;\n",
       "  height: 1em;\n",
       "  width: 1em;\n",
       "  text-decoration: none !important;\n",
       "  margin-left: 1ex;\n",
       "  /* unfitted */\n",
       "  border: var(--sklearn-color-unfitted-level-1) 1pt solid;\n",
       "  color: var(--sklearn-color-unfitted-level-1);\n",
       "}\n",
       "\n",
       ".sk-estimator-doc-link.fitted,\n",
       "a:link.sk-estimator-doc-link.fitted,\n",
       "a:visited.sk-estimator-doc-link.fitted {\n",
       "  /* fitted */\n",
       "  border: var(--sklearn-color-fitted-level-1) 1pt solid;\n",
       "  color: var(--sklearn-color-fitted-level-1);\n",
       "}\n",
       "\n",
       "/* On hover */\n",
       "div.sk-estimator:hover .sk-estimator-doc-link:hover,\n",
       ".sk-estimator-doc-link:hover,\n",
       "div.sk-label-container:hover .sk-estimator-doc-link:hover,\n",
       ".sk-estimator-doc-link:hover {\n",
       "  /* unfitted */\n",
       "  background-color: var(--sklearn-color-unfitted-level-3);\n",
       "  color: var(--sklearn-color-background);\n",
       "  text-decoration: none;\n",
       "}\n",
       "\n",
       "div.sk-estimator.fitted:hover .sk-estimator-doc-link.fitted:hover,\n",
       ".sk-estimator-doc-link.fitted:hover,\n",
       "div.sk-label-container:hover .sk-estimator-doc-link.fitted:hover,\n",
       ".sk-estimator-doc-link.fitted:hover {\n",
       "  /* fitted */\n",
       "  background-color: var(--sklearn-color-fitted-level-3);\n",
       "  color: var(--sklearn-color-background);\n",
       "  text-decoration: none;\n",
       "}\n",
       "\n",
       "/* Span, style for the box shown on hovering the info icon */\n",
       ".sk-estimator-doc-link span {\n",
       "  display: none;\n",
       "  z-index: 9999;\n",
       "  position: relative;\n",
       "  font-weight: normal;\n",
       "  right: .2ex;\n",
       "  padding: .5ex;\n",
       "  margin: .5ex;\n",
       "  width: min-content;\n",
       "  min-width: 20ex;\n",
       "  max-width: 50ex;\n",
       "  color: var(--sklearn-color-text);\n",
       "  box-shadow: 2pt 2pt 4pt #999;\n",
       "  /* unfitted */\n",
       "  background: var(--sklearn-color-unfitted-level-0);\n",
       "  border: .5pt solid var(--sklearn-color-unfitted-level-3);\n",
       "}\n",
       "\n",
       ".sk-estimator-doc-link.fitted span {\n",
       "  /* fitted */\n",
       "  background: var(--sklearn-color-fitted-level-0);\n",
       "  border: var(--sklearn-color-fitted-level-3);\n",
       "}\n",
       "\n",
       ".sk-estimator-doc-link:hover span {\n",
       "  display: block;\n",
       "}\n",
       "\n",
       "/* \"?\"-specific style due to the `<a>` HTML tag */\n",
       "\n",
       "#sk-container-id-2 a.estimator_doc_link {\n",
       "  float: right;\n",
       "  font-size: 1rem;\n",
       "  line-height: 1em;\n",
       "  font-family: monospace;\n",
       "  background-color: var(--sklearn-color-background);\n",
       "  border-radius: 1rem;\n",
       "  height: 1rem;\n",
       "  width: 1rem;\n",
       "  text-decoration: none;\n",
       "  /* unfitted */\n",
       "  color: var(--sklearn-color-unfitted-level-1);\n",
       "  border: var(--sklearn-color-unfitted-level-1) 1pt solid;\n",
       "}\n",
       "\n",
       "#sk-container-id-2 a.estimator_doc_link.fitted {\n",
       "  /* fitted */\n",
       "  border: var(--sklearn-color-fitted-level-1) 1pt solid;\n",
       "  color: var(--sklearn-color-fitted-level-1);\n",
       "}\n",
       "\n",
       "/* On hover */\n",
       "#sk-container-id-2 a.estimator_doc_link:hover {\n",
       "  /* unfitted */\n",
       "  background-color: var(--sklearn-color-unfitted-level-3);\n",
       "  color: var(--sklearn-color-background);\n",
       "  text-decoration: none;\n",
       "}\n",
       "\n",
       "#sk-container-id-2 a.estimator_doc_link.fitted:hover {\n",
       "  /* fitted */\n",
       "  background-color: var(--sklearn-color-fitted-level-3);\n",
       "}\n",
       "</style><div id=\"sk-container-id-2\" class=\"sk-top-container\"><div class=\"sk-text-repr-fallback\"><pre>DecisionTreeRegressor(random_state=42)</pre><b>In a Jupyter environment, please rerun this cell to show the HTML representation or trust the notebook. <br />On GitHub, the HTML representation is unable to render, please try loading this page with nbviewer.org.</b></div><div class=\"sk-container\" hidden><div class=\"sk-item\"><div class=\"sk-estimator fitted sk-toggleable\"><input class=\"sk-toggleable__control sk-hidden--visually\" id=\"sk-estimator-id-2\" type=\"checkbox\" checked><label for=\"sk-estimator-id-2\" class=\"sk-toggleable__label fitted sk-toggleable__label-arrow fitted\">&nbsp;&nbsp;DecisionTreeRegressor<a class=\"sk-estimator-doc-link fitted\" rel=\"noreferrer\" target=\"_blank\" href=\"https://scikit-learn.org/1.5/modules/generated/sklearn.tree.DecisionTreeRegressor.html\">?<span>Documentation for DecisionTreeRegressor</span></a><span class=\"sk-estimator-doc-link fitted\">i<span>Fitted</span></span></label><div class=\"sk-toggleable__content fitted\"><pre>DecisionTreeRegressor(random_state=42)</pre></div> </div></div></div></div>"
      ],
      "text/plain": [
       "DecisionTreeRegressor(random_state=42)"
      ]
     },
     "execution_count": 39,
     "metadata": {},
     "output_type": "execute_result"
    }
   ],
   "source": [
    "# DecisionTreeRegressor 모듈을 불러오는 코드입니다.\n",
    "from sklearn.tree import DecisionTreeRegressor\n",
    "\n",
    "# 불러온 모듈을 model 변수에 할당합니다.\n",
    "model = DecisionTreeRegressor(random_state = 42)\n",
    "\n",
    "# 학습을 진행합니다.\n",
    "model.fit(train_x, train_y)"
   ]
  },
  {
   "cell_type": "markdown",
   "id": "a71ea239-5f96-42a3-aa59-e1b9fffeed12",
   "metadata": {},
   "source": [
    "### 9. 모델 예측값 획득"
   ]
  },
  {
   "cell_type": "code",
   "execution_count": 40,
   "id": "bbf13619-6cd9-4af0-beeb-0c45127e66ec",
   "metadata": {},
   "outputs": [],
   "source": [
    "pred = model.predict(test_x)"
   ]
  },
  {
   "cell_type": "markdown",
   "id": "40f27c92-f704-4757-8431-dbafddecd459",
   "metadata": {},
   "source": [
    "### 10. 제출 파일에 값 할당 및 CSV 파일로 저장"
   ]
  },
  {
   "cell_type": "code",
   "execution_count": 41,
   "id": "1966218e-8320-4d5c-9c2b-40ca26c7ae12",
   "metadata": {},
   "outputs": [],
   "source": [
    "submission['TARGET'] = pred\n",
    "\n",
    "# 매개변수는 수정하지 말아주세요.\n",
    "submission.to_csv('data/solar_power/submission.csv', index=False, quoting=2, encoding=\"utf-8-sig\", na_rep=0, float_format='%.6f')"
   ]
  },
  {
   "cell_type": "markdown",
   "id": "055c65bd-9f93-4c5f-9e5d-5def15cb7743",
   "metadata": {},
   "source": [
    "## 스테이지 5"
   ]
  },
  {
   "cell_type": "markdown",
   "id": "d37c9345-837b-46db-8b9d-1256cfa7b9b7",
   "metadata": {},
   "source": [
    "### 1. 데이터 읽어오기"
   ]
  },
  {
   "cell_type": "code",
   "execution_count": 42,
   "id": "77203d8a-b590-4df9-a609-6d0e90470eaa",
   "metadata": {},
   "outputs": [],
   "source": [
    "import pandas as pd\n",
    "\n",
    "train = pd.read_csv('data/solar_power/train.csv')\n",
    "test = pd.read_csv('data/solar_power/test.csv')\n",
    "submission = pd.read_csv('data/solar_power/sample_submission.csv')"
   ]
  },
  {
   "cell_type": "markdown",
   "id": "5d891841-1311-4214-8001-ed46c7d3deb7",
   "metadata": {},
   "source": [
    "### 2. 특성 간 상관 관계 확인"
   ]
  },
  {
   "cell_type": "markdown",
   "id": "7cfe4ba9-cb5a-423e-b774-459bb2ee366a",
   "metadata": {},
   "source": [
    "아래의 코드 실행 결과 각 열에 대한 상관 행렬이 반환되었고, 특히 TARGET 열과의 상관관계가 높은 열을 확인할 수 있다."
   ]
  },
  {
   "cell_type": "code",
   "execution_count": 43,
   "id": "a932965c-ea04-4657-818f-a447b8d7042d",
   "metadata": {},
   "outputs": [
    {
     "data": {
      "text/html": [
       "<div>\n",
       "<style scoped>\n",
       "    .dataframe tbody tr th:only-of-type {\n",
       "        vertical-align: middle;\n",
       "    }\n",
       "\n",
       "    .dataframe tbody tr th {\n",
       "        vertical-align: top;\n",
       "    }\n",
       "\n",
       "    .dataframe thead th {\n",
       "        text-align: right;\n",
       "    }\n",
       "</style>\n",
       "<table border=\"1\" class=\"dataframe\">\n",
       "  <thead>\n",
       "    <tr style=\"text-align: right;\">\n",
       "      <th></th>\n",
       "      <th>ID</th>\n",
       "      <th>DHI</th>\n",
       "      <th>DNI</th>\n",
       "      <th>WS</th>\n",
       "      <th>RH</th>\n",
       "      <th>T</th>\n",
       "      <th>TARGET</th>\n",
       "    </tr>\n",
       "  </thead>\n",
       "  <tbody>\n",
       "    <tr>\n",
       "      <th>ID</th>\n",
       "      <td>1.000000</td>\n",
       "      <td>0.050718</td>\n",
       "      <td>0.018302</td>\n",
       "      <td>-0.048168</td>\n",
       "      <td>-0.014074</td>\n",
       "      <td>0.043845</td>\n",
       "      <td>0.051372</td>\n",
       "    </tr>\n",
       "    <tr>\n",
       "      <th>DHI</th>\n",
       "      <td>0.050718</td>\n",
       "      <td>1.000000</td>\n",
       "      <td>-0.337424</td>\n",
       "      <td>-0.121559</td>\n",
       "      <td>0.139689</td>\n",
       "      <td>0.489096</td>\n",
       "      <td>0.346327</td>\n",
       "    </tr>\n",
       "    <tr>\n",
       "      <th>DNI</th>\n",
       "      <td>0.018302</td>\n",
       "      <td>-0.337424</td>\n",
       "      <td>1.000000</td>\n",
       "      <td>-0.012349</td>\n",
       "      <td>-0.619980</td>\n",
       "      <td>0.298397</td>\n",
       "      <td>0.726132</td>\n",
       "    </tr>\n",
       "    <tr>\n",
       "      <th>WS</th>\n",
       "      <td>-0.048168</td>\n",
       "      <td>-0.121559</td>\n",
       "      <td>-0.012349</td>\n",
       "      <td>1.000000</td>\n",
       "      <td>0.015007</td>\n",
       "      <td>-0.169799</td>\n",
       "      <td>-0.086688</td>\n",
       "    </tr>\n",
       "    <tr>\n",
       "      <th>RH</th>\n",
       "      <td>-0.014074</td>\n",
       "      <td>0.139689</td>\n",
       "      <td>-0.619980</td>\n",
       "      <td>0.015007</td>\n",
       "      <td>1.000000</td>\n",
       "      <td>-0.423290</td>\n",
       "      <td>-0.486821</td>\n",
       "    </tr>\n",
       "    <tr>\n",
       "      <th>T</th>\n",
       "      <td>0.043845</td>\n",
       "      <td>0.489096</td>\n",
       "      <td>0.298397</td>\n",
       "      <td>-0.169799</td>\n",
       "      <td>-0.423290</td>\n",
       "      <td>1.000000</td>\n",
       "      <td>0.689052</td>\n",
       "    </tr>\n",
       "    <tr>\n",
       "      <th>TARGET</th>\n",
       "      <td>0.051372</td>\n",
       "      <td>0.346327</td>\n",
       "      <td>0.726132</td>\n",
       "      <td>-0.086688</td>\n",
       "      <td>-0.486821</td>\n",
       "      <td>0.689052</td>\n",
       "      <td>1.000000</td>\n",
       "    </tr>\n",
       "  </tbody>\n",
       "</table>\n",
       "</div>"
      ],
      "text/plain": [
       "              ID       DHI       DNI        WS        RH         T    TARGET\n",
       "ID      1.000000  0.050718  0.018302 -0.048168 -0.014074  0.043845  0.051372\n",
       "DHI     0.050718  1.000000 -0.337424 -0.121559  0.139689  0.489096  0.346327\n",
       "DNI     0.018302 -0.337424  1.000000 -0.012349 -0.619980  0.298397  0.726132\n",
       "WS     -0.048168 -0.121559 -0.012349  1.000000  0.015007 -0.169799 -0.086688\n",
       "RH     -0.014074  0.139689 -0.619980  0.015007  1.000000 -0.423290 -0.486821\n",
       "T       0.043845  0.489096  0.298397 -0.169799 -0.423290  1.000000  0.689052\n",
       "TARGET  0.051372  0.346327  0.726132 -0.086688 -0.486821  0.689052  1.000000"
      ]
     },
     "execution_count": 43,
     "metadata": {},
     "output_type": "execute_result"
    }
   ],
   "source": [
    "train.corr()"
   ]
  },
  {
   "cell_type": "markdown",
   "id": "84ed1d56-0f23-4268-9e5b-3919f54ecc51",
   "metadata": {},
   "source": [
    "아래의 코드 실행 결과 TARGET 열과의 상관관계가 존재하는 열은 **DHI, DNI, T, RH** 4개이다."
   ]
  },
  {
   "cell_type": "code",
   "execution_count": 44,
   "id": "a7882da9-a3c2-4f43-b450-944d09511832",
   "metadata": {},
   "outputs": [
    {
     "data": {
      "image/png": "[encoded data removed]",
      "text/plain": [
       "<Figure size 800x400 with 2 Axes>"
      ]
     },
     "metadata": {},
     "output_type": "display_data"
    }
   ],
   "source": [
    "import seaborn as sns\n",
    "import matplotlib.pyplot as plt\n",
    "\n",
    "# 이번 셀에서 출력할 이미지 크기를 지정합니다. \n",
    "plt.figure(figsize = (8,4))\n",
    "\n",
    "# annot을 False로 설정하면 각 셀의 수치가 표기되지 않습니다.\n",
    "ax = sns.heatmap(train.corr(), annot = True)\n",
    "plt.show()"
   ]
  },
  {
   "cell_type": "markdown",
   "id": "9c8ae4ca-0fab-4ced-94e9-6c26dd423d51",
   "metadata": {},
   "source": [
    "### 3. 독립변수, 종속변수 설정 및 열 제거"
   ]
  },
  {
   "cell_type": "code",
   "execution_count": 45,
   "id": "0a6a73ac-42ad-4781-9add-3617d22fe55f",
   "metadata": {},
   "outputs": [],
   "source": [
    "# 독립변수, 종속변수로 분리\n",
    "train_x = train.drop(['TARGET'], axis = 1)\n",
    "train_y = train['TARGET']\n",
    "\n",
    "# ID 특성 제거\n",
    "train_x = train_x.drop('ID', axis = 1)\n",
    "test_x = test.drop('ID', axis = 1) "
   ]
  },
  {
   "cell_type": "markdown",
   "id": "c2787f0d-9fd8-4d82-bd98-421ae7554712",
   "metadata": {},
   "source": [
    "### 4. 검증 데이터 만들기"
   ]
  },
  {
   "cell_type": "code",
   "execution_count": 46,
   "id": "2d1060b6-40f8-4526-93a6-835b9df362ea",
   "metadata": {},
   "outputs": [],
   "source": [
    "from sklearn.model_selection import train_test_split\n",
    "\n",
    "x_train, x_valid, y_train, y_valid = train_test_split(train_x, train_y, test_size = 0.3, random_state = 42)"
   ]
  },
  {
   "cell_type": "markdown",
   "id": "f3b48e3c-4dc6-4e67-b71a-94b9603da20e",
   "metadata": {},
   "source": [
    "### 5. 모델 정의 및 학습"
   ]
  },
  {
   "cell_type": "code",
   "execution_count": 47,
   "id": "99d8f237-21a4-48d6-b3f6-de0eb56c4d4d",
   "metadata": {},
   "outputs": [
    {
     "data": {
      "text/html": [
       "<style>#sk-container-id-3 {\n",
       "  /* Definition of color scheme common for light and dark mode */\n",
       "  --sklearn-color-text: black;\n",
       "  --sklearn-color-line: gray;\n",
       "  /* Definition of color scheme for unfitted estimators */\n",
       "  --sklearn-color-unfitted-level-0: #fff5e6;\n",
       "  --sklearn-color-unfitted-level-1: #f6e4d2;\n",
       "  --sklearn-color-unfitted-level-2: #ffe0b3;\n",
       "  --sklearn-color-unfitted-level-3: chocolate;\n",
       "  /* Definition of color scheme for fitted estimators */\n",
       "  --sklearn-color-fitted-level-0: #f0f8ff;\n",
       "  --sklearn-color-fitted-level-1: #d4ebff;\n",
       "  --sklearn-color-fitted-level-2: #b3dbfd;\n",
       "  --sklearn-color-fitted-level-3: cornflowerblue;\n",
       "\n",
       "  /* Specific color for light theme */\n",
       "  --sklearn-color-text-on-default-background: var(--sg-text-color, var(--theme-code-foreground, var(--jp-content-font-color1, black)));\n",
       "  --sklearn-color-background: var(--sg-background-color, var(--theme-background, var(--jp-layout-color0, white)));\n",
       "  --sklearn-color-border-box: var(--sg-text-color, var(--theme-code-foreground, var(--jp-content-font-color1, black)));\n",
       "  --sklearn-color-icon: #696969;\n",
       "\n",
       "  @media (prefers-color-scheme: dark) {\n",
       "    /* Redefinition of color scheme for dark theme */\n",
       "    --sklearn-color-text-on-default-background: var(--sg-text-color, var(--theme-code-foreground, var(--jp-content-font-color1, white)));\n",
       "    --sklearn-color-background: var(--sg-background-color, var(--theme-background, var(--jp-layout-color0, #111)));\n",
       "    --sklearn-color-border-box: var(--sg-text-color, var(--theme-code-foreground, var(--jp-content-font-color1, white)));\n",
       "    --sklearn-color-icon: #878787;\n",
       "  }\n",
       "}\n",
       "\n",
       "#sk-container-id-3 {\n",
       "  color: var(--sklearn-color-text);\n",
       "}\n",
       "\n",
       "#sk-container-id-3 pre {\n",
       "  padding: 0;\n",
       "}\n",
       "\n",
       "#sk-container-id-3 input.sk-hidden--visually {\n",
       "  border: 0;\n",
       "  clip: rect(1px 1px 1px 1px);\n",
       "  clip: rect(1px, 1px, 1px, 1px);\n",
       "  height: 1px;\n",
       "  margin: -1px;\n",
       "  overflow: hidden;\n",
       "  padding: 0;\n",
       "  position: absolute;\n",
       "  width: 1px;\n",
       "}\n",
       "\n",
       "#sk-container-id-3 div.sk-dashed-wrapped {\n",
       "  border: 1px dashed var(--sklearn-color-line);\n",
       "  margin: 0 0.4em 0.5em 0.4em;\n",
       "  box-sizing: border-box;\n",
       "  padding-bottom: 0.4em;\n",
       "  background-color: var(--sklearn-color-background);\n",
       "}\n",
       "\n",
       "#sk-container-id-3 div.sk-container {\n",
       "  /* jupyter's `normalize.less` sets `[hidden] { display: none; }`\n",
       "     but bootstrap.min.css set `[hidden] { display: none !important; }`\n",
       "     so we also need the `!important` here to be able to override the\n",
       "     default hidden behavior on the sphinx rendered scikit-learn.org.\n",
       "     See: https://github.com/scikit-learn/scikit-learn/issues/21755 */\n",
       "  display: inline-block !important;\n",
       "  position: relative;\n",
       "}\n",
       "\n",
       "#sk-container-id-3 div.sk-text-repr-fallback {\n",
       "  display: none;\n",
       "}\n",
       "\n",
       "div.sk-parallel-item,\n",
       "div.sk-serial,\n",
       "div.sk-item {\n",
       "  /* draw centered vertical line to link estimators */\n",
       "  background-image: linear-gradient(var(--sklearn-color-text-on-default-background), var(--sklearn-color-text-on-default-background));\n",
       "  background-size: 2px 100%;\n",
       "  background-repeat: no-repeat;\n",
       "  background-position: center center;\n",
       "}\n",
       "\n",
       "/* Parallel-specific style estimator block */\n",
       "\n",
       "#sk-container-id-3 div.sk-parallel-item::after {\n",
       "  content: \"\";\n",
       "  width: 100%;\n",
       "  border-bottom: 2px solid var(--sklearn-color-text-on-default-background);\n",
       "  flex-grow: 1;\n",
       "}\n",
       "\n",
       "#sk-container-id-3 div.sk-parallel {\n",
       "  display: flex;\n",
       "  align-items: stretch;\n",
       "  justify-content: center;\n",
       "  background-color: var(--sklearn-color-background);\n",
       "  position: relative;\n",
       "}\n",
       "\n",
       "#sk-container-id-3 div.sk-parallel-item {\n",
       "  display: flex;\n",
       "  flex-direction: column;\n",
       "}\n",
       "\n",
       "#sk-container-id-3 div.sk-parallel-item:first-child::after {\n",
       "  align-self: flex-end;\n",
       "  width: 50%;\n",
       "}\n",
       "\n",
       "#sk-container-id-3 div.sk-parallel-item:last-child::after {\n",
       "  align-self: flex-start;\n",
       "  width: 50%;\n",
       "}\n",
       "\n",
       "#sk-container-id-3 div.sk-parallel-item:only-child::after {\n",
       "  width: 0;\n",
       "}\n",
       "\n",
       "/* Serial-specific style estimator block */\n",
       "\n",
       "#sk-container-id-3 div.sk-serial {\n",
       "  display: flex;\n",
       "  flex-direction: column;\n",
       "  align-items: center;\n",
       "  background-color: var(--sklearn-color-background);\n",
       "  padding-right: 1em;\n",
       "  padding-left: 1em;\n",
       "}\n",
       "\n",
       "\n",
       "/* Toggleable style: style used for estimator/Pipeline/ColumnTransformer box that is\n",
       "clickable and can be expanded/collapsed.\n",
       "- Pipeline and ColumnTransformer use this feature and define the default style\n",
       "- Estimators will overwrite some part of the style using the `sk-estimator` class\n",
       "*/\n",
       "\n",
       "/* Pipeline and ColumnTransformer style (default) */\n",
       "\n",
       "#sk-container-id-3 div.sk-toggleable {\n",
       "  /* Default theme specific background. It is overwritten whether we have a\n",
       "  specific estimator or a Pipeline/ColumnTransformer */\n",
       "  background-color: var(--sklearn-color-background);\n",
       "}\n",
       "\n",
       "/* Toggleable label */\n",
       "#sk-container-id-3 label.sk-toggleable__label {\n",
       "  cursor: pointer;\n",
       "  display: block;\n",
       "  width: 100%;\n",
       "  margin-bottom: 0;\n",
       "  padding: 0.5em;\n",
       "  box-sizing: border-box;\n",
       "  text-align: center;\n",
       "}\n",
       "\n",
       "#sk-container-id-3 label.sk-toggleable__label-arrow:before {\n",
       "  /* Arrow on the left of the label */\n",
       "  content: \"▸\";\n",
       "  float: left;\n",
       "  margin-right: 0.25em;\n",
       "  color: var(--sklearn-color-icon);\n",
       "}\n",
       "\n",
       "#sk-container-id-3 label.sk-toggleable__label-arrow:hover:before {\n",
       "  color: var(--sklearn-color-text);\n",
       "}\n",
       "\n",
       "/* Toggleable content - dropdown */\n",
       "\n",
       "#sk-container-id-3 div.sk-toggleable__content {\n",
       "  max-height: 0;\n",
       "  max-width: 0;\n",
       "  overflow: hidden;\n",
       "  text-align: left;\n",
       "  /* unfitted */\n",
       "  background-color: var(--sklearn-color-unfitted-level-0);\n",
       "}\n",
       "\n",
       "#sk-container-id-3 div.sk-toggleable__content.fitted {\n",
       "  /* fitted */\n",
       "  background-color: var(--sklearn-color-fitted-level-0);\n",
       "}\n",
       "\n",
       "#sk-container-id-3 div.sk-toggleable__content pre {\n",
       "  margin: 0.2em;\n",
       "  border-radius: 0.25em;\n",
       "  color: var(--sklearn-color-text);\n",
       "  /* unfitted */\n",
       "  background-color: var(--sklearn-color-unfitted-level-0);\n",
       "}\n",
       "\n",
       "#sk-container-id-3 div.sk-toggleable__content.fitted pre {\n",
       "  /* unfitted */\n",
       "  background-color: var(--sklearn-color-fitted-level-0);\n",
       "}\n",
       "\n",
       "#sk-container-id-3 input.sk-toggleable__control:checked~div.sk-toggleable__content {\n",
       "  /* Expand drop-down */\n",
       "  max-height: 200px;\n",
       "  max-width: 100%;\n",
       "  overflow: auto;\n",
       "}\n",
       "\n",
       "#sk-container-id-3 input.sk-toggleable__control:checked~label.sk-toggleable__label-arrow:before {\n",
       "  content: \"▾\";\n",
       "}\n",
       "\n",
       "/* Pipeline/ColumnTransformer-specific style */\n",
       "\n",
       "#sk-container-id-3 div.sk-label input.sk-toggleable__control:checked~label.sk-toggleable__label {\n",
       "  color: var(--sklearn-color-text);\n",
       "  background-color: var(--sklearn-color-unfitted-level-2);\n",
       "}\n",
       "\n",
       "#sk-container-id-3 div.sk-label.fitted input.sk-toggleable__control:checked~label.sk-toggleable__label {\n",
       "  background-color: var(--sklearn-color-fitted-level-2);\n",
       "}\n",
       "\n",
       "/* Estimator-specific style */\n",
       "\n",
       "/* Colorize estimator box */\n",
       "#sk-container-id-3 div.sk-estimator input.sk-toggleable__control:checked~label.sk-toggleable__label {\n",
       "  /* unfitted */\n",
       "  background-color: var(--sklearn-color-unfitted-level-2);\n",
       "}\n",
       "\n",
       "#sk-container-id-3 div.sk-estimator.fitted input.sk-toggleable__control:checked~label.sk-toggleable__label {\n",
       "  /* fitted */\n",
       "  background-color: var(--sklearn-color-fitted-level-2);\n",
       "}\n",
       "\n",
       "#sk-container-id-3 div.sk-label label.sk-toggleable__label,\n",
       "#sk-container-id-3 div.sk-label label {\n",
       "  /* The background is the default theme color */\n",
       "  color: var(--sklearn-color-text-on-default-background);\n",
       "}\n",
       "\n",
       "/* On hover, darken the color of the background */\n",
       "#sk-container-id-3 div.sk-label:hover label.sk-toggleable__label {\n",
       "  color: var(--sklearn-color-text);\n",
       "  background-color: var(--sklearn-color-unfitted-level-2);\n",
       "}\n",
       "\n",
       "/* Label box, darken color on hover, fitted */\n",
       "#sk-container-id-3 div.sk-label.fitted:hover label.sk-toggleable__label.fitted {\n",
       "  color: var(--sklearn-color-text);\n",
       "  background-color: var(--sklearn-color-fitted-level-2);\n",
       "}\n",
       "\n",
       "/* Estimator label */\n",
       "\n",
       "#sk-container-id-3 div.sk-label label {\n",
       "  font-family: monospace;\n",
       "  font-weight: bold;\n",
       "  display: inline-block;\n",
       "  line-height: 1.2em;\n",
       "}\n",
       "\n",
       "#sk-container-id-3 div.sk-label-container {\n",
       "  text-align: center;\n",
       "}\n",
       "\n",
       "/* Estimator-specific */\n",
       "#sk-container-id-3 div.sk-estimator {\n",
       "  font-family: monospace;\n",
       "  border: 1px dotted var(--sklearn-color-border-box);\n",
       "  border-radius: 0.25em;\n",
       "  box-sizing: border-box;\n",
       "  margin-bottom: 0.5em;\n",
       "  /* unfitted */\n",
       "  background-color: var(--sklearn-color-unfitted-level-0);\n",
       "}\n",
       "\n",
       "#sk-container-id-3 div.sk-estimator.fitted {\n",
       "  /* fitted */\n",
       "  background-color: var(--sklearn-color-fitted-level-0);\n",
       "}\n",
       "\n",
       "/* on hover */\n",
       "#sk-container-id-3 div.sk-estimator:hover {\n",
       "  /* unfitted */\n",
       "  background-color: var(--sklearn-color-unfitted-level-2);\n",
       "}\n",
       "\n",
       "#sk-container-id-3 div.sk-estimator.fitted:hover {\n",
       "  /* fitted */\n",
       "  background-color: var(--sklearn-color-fitted-level-2);\n",
       "}\n",
       "\n",
       "/* Specification for estimator info (e.g. \"i\" and \"?\") */\n",
       "\n",
       "/* Common style for \"i\" and \"?\" */\n",
       "\n",
       ".sk-estimator-doc-link,\n",
       "a:link.sk-estimator-doc-link,\n",
       "a:visited.sk-estimator-doc-link {\n",
       "  float: right;\n",
       "  font-size: smaller;\n",
       "  line-height: 1em;\n",
       "  font-family: monospace;\n",
       "  background-color: var(--sklearn-color-background);\n",
       "  border-radius: 1em;\n",
       "  height: 1em;\n",
       "  width: 1em;\n",
       "  text-decoration: none !important;\n",
       "  margin-left: 1ex;\n",
       "  /* unfitted */\n",
       "  border: var(--sklearn-color-unfitted-level-1) 1pt solid;\n",
       "  color: var(--sklearn-color-unfitted-level-1);\n",
       "}\n",
       "\n",
       ".sk-estimator-doc-link.fitted,\n",
       "a:link.sk-estimator-doc-link.fitted,\n",
       "a:visited.sk-estimator-doc-link.fitted {\n",
       "  /* fitted */\n",
       "  border: var(--sklearn-color-fitted-level-1) 1pt solid;\n",
       "  color: var(--sklearn-color-fitted-level-1);\n",
       "}\n",
       "\n",
       "/* On hover */\n",
       "div.sk-estimator:hover .sk-estimator-doc-link:hover,\n",
       ".sk-estimator-doc-link:hover,\n",
       "div.sk-label-container:hover .sk-estimator-doc-link:hover,\n",
       ".sk-estimator-doc-link:hover {\n",
       "  /* unfitted */\n",
       "  background-color: var(--sklearn-color-unfitted-level-3);\n",
       "  color: var(--sklearn-color-background);\n",
       "  text-decoration: none;\n",
       "}\n",
       "\n",
       "div.sk-estimator.fitted:hover .sk-estimator-doc-link.fitted:hover,\n",
       ".sk-estimator-doc-link.fitted:hover,\n",
       "div.sk-label-container:hover .sk-estimator-doc-link.fitted:hover,\n",
       ".sk-estimator-doc-link.fitted:hover {\n",
       "  /* fitted */\n",
       "  background-color: var(--sklearn-color-fitted-level-3);\n",
       "  color: var(--sklearn-color-background);\n",
       "  text-decoration: none;\n",
       "}\n",
       "\n",
       "/* Span, style for the box shown on hovering the info icon */\n",
       ".sk-estimator-doc-link span {\n",
       "  display: none;\n",
       "  z-index: 9999;\n",
       "  position: relative;\n",
       "  font-weight: normal;\n",
       "  right: .2ex;\n",
       "  padding: .5ex;\n",
       "  margin: .5ex;\n",
       "  width: min-content;\n",
       "  min-width: 20ex;\n",
       "  max-width: 50ex;\n",
       "  color: var(--sklearn-color-text);\n",
       "  box-shadow: 2pt 2pt 4pt #999;\n",
       "  /* unfitted */\n",
       "  background: var(--sklearn-color-unfitted-level-0);\n",
       "  border: .5pt solid var(--sklearn-color-unfitted-level-3);\n",
       "}\n",
       "\n",
       ".sk-estimator-doc-link.fitted span {\n",
       "  /* fitted */\n",
       "  background: var(--sklearn-color-fitted-level-0);\n",
       "  border: var(--sklearn-color-fitted-level-3);\n",
       "}\n",
       "\n",
       ".sk-estimator-doc-link:hover span {\n",
       "  display: block;\n",
       "}\n",
       "\n",
       "/* \"?\"-specific style due to the `<a>` HTML tag */\n",
       "\n",
       "#sk-container-id-3 a.estimator_doc_link {\n",
       "  float: right;\n",
       "  font-size: 1rem;\n",
       "  line-height: 1em;\n",
       "  font-family: monospace;\n",
       "  background-color: var(--sklearn-color-background);\n",
       "  border-radius: 1rem;\n",
       "  height: 1rem;\n",
       "  width: 1rem;\n",
       "  text-decoration: none;\n",
       "  /* unfitted */\n",
       "  color: var(--sklearn-color-unfitted-level-1);\n",
       "  border: var(--sklearn-color-unfitted-level-1) 1pt solid;\n",
       "}\n",
       "\n",
       "#sk-container-id-3 a.estimator_doc_link.fitted {\n",
       "  /* fitted */\n",
       "  border: var(--sklearn-color-fitted-level-1) 1pt solid;\n",
       "  color: var(--sklearn-color-fitted-level-1);\n",
       "}\n",
       "\n",
       "/* On hover */\n",
       "#sk-container-id-3 a.estimator_doc_link:hover {\n",
       "  /* unfitted */\n",
       "  background-color: var(--sklearn-color-unfitted-level-3);\n",
       "  color: var(--sklearn-color-background);\n",
       "  text-decoration: none;\n",
       "}\n",
       "\n",
       "#sk-container-id-3 a.estimator_doc_link.fitted:hover {\n",
       "  /* fitted */\n",
       "  background-color: var(--sklearn-color-fitted-level-3);\n",
       "}\n",
       "</style><div id=\"sk-container-id-3\" class=\"sk-top-container\"><div class=\"sk-text-repr-fallback\"><pre>RandomForestRegressor(random_state=42)</pre><b>In a Jupyter environment, please rerun this cell to show the HTML representation or trust the notebook. <br />On GitHub, the HTML representation is unable to render, please try loading this page with nbviewer.org.</b></div><div class=\"sk-container\" hidden><div class=\"sk-item\"><div class=\"sk-estimator fitted sk-toggleable\"><input class=\"sk-toggleable__control sk-hidden--visually\" id=\"sk-estimator-id-3\" type=\"checkbox\" checked><label for=\"sk-estimator-id-3\" class=\"sk-toggleable__label fitted sk-toggleable__label-arrow fitted\">&nbsp;&nbsp;RandomForestRegressor<a class=\"sk-estimator-doc-link fitted\" rel=\"noreferrer\" target=\"_blank\" href=\"https://scikit-learn.org/1.5/modules/generated/sklearn.ensemble.RandomForestRegressor.html\">?<span>Documentation for RandomForestRegressor</span></a><span class=\"sk-estimator-doc-link fitted\">i<span>Fitted</span></span></label><div class=\"sk-toggleable__content fitted\"><pre>RandomForestRegressor(random_state=42)</pre></div> </div></div></div></div>"
      ],
      "text/plain": [
       "RandomForestRegressor(random_state=42)"
      ]
     },
     "execution_count": 47,
     "metadata": {},
     "output_type": "execute_result"
    }
   ],
   "source": [
    "# RandomForestRegressor 모듈을 불러오는 코드입니다.\n",
    "from sklearn.ensemble import RandomForestRegressor\n",
    "\n",
    "# 불러온 모듈을 model 변수에 할당합니다.\n",
    "model = RandomForestRegressor(random_state = 42)\n",
    "\n",
    "# 학습을 진행합니다.\n",
    "model.fit(x_train, y_train)"
   ]
  },
  {
   "cell_type": "markdown",
   "id": "45674236-0252-44a7-8251-60602403b2a1",
   "metadata": {},
   "source": [
    "### 6. 피처의 중요도 확인"
   ]
  },
  {
   "cell_type": "markdown",
   "id": "5183aa2e-b103-4135-bcdf-3917df8be92a",
   "metadata": {},
   "source": [
    "feature_importances_는 각 피처의 중요도를 나타내는 값으로 값이 클수록 모델의 예측에 큰 영향을 미친다는 것을 의미한다. 중요도 값은 0에서 1 사이의 범위에 있으며, 전체 피처의 중요도 값의 합은 1이다."
   ]
  },
  {
   "cell_type": "code",
   "execution_count": 48,
   "id": "259649a9-8682-434e-8ec8-c2ccd6008dd0",
   "metadata": {},
   "outputs": [
    {
     "name": "stdout",
     "output_type": "stream",
     "text": [
      "[0.14263791 0.41747398 0.00590269 0.00641273 0.42757269]\n",
      "['DHI' 'DNI' 'WS' 'RH' 'T']\n"
     ]
    }
   ],
   "source": [
    "importances = model.feature_importances_\n",
    "names = model.feature_names_in_\n",
    "\n",
    "print(importances)\n",
    "print(names)"
   ]
  },
  {
   "cell_type": "markdown",
   "id": "e6e2e633-88db-4c4a-84ab-b4ec9d2ba2ec",
   "metadata": {},
   "source": [
    "### 7. 특성 중요도 시각화"
   ]
  },
  {
   "cell_type": "markdown",
   "id": "147561e8-7d36-45a1-9d65-72ab32bb06c0",
   "metadata": {},
   "source": [
    "각 피처의 중요도를 시각화해보자"
   ]
  },
  {
   "cell_type": "code",
   "execution_count": 51,
   "id": "dacccc16-6dd3-4765-85b5-602f3e28f082",
   "metadata": {},
   "outputs": [
    {
     "data": {
      "image/png": "[encoded data removed]",
      "text/plain": [
       "<Figure size 640x480 with 1 Axes>"
      ]
     },
     "metadata": {},
     "output_type": "display_data"
    }
   ],
   "source": [
    "ax = sns.barplot(x = names , y = importances)\n",
    "plt.show()"
   ]
  },
  {
   "cell_type": "markdown",
   "id": "9e29eb3c-01e2-433f-98bb-80ff64387d02",
   "metadata": {},
   "source": [
    "### 8. 검증 점수 확인"
   ]
  },
  {
   "cell_type": "code",
   "execution_count": 52,
   "id": "357dd200-cc27-475e-be53-c059d17ccbab",
   "metadata": {},
   "outputs": [],
   "source": [
    "val_predict = model.predict(x_valid)"
   ]
  },
  {
   "cell_type": "markdown",
   "id": "5646089f-564a-4a2d-b297-8e23eea32e33",
   "metadata": {},
   "source": [
    "squared = True: 평균 제곱 오차를 계산할 때 제곱 오차를 사용할지 여부를 나타내는 매개변수이다."
   ]
  },
  {
   "cell_type": "code",
   "execution_count": 53,
   "id": "25b5fc4e-92df-432b-a76b-48ce9fa8643a",
   "metadata": {},
   "outputs": [
    {
     "name": "stderr",
     "output_type": "stream",
     "text": [
      "C:\\Users\\CHOYS\\AppData\\Local\\Programs\\Python\\Python310\\lib\\site-packages\\sklearn\\metrics\\_regression.py:492: FutureWarning: 'squared' is deprecated in version 1.4 and will be removed in 1.6. To calculate the root mean squared error, use the function'root_mean_squared_error'.\n",
      "  warnings.warn(\n"
     ]
    },
    {
     "data": {
      "text/plain": [
       "1.9853186311667101"
      ]
     },
     "execution_count": 53,
     "metadata": {},
     "output_type": "execute_result"
    }
   ],
   "source": [
    "from sklearn.metrics import mean_squared_error\n",
    "\n",
    "mean_squared_error(y_valid, val_predict, squared = True)"
   ]
  },
  {
   "cell_type": "markdown",
   "id": "9e3a7d15-981c-4cf1-892a-e74e6cead0eb",
   "metadata": {},
   "source": [
    "### 9. 모델 예측값 획득"
   ]
  },
  {
   "cell_type": "code",
   "execution_count": 54,
   "id": "9a7bd2da-4171-4035-b059-1c2638580aa0",
   "metadata": {},
   "outputs": [],
   "source": [
    "predict = model.predict(test_x)"
   ]
  },
  {
   "cell_type": "markdown",
   "id": "1e8ae71a-9f73-4840-b2f5-1fa91cb7e70c",
   "metadata": {},
   "source": [
    "### 10. 제출 파일에 값 할당 및 csv 파일 저장"
   ]
  },
  {
   "cell_type": "code",
   "execution_count": 55,
   "id": "3488df16-99ac-4f64-b1b3-aeac168c99d8",
   "metadata": {},
   "outputs": [],
   "source": [
    "submission['TARGET'] = predict\n",
    "\n",
    "# 매개변수는 수정하지 말아주세요.\n",
    "submission.to_csv('data/solar_power/submission.csv', index=False, quoting=2, encoding=\"utf-8-sig\", na_rep=0, float_format='%.6f')"
   ]
  },
  {
   "cell_type": "markdown",
   "id": "faa1b0ee-960e-43f7-a2ac-7a15829597ec",
   "metadata": {},
   "source": [
    "## 스테이지 6"
   ]
  },
  {
   "cell_type": "markdown",
   "id": "4fdcea5b-139e-4aa4-9bb9-1c14953ca51a",
   "metadata": {},
   "source": [
    "### 1. 데이터 읽어오기"
   ]
  },
  {
   "cell_type": "code",
   "execution_count": 86,
   "id": "e33165e1-47d8-4fab-8cbd-6e680c259976",
   "metadata": {},
   "outputs": [],
   "source": [
    "import pandas as pd\n",
    "\n",
    "train = pd.read_csv('data/solar_power/train.csv')\n",
    "test = pd.read_csv('data/solar_power/test.csv')\n",
    "submission = pd.read_csv('data/solar_power/sample_submission.csv')"
   ]
  },
  {
   "cell_type": "markdown",
   "id": "cb23c9cc-c556-4dd3-bd56-225ac95ded70",
   "metadata": {},
   "source": [
    "### 2. 특성 간 상관관계 확인"
   ]
  },
  {
   "cell_type": "code",
   "execution_count": 87,
   "id": "4095c9a0-2345-4124-a48f-77b964010a01",
   "metadata": {},
   "outputs": [
    {
     "data": {
      "image/png": "[encoded data removed]",
      "text/plain": [
       "<Figure size 800x400 with 2 Axes>"
      ]
     },
     "metadata": {},
     "output_type": "display_data"
    }
   ],
   "source": [
    "import matplotlib.pyplot as plt\n",
    "import seaborn as sns\n",
    "\n",
    "# 이번 셀에서 출력할 이미지 크기를 지정합니다. \n",
    "plt.figure(figsize = (8,4))\n",
    "\n",
    "# annot을 False로 설정하면 각 셀의 수치가 표기되지 않습니다.\n",
    "sns.heatmap(train.corr(), annot = True)\n",
    "plt.show()"
   ]
  },
  {
   "cell_type": "markdown",
   "id": "90f8e87b-748b-4744-a884-edae1a4ccbda",
   "metadata": {},
   "source": [
    "### 3. 특성 공학"
   ]
  },
  {
   "cell_type": "code",
   "execution_count": 88,
   "id": "346e27a5-f50a-4058-853c-06bba7651939",
   "metadata": {},
   "outputs": [],
   "source": [
    "train['sunlight'] = train['DHI'] + train['DNI']\n",
    "test['sunlight'] = test['DHI'] + test['DNI']"
   ]
  },
  {
   "cell_type": "markdown",
   "id": "3b88bb82-f9a0-40f3-83f0-75505b017ea0",
   "metadata": {},
   "source": [
    "### 4. 독립변수, 종속변수 설정 및 열 제거"
   ]
  },
  {
   "cell_type": "code",
   "execution_count": 89,
   "id": "bdec9208-96c9-42c1-8b17-62c9abc13dbb",
   "metadata": {},
   "outputs": [],
   "source": [
    "# 독립변수, 종속변수로 분리\n",
    "train_x = train.drop(['TARGET'], axis = 1)\n",
    "train_y = train['TARGET']\n",
    "\n",
    "# ID 특성 제거\n",
    "train_x = train_x.drop('ID', axis = 1)\n",
    "test_x = test.drop('ID', axis = 1) "
   ]
  },
  {
   "cell_type": "markdown",
   "id": "51ff1f34-baf2-49d5-b54d-baf21be574be",
   "metadata": {},
   "source": [
    "### 5. 검증 데이터 만들기"
   ]
  },
  {
   "cell_type": "code",
   "execution_count": 90,
   "id": "065593a5-8b74-4d39-b89f-0ea0c2bb78d7",
   "metadata": {},
   "outputs": [],
   "source": [
    "from sklearn.model_selection import train_test_split\n",
    "\n",
    "x_train, x_valid, y_train, y_valid = train_test_split(train_x, train_y, test_size=0.3, random_state=42)"
   ]
  },
  {
   "cell_type": "markdown",
   "id": "7c2d94c4-41eb-441c-9da0-679d9632ca84",
   "metadata": {},
   "source": [
    "### 6. 의사 결정 나무 모델"
   ]
  },
  {
   "cell_type": "code",
   "execution_count": 91,
   "id": "aa426765-c0c8-4845-9661-97cd4715ca4d",
   "metadata": {},
   "outputs": [
    {
     "name": "stderr",
     "output_type": "stream",
     "text": [
      "C:\\Users\\CHOYS\\AppData\\Local\\Programs\\Python\\Python310\\lib\\site-packages\\sklearn\\metrics\\_regression.py:492: FutureWarning: 'squared' is deprecated in version 1.4 and will be removed in 1.6. To calculate the root mean squared error, use the function'root_mean_squared_error'.\n",
      "  warnings.warn(\n"
     ]
    },
    {
     "data": {
      "text/plain": [
       "3.046787365011482"
      ]
     },
     "execution_count": 91,
     "metadata": {},
     "output_type": "execute_result"
    }
   ],
   "source": [
    "from sklearn.tree import DecisionTreeRegressor\n",
    "from sklearn.metrics import mean_squared_error\n",
    "\n",
    "decision = DecisionTreeRegressor(random_state=42)\n",
    "decision.fit(x_train, y_train)\n",
    "\n",
    "decision_valid = decision.predict(x_valid)\n",
    "\n",
    "mean_squared_error(y_valid, decision_valid, squared=True)"
   ]
  },
  {
   "cell_type": "markdown",
   "id": "eaae7882-2c9c-4f6c-9f5a-82eed7d264fa",
   "metadata": {},
   "source": [
    "### 7. 랜덤 포레스트 모델"
   ]
  },
  {
   "cell_type": "code",
   "execution_count": 92,
   "id": "3ebff647-dfe8-4ff3-b11c-aa83dae3e866",
   "metadata": {},
   "outputs": [
    {
     "name": "stderr",
     "output_type": "stream",
     "text": [
      "C:\\Users\\CHOYS\\AppData\\Local\\Programs\\Python\\Python310\\lib\\site-packages\\sklearn\\metrics\\_regression.py:492: FutureWarning: 'squared' is deprecated in version 1.4 and will be removed in 1.6. To calculate the root mean squared error, use the function'root_mean_squared_error'.\n",
      "  warnings.warn(\n"
     ]
    },
    {
     "data": {
      "text/plain": [
       "1.3192123480746836"
      ]
     },
     "execution_count": 92,
     "metadata": {},
     "output_type": "execute_result"
    }
   ],
   "source": [
    "from sklearn.ensemble import RandomForestRegressor\n",
    "\n",
    "forest = RandomForestRegressor(random_state = 42)\n",
    "forest.fit(x_train, y_train)\n",
    "\n",
    "forest_valid = forest.predict(x_valid)\n",
    "\n",
    "mean_squared_error(y_valid, forest_valid, squared = True)"
   ]
  },
  {
   "cell_type": "markdown",
   "id": "50bab2bd-7c33-4e61-9813-1cdb9acd1dc4",
   "metadata": {},
   "source": [
    "### 8. XGBoost 모델"
   ]
  },
  {
   "cell_type": "markdown",
   "id": "8fb45a35-dabe-40f5-ab0a-f2bd30895f78",
   "metadata": {},
   "source": [
    "XGBoost는 부스팅 알고리즘 중 하나로, 약한 학습기들을 결합하여 강력한 앙상블 모델을 만드는 기법이다. Gradient Boosting 알고리즘을 기반으로 하며, 이전 트리의 오차를 보완하는 방식으로 새로운 트리를 학습시킨다."
   ]
  },
  {
   "cell_type": "code",
   "execution_count": 93,
   "id": "75245e5b-cc6d-4fbd-aeca-22bad339cb2f",
   "metadata": {},
   "outputs": [
    {
     "name": "stderr",
     "output_type": "stream",
     "text": [
      "C:\\Users\\CHOYS\\AppData\\Local\\Programs\\Python\\Python310\\lib\\site-packages\\sklearn\\metrics\\_regression.py:492: FutureWarning: 'squared' is deprecated in version 1.4 and will be removed in 1.6. To calculate the root mean squared error, use the function'root_mean_squared_error'.\n",
      "  warnings.warn(\n"
     ]
    },
    {
     "data": {
      "text/plain": [
       "1.681083652319253"
      ]
     },
     "execution_count": 93,
     "metadata": {},
     "output_type": "execute_result"
    }
   ],
   "source": [
    "from xgboost import XGBRegressor\n",
    "\n",
    "xgb = XGBRegressor(random_state = 42)\n",
    "xgb.fit(x_train, y_train)\n",
    "\n",
    "xgb_valid = xgb.predict(x_valid)\n",
    "\n",
    "mean_squared_error(y_valid, xgb_valid, squared = True)"
   ]
  },
  {
   "cell_type": "markdown",
   "id": "11164938-6305-4e9b-aebc-790b88d8b545",
   "metadata": {},
   "source": [
    "### 9. 하이퍼 파라미터 설정"
   ]
  },
  {
   "cell_type": "markdown",
   "id": "2b61bf5b-9fe9-48e9-be01-7a75c04d48ad",
   "metadata": {},
   "source": [
    "랜덤 포레스트 모델의 하이퍼 파라미터를 설정하여 성능을 향상시켜보자"
   ]
  },
  {
   "cell_type": "markdown",
   "id": "6bbc62a3-f2d0-43cf-bb6c-0c103759338a",
   "metadata": {},
   "source": [
    "* n_estimators는 앙상블에 사용할 트리의 개수이다. 여기는 150개의 트리를 사용하도록 설정하였다. 트리의 개수가 많을수록 모델의 복잡도가 증가하며, 예측 성능이 향상될 수 있지만 너무 많으면 학습 및 예측 시간이 오래 걸린다.\n",
    "* max_depth는 트리의 최대 깊이를 제한한다. 여기는 12로 설정되었다. 트리의 깊이가 깊을수록 모델의 복잡도가 증가하며, 과적합의 위험이 있다.\n",
    "* min_samples_split는 노드를 분할하기 위해 필요한 최소 샘플 개수이다. 샘플 개수가 적은 노드는 더이상 분할이 되지 않는데, 이를 통해 모델의 과적합을 방지할 수 있다."
   ]
  },
  {
   "cell_type": "code",
   "execution_count": 94,
   "id": "263984bd-eb99-4f37-a498-604587b0bab8",
   "metadata": {},
   "outputs": [
    {
     "name": "stderr",
     "output_type": "stream",
     "text": [
      "C:\\Users\\CHOYS\\AppData\\Local\\Programs\\Python\\Python310\\lib\\site-packages\\sklearn\\metrics\\_regression.py:492: FutureWarning: 'squared' is deprecated in version 1.4 and will be removed in 1.6. To calculate the root mean squared error, use the function'root_mean_squared_error'.\n",
      "  warnings.warn(\n"
     ]
    },
    {
     "data": {
      "text/plain": [
       "1.3104242710408287"
      ]
     },
     "execution_count": 94,
     "metadata": {},
     "output_type": "execute_result"
    }
   ],
   "source": [
    "# 하이퍼파라미터는 모델 정의부분에서 조정합니다. \n",
    "forest_hyper = RandomForestRegressor(n_estimators = 150, max_depth = 12, min_samples_split = 2, random_state = 42)\n",
    "\n",
    "forest_hyper.fit(x_train, y_train)\n",
    "\n",
    "forest_hyper_valid = forest_hyper.predict(x_valid)\n",
    "\n",
    "mean_squared_error(y_valid, forest_hyper_valid, squared = True)"
   ]
  },
  {
   "cell_type": "markdown",
   "id": "a433852e-c99c-4c2a-a1a2-11fccd10f005",
   "metadata": {},
   "source": [
    "### 10. 모델 직접 만들기"
   ]
  },
  {
   "cell_type": "code",
   "execution_count": 95,
   "id": "69f1a64a-67bc-406c-8099-0dcb242df1fe",
   "metadata": {},
   "outputs": [
    {
     "name": "stderr",
     "output_type": "stream",
     "text": [
      "C:\\Users\\CHOYS\\AppData\\Local\\Programs\\Python\\Python310\\lib\\site-packages\\sklearn\\metrics\\_regression.py:492: FutureWarning: 'squared' is deprecated in version 1.4 and will be removed in 1.6. To calculate the root mean squared error, use the function'root_mean_squared_error'.\n",
      "  warnings.warn(\n"
     ]
    },
    {
     "data": {
      "text/plain": [
       "1.3104242710408287"
      ]
     },
     "execution_count": 95,
     "metadata": {},
     "output_type": "execute_result"
    }
   ],
   "source": [
    "# 모델 정의\n",
    "my_model = RandomForestRegressor(n_estimators = 150, max_depth = 12, min_samples_split = 2, random_state = 42)\n",
    "\n",
    "# 모델 학습\n",
    "my_model.fit(x_train, y_train)\n",
    "\n",
    "# x_valid 데이터에 대한 모델의 예측값 얻기\n",
    "my_model_valid = my_model.predict(x_valid)\n",
    "\n",
    "# 모델 검증 점수 얻기\n",
    "mean_squared_error(y_valid, my_model_valid, squared = True)"
   ]
  },
  {
   "cell_type": "code",
   "execution_count": 96,
   "id": "414fbdbf-2dfc-4781-b8d2-294ffcbce0bf",
   "metadata": {},
   "outputs": [],
   "source": [
    "my_prediction = my_model.predict(test_x)"
   ]
  },
  {
   "cell_type": "markdown",
   "id": "8d254f44-1df0-4179-bf62-a45e143b7c7b",
   "metadata": {},
   "source": [
    "### 11. 제출 파일에 값 할당 및 csv 파일 저장"
   ]
  },
  {
   "cell_type": "code",
   "execution_count": 98,
   "id": "2e3fdc18-4158-429b-9474-fdc1a327eb0a",
   "metadata": {},
   "outputs": [],
   "source": [
    "submission['TARGET'] = my_prediction\n",
    "\n",
    "# 매개변수는 수정하지 말아주세요.\n",
    "submission.to_csv('data/solar_power/submission.csv', index=False, quoting=2, encoding=\"utf-8-sig\", na_rep=0, float_format='%.6f')"
   ]
  },
  {
   "cell_type": "code",
   "execution_count": null,
   "id": "913b36aa-b334-4bcb-ba7f-844c17e70d21",
   "metadata": {},
   "outputs": [],
   "source": []
  }
 ],
 "metadata": {
  "kernelspec": {
   "display_name": "Python 3 (ipykernel)",
   "language": "python",
   "name": "python3"
  },
  "language_info": {
   "codemirror_mode": {
    "name": "ipython",
    "version": 3
   },
   "file_extension": ".py",
   "mimetype": "text/x-python",
   "name": "python",
   "nbconvert_exporter": "python",
   "pygments_lexer": "ipython3",
   "version": "3.10.6"
  }
 },
 "nbformat": 4,
 "nbformat_minor": 5
}
